{
 "cells": [
  {
   "cell_type": "code",
   "execution_count": 57,
   "metadata": {
    "collapsed": true
   },
   "outputs": [],
   "source": [
    "%matplotlib inline\n",
    "import numpy as np\n",
    "from scipy import stats\n",
    "import pandas as pd\n",
    "import matplotlib.pyplot as plt"
   ]
  },
  {
   "cell_type": "code",
   "execution_count": 96,
   "metadata": {
    "collapsed": true
   },
   "outputs": [],
   "source": [
    "FILE = 'Сводная вегетация.xlsx'"
   ]
  },
  {
   "cell_type": "code",
   "execution_count": 97,
   "metadata": {},
   "outputs": [
    {
     "data": {
      "text/plain": [
       "['2016',\n",
       " '2015',\n",
       " '2014',\n",
       " '2013',\n",
       " '2012',\n",
       " 'по полям',\n",
       " 'зимний анализ',\n",
       " 'Модель Озимая пшеница']"
      ]
     },
     "execution_count": 97,
     "metadata": {},
     "output_type": "execute_result"
    }
   ],
   "source": [
    "xls = pd.ExcelFile(FILE, on_demand=True)\n",
    "xls.sheet_names"
   ]
  },
  {
   "cell_type": "code",
   "execution_count": 98,
   "metadata": {},
   "outputs": [
    {
     "data": {
      "text/html": [
       "<div>\n",
       "<style>\n",
       "    .dataframe thead tr:only-child th {\n",
       "        text-align: right;\n",
       "    }\n",
       "\n",
       "    .dataframe thead th {\n",
       "        text-align: left;\n",
       "    }\n",
       "\n",
       "    .dataframe tbody tr th {\n",
       "        vertical-align: top;\n",
       "    }\n",
       "</style>\n",
       "<table border=\"1\" class=\"dataframe\">\n",
       "  <thead>\n",
       "    <tr style=\"text-align: right;\">\n",
       "      <th></th>\n",
       "      <th>Каталог групп полей</th>\n",
       "      <th>Группа полей</th>\n",
       "      <th>Поле</th>\n",
       "      <th>Расчетная площадь, га</th>\n",
       "      <th>Официальная площадь, га</th>\n",
       "      <th>Обрабатываемая площадь, га</th>\n",
       "      <th>Культура 2013</th>\n",
       "      <th>Культура (Короткое название) 2013</th>\n",
       "      <th>Культура 2014</th>\n",
       "      <th>Культура (Короткое название) 2014</th>\n",
       "      <th>...</th>\n",
       "      <th>неделя 10</th>\n",
       "      <th>неделя 09</th>\n",
       "      <th>неделя 08</th>\n",
       "      <th>неделя 07</th>\n",
       "      <th>неделя 06</th>\n",
       "      <th>неделя 05</th>\n",
       "      <th>неделя 04</th>\n",
       "      <th>неделя 03</th>\n",
       "      <th>неделя 02</th>\n",
       "      <th>неделя 01</th>\n",
       "    </tr>\n",
       "  </thead>\n",
       "  <tbody>\n",
       "    <tr>\n",
       "      <th>0</th>\n",
       "      <td>Свитанок</td>\n",
       "      <td>Масив 1</td>\n",
       "      <td>10</td>\n",
       "      <td>2.93</td>\n",
       "      <td>2.93</td>\n",
       "      <td>2.93</td>\n",
       "      <td>Пар</td>\n",
       "      <td>NaN</td>\n",
       "      <td>Подсолнечник</td>\n",
       "      <td>NaN</td>\n",
       "      <td>...</td>\n",
       "      <td>0.330</td>\n",
       "      <td>0.295</td>\n",
       "      <td>NaN</td>\n",
       "      <td>NaN</td>\n",
       "      <td>NaN</td>\n",
       "      <td>NaN</td>\n",
       "      <td>NaN</td>\n",
       "      <td>NaN</td>\n",
       "      <td>0.277</td>\n",
       "      <td>0.276</td>\n",
       "    </tr>\n",
       "    <tr>\n",
       "      <th>1</th>\n",
       "      <td>Свитанок</td>\n",
       "      <td>Масив 1</td>\n",
       "      <td>100</td>\n",
       "      <td>15.89</td>\n",
       "      <td>15.89</td>\n",
       "      <td>15.89</td>\n",
       "      <td>Кукуруза</td>\n",
       "      <td>NaN</td>\n",
       "      <td>Подсолнечник</td>\n",
       "      <td>NaN</td>\n",
       "      <td>...</td>\n",
       "      <td>0.290</td>\n",
       "      <td>0.292</td>\n",
       "      <td>NaN</td>\n",
       "      <td>NaN</td>\n",
       "      <td>NaN</td>\n",
       "      <td>NaN</td>\n",
       "      <td>NaN</td>\n",
       "      <td>NaN</td>\n",
       "      <td>0.315</td>\n",
       "      <td>0.319</td>\n",
       "    </tr>\n",
       "    <tr>\n",
       "      <th>2</th>\n",
       "      <td>Свитанок</td>\n",
       "      <td>Масив 1</td>\n",
       "      <td>101</td>\n",
       "      <td>7.80</td>\n",
       "      <td>7.80</td>\n",
       "      <td>7.80</td>\n",
       "      <td>NaN</td>\n",
       "      <td>NaN</td>\n",
       "      <td>Подсолнечник</td>\n",
       "      <td>NaN</td>\n",
       "      <td>...</td>\n",
       "      <td>0.273</td>\n",
       "      <td>0.273</td>\n",
       "      <td>NaN</td>\n",
       "      <td>NaN</td>\n",
       "      <td>NaN</td>\n",
       "      <td>NaN</td>\n",
       "      <td>NaN</td>\n",
       "      <td>NaN</td>\n",
       "      <td>0.268</td>\n",
       "      <td>0.267</td>\n",
       "    </tr>\n",
       "    <tr>\n",
       "      <th>3</th>\n",
       "      <td>Свитанок</td>\n",
       "      <td>Масив 1</td>\n",
       "      <td>105</td>\n",
       "      <td>2.13</td>\n",
       "      <td>2.13</td>\n",
       "      <td>2.13</td>\n",
       "      <td>Кукуруза</td>\n",
       "      <td>NaN</td>\n",
       "      <td>Подсолнечник</td>\n",
       "      <td>NaN</td>\n",
       "      <td>...</td>\n",
       "      <td>0.334</td>\n",
       "      <td>0.333</td>\n",
       "      <td>NaN</td>\n",
       "      <td>NaN</td>\n",
       "      <td>NaN</td>\n",
       "      <td>NaN</td>\n",
       "      <td>NaN</td>\n",
       "      <td>NaN</td>\n",
       "      <td>0.335</td>\n",
       "      <td>0.238</td>\n",
       "    </tr>\n",
       "    <tr>\n",
       "      <th>4</th>\n",
       "      <td>Свитанок</td>\n",
       "      <td>Масив 1</td>\n",
       "      <td>106</td>\n",
       "      <td>5.86</td>\n",
       "      <td>5.86</td>\n",
       "      <td>5.86</td>\n",
       "      <td>Кукуруза</td>\n",
       "      <td>NaN</td>\n",
       "      <td>Подсолнечник</td>\n",
       "      <td>NaN</td>\n",
       "      <td>...</td>\n",
       "      <td>0.329</td>\n",
       "      <td>0.314</td>\n",
       "      <td>NaN</td>\n",
       "      <td>NaN</td>\n",
       "      <td>NaN</td>\n",
       "      <td>NaN</td>\n",
       "      <td>NaN</td>\n",
       "      <td>NaN</td>\n",
       "      <td>0.302</td>\n",
       "      <td>0.278</td>\n",
       "    </tr>\n",
       "  </tbody>\n",
       "</table>\n",
       "<p>5 rows × 69 columns</p>\n",
       "</div>"
      ],
      "text/plain": [
       "  Каталог групп полей Группа полей Поле  Расчетная площадь, га  \\\n",
       "0            Свитанок      Масив 1   10                   2.93   \n",
       "1            Свитанок      Масив 1  100                  15.89   \n",
       "2            Свитанок      Масив 1  101                   7.80   \n",
       "3            Свитанок      Масив 1  105                   2.13   \n",
       "4            Свитанок      Масив 1  106                   5.86   \n",
       "\n",
       "   Официальная площадь, га  Обрабатываемая площадь, га Культура 2013  \\\n",
       "0                     2.93                        2.93           Пар   \n",
       "1                    15.89                       15.89      Кукуруза   \n",
       "2                     7.80                        7.80           NaN   \n",
       "3                     2.13                        2.13      Кукуруза   \n",
       "4                     5.86                        5.86      Кукуруза   \n",
       "\n",
       "   Культура (Короткое название) 2013 Культура 2014  \\\n",
       "0                                NaN  Подсолнечник   \n",
       "1                                NaN  Подсолнечник   \n",
       "2                                NaN  Подсолнечник   \n",
       "3                                NaN  Подсолнечник   \n",
       "4                                NaN  Подсолнечник   \n",
       "\n",
       "   Культура (Короткое название) 2014    ...     неделя 10  неделя 09  \\\n",
       "0                                NaN    ...         0.330      0.295   \n",
       "1                                NaN    ...         0.290      0.292   \n",
       "2                                NaN    ...         0.273      0.273   \n",
       "3                                NaN    ...         0.334      0.333   \n",
       "4                                NaN    ...         0.329      0.314   \n",
       "\n",
       "  неделя 08  неделя 07  неделя 06 неделя 05 неделя 04  неделя 03  неделя 02  \\\n",
       "0       NaN        NaN        NaN       NaN       NaN        NaN      0.277   \n",
       "1       NaN        NaN        NaN       NaN       NaN        NaN      0.315   \n",
       "2       NaN        NaN        NaN       NaN       NaN        NaN      0.268   \n",
       "3       NaN        NaN        NaN       NaN       NaN        NaN      0.335   \n",
       "4       NaN        NaN        NaN       NaN       NaN        NaN      0.302   \n",
       "\n",
       "   неделя 01  \n",
       "0      0.276  \n",
       "1      0.319  \n",
       "2      0.267  \n",
       "3      0.238  \n",
       "4      0.278  \n",
       "\n",
       "[5 rows x 69 columns]"
      ]
     },
     "execution_count": 98,
     "metadata": {},
     "output_type": "execute_result"
    }
   ],
   "source": [
    "df = pd.read_excel(FILE, sheetname='2014', header=1)\n",
    "df.head()"
   ]
  },
  {
   "cell_type": "code",
   "execution_count": 85,
   "metadata": {
    "scrolled": true
   },
   "outputs": [
    {
     "data": {
      "text/plain": [
       "Index(['Каталог групп полей', 'Группа полей', 'Поле', 'Расчетная площадь, га',\n",
       "       'Официальная площадь, га', 'Обрабатываемая площадь, га',\n",
       "       'Культура 2013', 'Культура (Короткое название) 2013', 'Культура 2014',\n",
       "       'Культура (Короткое название) 2014', 'Культура 2015',\n",
       "       'Культура (Короткое название) 2015', 'Сорт', 'Урожайность, т./га.',\n",
       "       'Плановая урожайность по Cropo, т./га.', 'Дата сева', 'Дата уборки',\n",
       "       'неделя 52', 'неделя 51', 'неделя 50', 'неделя 49', 'неделя 48',\n",
       "       'неделя 47', 'неделя 46', 'неделя 45', 'неделя 44', 'неделя 43',\n",
       "       'неделя 42', 'неделя 41', 'неделя 40', 'неделя 39', 'неделя 38',\n",
       "       'неделя 37', 'неделя 36', 'неделя 35', 'неделя 34', 'неделя 33',\n",
       "       'неделя 32', 'неделя 31', 'неделя 30', 'неделя 29', 'неделя 28',\n",
       "       'неделя 27', 'неделя 26', 'неделя 25', 'неделя 24', 'неделя 23',\n",
       "       'неделя 22', 'неделя 21', 'неделя 20', 'неделя 19', 'неделя 18',\n",
       "       'неделя 17', 'неделя 16', 'неделя 15', 'неделя 14', 'неделя 13',\n",
       "       'неделя 12', 'неделя 11', 'неделя 10', 'неделя 09', 'неделя 08',\n",
       "       'неделя 07', 'неделя 06', 'неделя 05', 'неделя 04', 'неделя 03',\n",
       "       'неделя 02', 'неделя 01'],\n",
       "      dtype='object')"
      ]
     },
     "execution_count": 85,
     "metadata": {},
     "output_type": "execute_result"
    }
   ],
   "source": [
    "df.columns"
   ]
  },
  {
   "cell_type": "code",
   "execution_count": 117,
   "metadata": {},
   "outputs": [
    {
     "name": "stdout",
     "output_type": "stream",
     "text": [
      "['неделя 52', 'неделя 51', 'неделя 50', 'неделя 49', 'неделя 48', 'неделя 47', 'неделя 46', 'неделя 45', 'неделя 44', 'неделя 43', 'неделя 42', 'неделя 41', 'неделя 40', 'неделя 39', 'неделя 38', 'неделя 37', 'неделя 36', 'неделя 35', 'неделя 34', 'неделя 33', 'неделя 32', 'неделя 31', 'неделя 30', 'неделя 29', 'неделя 28', 'неделя 27', 'неделя 26', 'неделя 25', 'неделя 24', 'неделя 23', 'неделя 22', 'неделя 21', 'неделя 20', 'неделя 19', 'неделя 18', 'неделя 17', 'неделя 16', 'неделя 15', 'неделя 14', 'неделя 13', 'неделя 12', 'неделя 11', 'неделя 10', 'неделя 09', 'неделя 08', 'неделя 07', 'неделя 06', 'неделя 05', 'неделя 04', 'неделя 03', 'неделя 02', 'неделя 01']\n"
     ]
    }
   ],
   "source": [
    "NDVI_COLUMNS = [col for col in df.columns if 'неделя' in col]\n",
    "CULTURE_COLUMN = 'Культура 2014'\n",
    "YIELD_COLUMN = 'Урожайность, т./га.'\n",
    "\n",
    "print(NDVI_COLUMNS)"
   ]
  },
  {
   "cell_type": "code",
   "execution_count": 100,
   "metadata": {},
   "outputs": [],
   "source": [
    "df_cultures = df.groupby(df[CULTURE_COLUMN]).mean()"
   ]
  },
  {
   "cell_type": "code",
   "execution_count": 101,
   "metadata": {},
   "outputs": [
    {
     "data": {
      "text/html": [
       "<div>\n",
       "<style>\n",
       "    .dataframe thead tr:only-child th {\n",
       "        text-align: right;\n",
       "    }\n",
       "\n",
       "    .dataframe thead th {\n",
       "        text-align: left;\n",
       "    }\n",
       "\n",
       "    .dataframe tbody tr th {\n",
       "        vertical-align: top;\n",
       "    }\n",
       "</style>\n",
       "<table border=\"1\" class=\"dataframe\">\n",
       "  <thead>\n",
       "    <tr style=\"text-align: right;\">\n",
       "      <th></th>\n",
       "      <th>Расчетная площадь, га</th>\n",
       "      <th>Официальная площадь, га</th>\n",
       "      <th>Обрабатываемая площадь, га</th>\n",
       "      <th>Культура (Короткое название) 2013</th>\n",
       "      <th>Культура (Короткое название) 2014</th>\n",
       "      <th>Культура (Короткое название) 2015</th>\n",
       "      <th>Урожайность, т./га.</th>\n",
       "      <th>Плановая урожайность по Cropo, т./га.</th>\n",
       "      <th>неделя 52</th>\n",
       "      <th>неделя 51</th>\n",
       "      <th>...</th>\n",
       "      <th>неделя 10</th>\n",
       "      <th>неделя 09</th>\n",
       "      <th>неделя 08</th>\n",
       "      <th>неделя 07</th>\n",
       "      <th>неделя 06</th>\n",
       "      <th>неделя 05</th>\n",
       "      <th>неделя 04</th>\n",
       "      <th>неделя 03</th>\n",
       "      <th>неделя 02</th>\n",
       "      <th>неделя 01</th>\n",
       "    </tr>\n",
       "    <tr>\n",
       "      <th>Культура 2014</th>\n",
       "      <th></th>\n",
       "      <th></th>\n",
       "      <th></th>\n",
       "      <th></th>\n",
       "      <th></th>\n",
       "      <th></th>\n",
       "      <th></th>\n",
       "      <th></th>\n",
       "      <th></th>\n",
       "      <th></th>\n",
       "      <th></th>\n",
       "      <th></th>\n",
       "      <th></th>\n",
       "      <th></th>\n",
       "      <th></th>\n",
       "      <th></th>\n",
       "      <th></th>\n",
       "      <th></th>\n",
       "      <th></th>\n",
       "      <th></th>\n",
       "      <th></th>\n",
       "    </tr>\n",
       "  </thead>\n",
       "  <tbody>\n",
       "    <tr>\n",
       "      <th>Кукуруза</th>\n",
       "      <td>37.724000</td>\n",
       "      <td>38.976000</td>\n",
       "      <td>38.976000</td>\n",
       "      <td>NaN</td>\n",
       "      <td>NaN</td>\n",
       "      <td>NaN</td>\n",
       "      <td>3.049583</td>\n",
       "      <td>3.537600</td>\n",
       "      <td>NaN</td>\n",
       "      <td>NaN</td>\n",
       "      <td>...</td>\n",
       "      <td>0.282200</td>\n",
       "      <td>0.278480</td>\n",
       "      <td>NaN</td>\n",
       "      <td>NaN</td>\n",
       "      <td>NaN</td>\n",
       "      <td>NaN</td>\n",
       "      <td>NaN</td>\n",
       "      <td>NaN</td>\n",
       "      <td>0.272600</td>\n",
       "      <td>0.268120</td>\n",
       "    </tr>\n",
       "    <tr>\n",
       "      <th>Пар</th>\n",
       "      <td>25.150000</td>\n",
       "      <td>25.150000</td>\n",
       "      <td>25.150000</td>\n",
       "      <td>NaN</td>\n",
       "      <td>NaN</td>\n",
       "      <td>NaN</td>\n",
       "      <td>NaN</td>\n",
       "      <td>0.000000</td>\n",
       "      <td>NaN</td>\n",
       "      <td>NaN</td>\n",
       "      <td>...</td>\n",
       "      <td>0.268000</td>\n",
       "      <td>0.276000</td>\n",
       "      <td>NaN</td>\n",
       "      <td>NaN</td>\n",
       "      <td>NaN</td>\n",
       "      <td>NaN</td>\n",
       "      <td>NaN</td>\n",
       "      <td>NaN</td>\n",
       "      <td>0.275000</td>\n",
       "      <td>0.271000</td>\n",
       "    </tr>\n",
       "    <tr>\n",
       "      <th>Подсолнечник</th>\n",
       "      <td>31.463148</td>\n",
       "      <td>31.645370</td>\n",
       "      <td>31.727222</td>\n",
       "      <td>NaN</td>\n",
       "      <td>NaN</td>\n",
       "      <td>NaN</td>\n",
       "      <td>2.185962</td>\n",
       "      <td>2.033889</td>\n",
       "      <td>NaN</td>\n",
       "      <td>NaN</td>\n",
       "      <td>...</td>\n",
       "      <td>0.286241</td>\n",
       "      <td>0.287407</td>\n",
       "      <td>NaN</td>\n",
       "      <td>NaN</td>\n",
       "      <td>NaN</td>\n",
       "      <td>NaN</td>\n",
       "      <td>NaN</td>\n",
       "      <td>NaN</td>\n",
       "      <td>0.287889</td>\n",
       "      <td>0.298241</td>\n",
       "    </tr>\n",
       "    <tr>\n",
       "      <th>Пшеница озимая</th>\n",
       "      <td>39.690476</td>\n",
       "      <td>39.907143</td>\n",
       "      <td>39.907143</td>\n",
       "      <td>NaN</td>\n",
       "      <td>NaN</td>\n",
       "      <td>NaN</td>\n",
       "      <td>4.244634</td>\n",
       "      <td>3.704286</td>\n",
       "      <td>NaN</td>\n",
       "      <td>0.181</td>\n",
       "      <td>...</td>\n",
       "      <td>0.414833</td>\n",
       "      <td>0.418095</td>\n",
       "      <td>NaN</td>\n",
       "      <td>NaN</td>\n",
       "      <td>NaN</td>\n",
       "      <td>NaN</td>\n",
       "      <td>NaN</td>\n",
       "      <td>NaN</td>\n",
       "      <td>0.425690</td>\n",
       "      <td>0.397000</td>\n",
       "    </tr>\n",
       "    <tr>\n",
       "      <th>Рапс озимый</th>\n",
       "      <td>29.225000</td>\n",
       "      <td>29.225000</td>\n",
       "      <td>29.225000</td>\n",
       "      <td>NaN</td>\n",
       "      <td>NaN</td>\n",
       "      <td>NaN</td>\n",
       "      <td>2.335000</td>\n",
       "      <td>2.687500</td>\n",
       "      <td>NaN</td>\n",
       "      <td>NaN</td>\n",
       "      <td>...</td>\n",
       "      <td>0.388250</td>\n",
       "      <td>0.401250</td>\n",
       "      <td>NaN</td>\n",
       "      <td>NaN</td>\n",
       "      <td>NaN</td>\n",
       "      <td>NaN</td>\n",
       "      <td>NaN</td>\n",
       "      <td>NaN</td>\n",
       "      <td>0.476500</td>\n",
       "      <td>0.447500</td>\n",
       "    </tr>\n",
       "  </tbody>\n",
       "</table>\n",
       "<p>5 rows × 60 columns</p>\n",
       "</div>"
      ],
      "text/plain": [
       "                Расчетная площадь, га  Официальная площадь, га  \\\n",
       "Культура 2014                                                    \n",
       "Кукуруза                    37.724000                38.976000   \n",
       "Пар                         25.150000                25.150000   \n",
       "Подсолнечник                31.463148                31.645370   \n",
       "Пшеница озимая              39.690476                39.907143   \n",
       "Рапс озимый                 29.225000                29.225000   \n",
       "\n",
       "                Обрабатываемая площадь, га  Культура (Короткое название) 2013  \\\n",
       "Культура 2014                                                                   \n",
       "Кукуруза                         38.976000                                NaN   \n",
       "Пар                              25.150000                                NaN   \n",
       "Подсолнечник                     31.727222                                NaN   \n",
       "Пшеница озимая                   39.907143                                NaN   \n",
       "Рапс озимый                      29.225000                                NaN   \n",
       "\n",
       "                Культура (Короткое название) 2014  \\\n",
       "Культура 2014                                       \n",
       "Кукуруза                                      NaN   \n",
       "Пар                                           NaN   \n",
       "Подсолнечник                                  NaN   \n",
       "Пшеница озимая                                NaN   \n",
       "Рапс озимый                                   NaN   \n",
       "\n",
       "                Культура (Короткое название) 2015  Урожайность, т./га.  \\\n",
       "Культура 2014                                                            \n",
       "Кукуруза                                      NaN             3.049583   \n",
       "Пар                                           NaN                  NaN   \n",
       "Подсолнечник                                  NaN             2.185962   \n",
       "Пшеница озимая                                NaN             4.244634   \n",
       "Рапс озимый                                   NaN             2.335000   \n",
       "\n",
       "                Плановая урожайность по Cropo, т./га.  неделя 52  неделя 51  \\\n",
       "Культура 2014                                                                 \n",
       "Кукуруза                                     3.537600        NaN        NaN   \n",
       "Пар                                          0.000000        NaN        NaN   \n",
       "Подсолнечник                                 2.033889        NaN        NaN   \n",
       "Пшеница озимая                               3.704286        NaN      0.181   \n",
       "Рапс озимый                                  2.687500        NaN        NaN   \n",
       "\n",
       "                  ...      неделя 10  неделя 09  неделя 08  неделя 07  \\\n",
       "Культура 2014     ...                                                   \n",
       "Кукуруза          ...       0.282200   0.278480        NaN        NaN   \n",
       "Пар               ...       0.268000   0.276000        NaN        NaN   \n",
       "Подсолнечник      ...       0.286241   0.287407        NaN        NaN   \n",
       "Пшеница озимая    ...       0.414833   0.418095        NaN        NaN   \n",
       "Рапс озимый       ...       0.388250   0.401250        NaN        NaN   \n",
       "\n",
       "                неделя 06  неделя 05  неделя 04  неделя 03  неделя 02  \\\n",
       "Культура 2014                                                           \n",
       "Кукуруза              NaN        NaN        NaN        NaN   0.272600   \n",
       "Пар                   NaN        NaN        NaN        NaN   0.275000   \n",
       "Подсолнечник          NaN        NaN        NaN        NaN   0.287889   \n",
       "Пшеница озимая        NaN        NaN        NaN        NaN   0.425690   \n",
       "Рапс озимый           NaN        NaN        NaN        NaN   0.476500   \n",
       "\n",
       "                неделя 01  \n",
       "Культура 2014              \n",
       "Кукуруза         0.268120  \n",
       "Пар              0.271000  \n",
       "Подсолнечник     0.298241  \n",
       "Пшеница озимая   0.397000  \n",
       "Рапс озимый      0.447500  \n",
       "\n",
       "[5 rows x 60 columns]"
      ]
     },
     "execution_count": 101,
     "metadata": {},
     "output_type": "execute_result"
    }
   ],
   "source": [
    "df_cultures.head()"
   ]
  },
  {
   "cell_type": "code",
   "execution_count": 102,
   "metadata": {},
   "outputs": [
    {
     "data": {
      "text/plain": [
       "<matplotlib.axes._subplots.AxesSubplot at 0x1a187ef2e8>"
      ]
     },
     "execution_count": 102,
     "metadata": {},
     "output_type": "execute_result"
    },
    {
     "data": {
      "image/png": "[encoded data removed]",
      "text/plain": [
       "<matplotlib.figure.Figure at 0x1a184ed4a8>"
      ]
     },
     "metadata": {},
     "output_type": "display_data"
    }
   ],
   "source": [
    "df_cultures[NDVI_COLUMNS].T.plot()"
   ]
  },
  {
   "cell_type": "code",
   "execution_count": 103,
   "metadata": {},
   "outputs": [
    {
     "data": {
      "text/plain": [
       "(155, 69)"
      ]
     },
     "execution_count": 103,
     "metadata": {},
     "output_type": "execute_result"
    }
   ],
   "source": [
    "df.shape"
   ]
  },
  {
   "cell_type": "code",
   "execution_count": 146,
   "metadata": {},
   "outputs": [],
   "source": [
    "df_wheat = df[df[CULTURE_COLUMN] == 'Пшеница озимая']"
   ]
  },
  {
   "cell_type": "code",
   "execution_count": 147,
   "metadata": {},
   "outputs": [
    {
     "data": {
      "text/html": [
       "<div>\n",
       "<style>\n",
       "    .dataframe thead tr:only-child th {\n",
       "        text-align: right;\n",
       "    }\n",
       "\n",
       "    .dataframe thead th {\n",
       "        text-align: left;\n",
       "    }\n",
       "\n",
       "    .dataframe tbody tr th {\n",
       "        vertical-align: top;\n",
       "    }\n",
       "</style>\n",
       "<table border=\"1\" class=\"dataframe\">\n",
       "  <thead>\n",
       "    <tr style=\"text-align: right;\">\n",
       "      <th></th>\n",
       "      <th>NDVI</th>\n",
       "      <th>Yield</th>\n",
       "    </tr>\n",
       "  </thead>\n",
       "  <tbody>\n",
       "    <tr>\n",
       "      <th>5</th>\n",
       "      <td>0.483135</td>\n",
       "      <td>6.13</td>\n",
       "    </tr>\n",
       "    <tr>\n",
       "      <th>6</th>\n",
       "      <td>0.482676</td>\n",
       "      <td>6.95</td>\n",
       "    </tr>\n",
       "    <tr>\n",
       "      <th>7</th>\n",
       "      <td>0.485730</td>\n",
       "      <td>6.23</td>\n",
       "    </tr>\n",
       "    <tr>\n",
       "      <th>9</th>\n",
       "      <td>0.420605</td>\n",
       "      <td>3.10</td>\n",
       "    </tr>\n",
       "    <tr>\n",
       "      <th>10</th>\n",
       "      <td>0.420342</td>\n",
       "      <td>4.72</td>\n",
       "    </tr>\n",
       "  </tbody>\n",
       "</table>\n",
       "</div>"
      ],
      "text/plain": [
       "        NDVI  Yield\n",
       "5   0.483135   6.13\n",
       "6   0.482676   6.95\n",
       "7   0.485730   6.23\n",
       "9   0.420605   3.10\n",
       "10  0.420342   4.72"
      ]
     },
     "execution_count": 147,
     "metadata": {},
     "output_type": "execute_result"
    }
   ],
   "source": [
    "wheat_ndvi = df_wheat[NDVI_COLUMNS].T.mean().T\n",
    "wheat_yield = df_wheat[YIELD_COLUMN]\n",
    "\n",
    "df_wheat = pd.concat([wheat_ndvi, wheat_yield], axis=1)\n",
    "df_wheat.columns = ['NDVI', 'Yield']\n",
    "df_wheat.head()"
   ]
  },
  {
   "cell_type": "code",
   "execution_count": 151,
   "metadata": {},
   "outputs": [
    {
     "name": "stdout",
     "output_type": "stream",
     "text": [
      "<class 'pandas.core.frame.DataFrame'>\n",
      "Int64Index: 42 entries, 5 to 143\n",
      "Data columns (total 2 columns):\n",
      "NDVI     42 non-null float64\n",
      "Yield    41 non-null float64\n",
      "dtypes: float64(2)\n",
      "memory usage: 2.2 KB\n"
     ]
    }
   ],
   "source": [
    "df_wheat.info()"
   ]
  },
  {
   "cell_type": "code",
   "execution_count": 153,
   "metadata": {},
   "outputs": [
    {
     "name": "stdout",
     "output_type": "stream",
     "text": [
      "<class 'pandas.core.frame.DataFrame'>\n",
      "Int64Index: 41 entries, 5 to 143\n",
      "Data columns (total 2 columns):\n",
      "NDVI     41 non-null float64\n",
      "Yield    41 non-null float64\n",
      "dtypes: float64(2)\n",
      "memory usage: 984.0 bytes\n"
     ]
    }
   ],
   "source": [
    "df_wheat = df_wheat.dropna()\n",
    "df_wheat.info()"
   ]
  },
  {
   "cell_type": "code",
   "execution_count": 154,
   "metadata": {},
   "outputs": [
    {
     "data": {
      "text/plain": [
       "array([[ 1.       ,  0.7523363],\n",
       "       [ 0.7523363,  1.       ]])"
      ]
     },
     "execution_count": 154,
     "metadata": {},
     "output_type": "execute_result"
    }
   ],
   "source": [
    "np.corrcoef(df_wheat.NDVI, df_wheat.Yield)"
   ]
  },
  {
   "cell_type": "code",
   "execution_count": 157,
   "metadata": {},
   "outputs": [
    {
     "data": {
      "text/plain": [
       "Ttest_indResult(statistic=-16.978669646731582, pvalue=3.0023551929916378e-28)"
      ]
     },
     "execution_count": 157,
     "metadata": {},
     "output_type": "execute_result"
    }
   ],
   "source": [
    "stats.ttest_ind(df_wheat.NDVI, df_wheat.Yield)"
   ]
  },
  {
   "cell_type": "code",
   "execution_count": null,
   "metadata": {
    "collapsed": true
   },
   "outputs": [],
   "source": []
  }
 ],
 "metadata": {
  "kernelspec": {
   "display_name": "Python 3",
   "language": "python",
   "name": "python3"
  },
  "language_info": {
   "codemirror_mode": {
    "name": "ipython",
    "version": 3
   },
   "file_extension": ".py",
   "mimetype": "text/x-python",
   "name": "python",
   "nbconvert_exporter": "python",
   "pygments_lexer": "ipython3",
   "version": "3.6.2"
  }
 },
 "nbformat": 4,
 "nbformat_minor": 2
}
