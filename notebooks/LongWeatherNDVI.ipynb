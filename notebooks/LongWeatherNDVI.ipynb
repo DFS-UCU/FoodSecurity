{
 "cells": [
  {
   "cell_type": "code",
   "execution_count": 215,
   "metadata": {
    "collapsed": true
   },
   "outputs": [],
   "source": [
    "%matplotlib inline\n",
    "import numpy as np\n",
    "import pandas as pd\n",
    "\n",
    "from sklearn.preprocessing import MinMaxScaler, LabelEncoder\n",
    "\n",
    "from sklearn.svm import SVR\n",
    "from sklearn.ensemble import RandomForestRegressor\n",
    "from sklearn.linear_model import LinearRegression, Ridge\n",
    "\n",
    "from sklearn.metrics import r2_score\n",
    "\n",
    "import matplotlib.pyplot as plt\n",
    "import seaborn as sns\n",
    "\n",
    "sns.set()\n",
    "sns.set_style(\"white\")"
   ]
  },
  {
   "cell_type": "code",
   "execution_count": 216,
   "metadata": {
    "collapsed": true
   },
   "outputs": [],
   "source": [
    "years = [2012, 2013, 2014, 2015, 2016]"
   ]
  },
  {
   "cell_type": "markdown",
   "metadata": {},
   "source": [
    "## Preparing Weather Data"
   ]
  },
  {
   "cell_type": "code",
   "execution_count": 217,
   "metadata": {},
   "outputs": [
    {
     "data": {
      "text/plain": [
       "(1824, 22)"
      ]
     },
     "execution_count": 217,
     "metadata": {},
     "output_type": "execute_result"
    }
   ],
   "source": [
    "weather_data = pd.DataFrame()\n",
    "\n",
    "for year in years:\n",
    "    year_data = pd.read_csv('../data/{}.csv'.format(year), index_col=0)\n",
    "    weather_data = pd.concat([weather_data, year_data])\n",
    "    \n",
    "weather_data.shape"
   ]
  },
  {
   "cell_type": "code",
   "execution_count": 218,
   "metadata": {},
   "outputs": [
    {
     "data": {
      "text/plain": [
       "Index(['stn', 'wban', 'yearmoda', 'temp', 'count_temp', 'dewp', 'count_dewp',\n",
       "       'slp', 'count_slp', 'stp', 'count_stp', 'visib', 'count_visib', 'wdsp',\n",
       "       'count_wdsp', 'mxspd', 'gust', 'max', 'min', 'prcp', 'sndp', 'frshtt'],\n",
       "      dtype='object')"
      ]
     },
     "execution_count": 218,
     "metadata": {},
     "output_type": "execute_result"
    }
   ],
   "source": [
    "weather_data.columns"
   ]
  },
  {
   "cell_type": "code",
   "execution_count": 219,
   "metadata": {},
   "outputs": [
    {
     "data": {
      "text/html": [
       "<div>\n",
       "<style>\n",
       "    .dataframe thead tr:only-child th {\n",
       "        text-align: right;\n",
       "    }\n",
       "\n",
       "    .dataframe thead th {\n",
       "        text-align: left;\n",
       "    }\n",
       "\n",
       "    .dataframe tbody tr th {\n",
       "        vertical-align: top;\n",
       "    }\n",
       "</style>\n",
       "<table border=\"1\" class=\"dataframe\">\n",
       "  <thead>\n",
       "    <tr style=\"text-align: right;\">\n",
       "      <th></th>\n",
       "      <th>stn</th>\n",
       "      <th>wban</th>\n",
       "      <th>yearmoda</th>\n",
       "      <th>temp</th>\n",
       "      <th>count_temp</th>\n",
       "      <th>dewp</th>\n",
       "      <th>count_dewp</th>\n",
       "      <th>slp</th>\n",
       "      <th>count_slp</th>\n",
       "      <th>stp</th>\n",
       "      <th>...</th>\n",
       "      <th>count_visib</th>\n",
       "      <th>wdsp</th>\n",
       "      <th>count_wdsp</th>\n",
       "      <th>mxspd</th>\n",
       "      <th>gust</th>\n",
       "      <th>max</th>\n",
       "      <th>min</th>\n",
       "      <th>prcp</th>\n",
       "      <th>sndp</th>\n",
       "      <th>frshtt</th>\n",
       "    </tr>\n",
       "  </thead>\n",
       "  <tbody>\n",
       "    <tr>\n",
       "      <th>0</th>\n",
       "      <td>337610</td>\n",
       "      <td>99999</td>\n",
       "      <td>20120101</td>\n",
       "      <td>28.8</td>\n",
       "      <td>8</td>\n",
       "      <td>25.7</td>\n",
       "      <td>8</td>\n",
       "      <td>1019.2</td>\n",
       "      <td>8</td>\n",
       "      <td>996.1</td>\n",
       "      <td>...</td>\n",
       "      <td>8</td>\n",
       "      <td>4.4</td>\n",
       "      <td>8</td>\n",
       "      <td>5.8</td>\n",
       "      <td>999.9</td>\n",
       "      <td>33.8</td>\n",
       "      <td>24.8</td>\n",
       "      <td>0.00I</td>\n",
       "      <td>999.9</td>\n",
       "      <td>100000</td>\n",
       "    </tr>\n",
       "    <tr>\n",
       "      <th>1</th>\n",
       "      <td>337610</td>\n",
       "      <td>99999</td>\n",
       "      <td>20120102</td>\n",
       "      <td>30.2</td>\n",
       "      <td>8</td>\n",
       "      <td>26.0</td>\n",
       "      <td>8</td>\n",
       "      <td>1021.2</td>\n",
       "      <td>8</td>\n",
       "      <td>998.2</td>\n",
       "      <td>...</td>\n",
       "      <td>8</td>\n",
       "      <td>5.3</td>\n",
       "      <td>8</td>\n",
       "      <td>7.8</td>\n",
       "      <td>999.9</td>\n",
       "      <td>35.6</td>\n",
       "      <td>24.4</td>\n",
       "      <td>0.00I</td>\n",
       "      <td>999.9</td>\n",
       "      <td>0</td>\n",
       "    </tr>\n",
       "    <tr>\n",
       "      <th>2</th>\n",
       "      <td>337610</td>\n",
       "      <td>99999</td>\n",
       "      <td>20120103</td>\n",
       "      <td>34.3</td>\n",
       "      <td>8</td>\n",
       "      <td>31.1</td>\n",
       "      <td>8</td>\n",
       "      <td>1020.3</td>\n",
       "      <td>8</td>\n",
       "      <td>997.5</td>\n",
       "      <td>...</td>\n",
       "      <td>8</td>\n",
       "      <td>5.1</td>\n",
       "      <td>8</td>\n",
       "      <td>7.8</td>\n",
       "      <td>999.9</td>\n",
       "      <td>37.9</td>\n",
       "      <td>29.7</td>\n",
       "      <td>0.00I</td>\n",
       "      <td>999.9</td>\n",
       "      <td>0</td>\n",
       "    </tr>\n",
       "    <tr>\n",
       "      <th>3</th>\n",
       "      <td>337610</td>\n",
       "      <td>99999</td>\n",
       "      <td>20120104</td>\n",
       "      <td>35.9</td>\n",
       "      <td>8</td>\n",
       "      <td>35.8</td>\n",
       "      <td>8</td>\n",
       "      <td>1017.7</td>\n",
       "      <td>8</td>\n",
       "      <td>995.0</td>\n",
       "      <td>...</td>\n",
       "      <td>8</td>\n",
       "      <td>6.1</td>\n",
       "      <td>8</td>\n",
       "      <td>7.8</td>\n",
       "      <td>999.9</td>\n",
       "      <td>39.2</td>\n",
       "      <td>31.8</td>\n",
       "      <td>0.00I</td>\n",
       "      <td>999.9</td>\n",
       "      <td>100000</td>\n",
       "    </tr>\n",
       "    <tr>\n",
       "      <th>4</th>\n",
       "      <td>337610</td>\n",
       "      <td>99999</td>\n",
       "      <td>20120105</td>\n",
       "      <td>36.5</td>\n",
       "      <td>8</td>\n",
       "      <td>35.4</td>\n",
       "      <td>8</td>\n",
       "      <td>1005.9</td>\n",
       "      <td>8</td>\n",
       "      <td>983.5</td>\n",
       "      <td>...</td>\n",
       "      <td>8</td>\n",
       "      <td>6.1</td>\n",
       "      <td>8</td>\n",
       "      <td>11.7</td>\n",
       "      <td>999.9</td>\n",
       "      <td>41.9</td>\n",
       "      <td>32.2</td>\n",
       "      <td>99.99</td>\n",
       "      <td>999.9</td>\n",
       "      <td>110000</td>\n",
       "    </tr>\n",
       "  </tbody>\n",
       "</table>\n",
       "<p>5 rows × 22 columns</p>\n",
       "</div>"
      ],
      "text/plain": [
       "      stn   wban  yearmoda  temp  count_temp  dewp  count_dewp     slp  \\\n",
       "0  337610  99999  20120101  28.8           8  25.7           8  1019.2   \n",
       "1  337610  99999  20120102  30.2           8  26.0           8  1021.2   \n",
       "2  337610  99999  20120103  34.3           8  31.1           8  1020.3   \n",
       "3  337610  99999  20120104  35.9           8  35.8           8  1017.7   \n",
       "4  337610  99999  20120105  36.5           8  35.4           8  1005.9   \n",
       "\n",
       "   count_slp    stp   ...    count_visib  wdsp  count_wdsp  mxspd   gust  \\\n",
       "0          8  996.1   ...              8   4.4           8    5.8  999.9   \n",
       "1          8  998.2   ...              8   5.3           8    7.8  999.9   \n",
       "2          8  997.5   ...              8   5.1           8    7.8  999.9   \n",
       "3          8  995.0   ...              8   6.1           8    7.8  999.9   \n",
       "4          8  983.5   ...              8   6.1           8   11.7  999.9   \n",
       "\n",
       "    max   min   prcp   sndp  frshtt  \n",
       "0  33.8  24.8  0.00I  999.9  100000  \n",
       "1  35.6  24.4  0.00I  999.9       0  \n",
       "2  37.9  29.7  0.00I  999.9       0  \n",
       "3  39.2  31.8  0.00I  999.9  100000  \n",
       "4  41.9  32.2  99.99  999.9  110000  \n",
       "\n",
       "[5 rows x 22 columns]"
      ]
     },
     "execution_count": 219,
     "metadata": {},
     "output_type": "execute_result"
    }
   ],
   "source": [
    "weather_data.head()"
   ]
  },
  {
   "cell_type": "code",
   "execution_count": 220,
   "metadata": {
    "collapsed": true
   },
   "outputs": [],
   "source": [
    "weather_data.drop(weather_data.columns[[0, 1,4,6,8,10,12,14,16]], axis=1, inplace=True)\n",
    "weather_data['year'] = weather_data['yearmoda'] // 10000\n",
    "weather_data['month'] = weather_data['yearmoda'] // 100 % 100\n",
    "weather_data['day'] = weather_data['yearmoda'] % 100\n",
    "weather_data['sndp'].replace(999.9,0, inplace = True)\n",
    "weather_data['yearmoda1'] = weather_data['yearmoda'].astype(str).apply(lambda x: x[:9])\n",
    "weather_data.index = pd.to_datetime(weather_data['yearmoda1'], format='%Y%m%d').values\n",
    "weather_data.drop(weather_data.columns[[0,16]], axis=1, inplace=True)\n",
    "for x in weather_data[weather_data['wdsp'] == 999.9].index:\n",
    "    weather_data.loc[x,'wdsp'] = np.NaN\n",
    "weather_data['wdsp'] = weather_data['wdsp'].interpolate(method='time')\n",
    "for x in weather_data[weather_data['mxspd'] == 999.9].index:\n",
    "    weather_data.loc[x,'mxspd'] = np.NaN\n",
    "weather_data['mxspd'] = weather_data['mxspd'].interpolate(method='time')\n",
    "for x in weather_data[weather_data['prcp'] == '99.99'].index:\n",
    "    weather_data.loc[x,'prcp'] = np.NaN\n",
    "for x in weather_data.index:\n",
    "    if (str(weather_data.loc[x,'prcp'])[-1] == 'I') or (str(weather_data.loc[x,'prcp'])[-1] == 'H'):\n",
    "        weather_data.loc[x,'prcp'] = np.NaN\n",
    "for x in weather_data[weather_data['prcp'].notnull()].index:\n",
    "    weather_data.loc[x,'prcp'] = weather_data.loc[x,'prcp'][:-1]\n",
    "for x in weather_data.index:\n",
    "    if (str(weather_data.loc[x,'max'])[-1] == '*'):\n",
    "        weather_data.loc[x,'max'] = weather_data.loc[x,'max'][:-1]\n",
    "    if (str(weather_data.loc[x,'min'])[-1] == '*'):\n",
    "        weather_data.loc[x,'min'] = weather_data.loc[x,'min'][:-1]\n",
    "weather_data['max']=weather_data['max'].astype(np.float64)\n",
    "weather_data['min']=weather_data['min'].astype(np.float64)\n",
    "weather_data['prcp']=weather_data['prcp'].astype(np.float64)\n",
    "weather_data['prcp'] = weather_data['prcp'].interpolate(method='time')"
   ]
  },
  {
   "cell_type": "code",
   "execution_count": 221,
   "metadata": {
    "collapsed": true
   },
   "outputs": [],
   "source": [
    "weather_data['fog'] = weather_data['frshtt'] // 100000\n",
    "weather_data['rain'] = weather_data['frshtt'] // 10000 % 10\n",
    "weather_data['snow'] = weather_data['frshtt'] // 1000 % 10\n",
    "weather_data['hail'] = weather_data['frshtt'] // 100 % 10\n",
    "weather_data['thunder'] = weather_data['frshtt'] // 10 % 10\n",
    "weather_data['tornado'] = weather_data['frshtt'] % 10\n",
    "weather_data.drop(['frshtt'],axis = 1, inplace = True)"
   ]
  },
  {
   "cell_type": "code",
   "execution_count": 222,
   "metadata": {},
   "outputs": [
    {
     "data": {
      "text/html": [
       "<div>\n",
       "<style>\n",
       "    .dataframe thead tr:only-child th {\n",
       "        text-align: right;\n",
       "    }\n",
       "\n",
       "    .dataframe thead th {\n",
       "        text-align: left;\n",
       "    }\n",
       "\n",
       "    .dataframe tbody tr th {\n",
       "        vertical-align: top;\n",
       "    }\n",
       "</style>\n",
       "<table border=\"1\" class=\"dataframe\">\n",
       "  <thead>\n",
       "    <tr style=\"text-align: right;\">\n",
       "      <th></th>\n",
       "      <th>temp</th>\n",
       "      <th>dewp</th>\n",
       "      <th>slp</th>\n",
       "      <th>stp</th>\n",
       "      <th>visib</th>\n",
       "      <th>wdsp</th>\n",
       "      <th>mxspd</th>\n",
       "      <th>max</th>\n",
       "      <th>min</th>\n",
       "      <th>prcp</th>\n",
       "      <th>sndp</th>\n",
       "      <th>year</th>\n",
       "      <th>month</th>\n",
       "      <th>day</th>\n",
       "      <th>fog</th>\n",
       "      <th>rain</th>\n",
       "      <th>snow</th>\n",
       "      <th>hail</th>\n",
       "      <th>thunder</th>\n",
       "      <th>tornado</th>\n",
       "    </tr>\n",
       "  </thead>\n",
       "  <tbody>\n",
       "    <tr>\n",
       "      <th>2012-01-01</th>\n",
       "      <td>28.8</td>\n",
       "      <td>25.7</td>\n",
       "      <td>1019.2</td>\n",
       "      <td>996.1</td>\n",
       "      <td>6.4</td>\n",
       "      <td>4.4</td>\n",
       "      <td>5.8</td>\n",
       "      <td>33.8</td>\n",
       "      <td>24.8</td>\n",
       "      <td>NaN</td>\n",
       "      <td>0.0</td>\n",
       "      <td>2012</td>\n",
       "      <td>1</td>\n",
       "      <td>1</td>\n",
       "      <td>1</td>\n",
       "      <td>0</td>\n",
       "      <td>0</td>\n",
       "      <td>0</td>\n",
       "      <td>0</td>\n",
       "      <td>0</td>\n",
       "    </tr>\n",
       "    <tr>\n",
       "      <th>2012-01-02</th>\n",
       "      <td>30.2</td>\n",
       "      <td>26.0</td>\n",
       "      <td>1021.2</td>\n",
       "      <td>998.2</td>\n",
       "      <td>8.4</td>\n",
       "      <td>5.3</td>\n",
       "      <td>7.8</td>\n",
       "      <td>35.6</td>\n",
       "      <td>24.4</td>\n",
       "      <td>NaN</td>\n",
       "      <td>0.0</td>\n",
       "      <td>2012</td>\n",
       "      <td>1</td>\n",
       "      <td>2</td>\n",
       "      <td>0</td>\n",
       "      <td>0</td>\n",
       "      <td>0</td>\n",
       "      <td>0</td>\n",
       "      <td>0</td>\n",
       "      <td>0</td>\n",
       "    </tr>\n",
       "    <tr>\n",
       "      <th>2012-01-03</th>\n",
       "      <td>34.3</td>\n",
       "      <td>31.1</td>\n",
       "      <td>1020.3</td>\n",
       "      <td>997.5</td>\n",
       "      <td>5.8</td>\n",
       "      <td>5.1</td>\n",
       "      <td>7.8</td>\n",
       "      <td>37.9</td>\n",
       "      <td>29.7</td>\n",
       "      <td>NaN</td>\n",
       "      <td>0.0</td>\n",
       "      <td>2012</td>\n",
       "      <td>1</td>\n",
       "      <td>3</td>\n",
       "      <td>0</td>\n",
       "      <td>0</td>\n",
       "      <td>0</td>\n",
       "      <td>0</td>\n",
       "      <td>0</td>\n",
       "      <td>0</td>\n",
       "    </tr>\n",
       "    <tr>\n",
       "      <th>2012-01-04</th>\n",
       "      <td>35.9</td>\n",
       "      <td>35.8</td>\n",
       "      <td>1017.7</td>\n",
       "      <td>995.0</td>\n",
       "      <td>0.4</td>\n",
       "      <td>6.1</td>\n",
       "      <td>7.8</td>\n",
       "      <td>39.2</td>\n",
       "      <td>31.8</td>\n",
       "      <td>NaN</td>\n",
       "      <td>0.0</td>\n",
       "      <td>2012</td>\n",
       "      <td>1</td>\n",
       "      <td>4</td>\n",
       "      <td>1</td>\n",
       "      <td>0</td>\n",
       "      <td>0</td>\n",
       "      <td>0</td>\n",
       "      <td>0</td>\n",
       "      <td>0</td>\n",
       "    </tr>\n",
       "    <tr>\n",
       "      <th>2012-01-05</th>\n",
       "      <td>36.5</td>\n",
       "      <td>35.4</td>\n",
       "      <td>1005.9</td>\n",
       "      <td>983.5</td>\n",
       "      <td>3.1</td>\n",
       "      <td>6.1</td>\n",
       "      <td>11.7</td>\n",
       "      <td>41.9</td>\n",
       "      <td>32.2</td>\n",
       "      <td>NaN</td>\n",
       "      <td>0.0</td>\n",
       "      <td>2012</td>\n",
       "      <td>1</td>\n",
       "      <td>5</td>\n",
       "      <td>1</td>\n",
       "      <td>1</td>\n",
       "      <td>0</td>\n",
       "      <td>0</td>\n",
       "      <td>0</td>\n",
       "      <td>0</td>\n",
       "    </tr>\n",
       "  </tbody>\n",
       "</table>\n",
       "</div>"
      ],
      "text/plain": [
       "            temp  dewp     slp    stp  visib  wdsp  mxspd   max   min  prcp  \\\n",
       "2012-01-01  28.8  25.7  1019.2  996.1    6.4   4.4    5.8  33.8  24.8   NaN   \n",
       "2012-01-02  30.2  26.0  1021.2  998.2    8.4   5.3    7.8  35.6  24.4   NaN   \n",
       "2012-01-03  34.3  31.1  1020.3  997.5    5.8   5.1    7.8  37.9  29.7   NaN   \n",
       "2012-01-04  35.9  35.8  1017.7  995.0    0.4   6.1    7.8  39.2  31.8   NaN   \n",
       "2012-01-05  36.5  35.4  1005.9  983.5    3.1   6.1   11.7  41.9  32.2   NaN   \n",
       "\n",
       "            sndp  year  month  day  fog  rain  snow  hail  thunder  tornado  \n",
       "2012-01-01   0.0  2012      1    1    1     0     0     0        0        0  \n",
       "2012-01-02   0.0  2012      1    2    0     0     0     0        0        0  \n",
       "2012-01-03   0.0  2012      1    3    0     0     0     0        0        0  \n",
       "2012-01-04   0.0  2012      1    4    1     0     0     0        0        0  \n",
       "2012-01-05   0.0  2012      1    5    1     1     0     0        0        0  "
      ]
     },
     "execution_count": 222,
     "metadata": {},
     "output_type": "execute_result"
    }
   ],
   "source": [
    "weather_data.head()"
   ]
  },
  {
   "cell_type": "code",
   "execution_count": 223,
   "metadata": {
    "collapsed": true
   },
   "outputs": [],
   "source": [
    "columns = [col for col in weather_data.columns if col not in ['month', 'day']]\n",
    "weather_data = weather_data[columns]"
   ]
  },
  {
   "cell_type": "code",
   "execution_count": 224,
   "metadata": {
    "collapsed": true,
    "scrolled": true
   },
   "outputs": [],
   "source": [
    "weather_data['week'] = weather_data.index.week"
   ]
  },
  {
   "cell_type": "code",
   "execution_count": 225,
   "metadata": {
    "collapsed": true
   },
   "outputs": [],
   "source": [
    "weather_data_week = weather_data.groupby(['year', 'week']).mean()"
   ]
  },
  {
   "cell_type": "code",
   "execution_count": 226,
   "metadata": {
    "scrolled": true
   },
   "outputs": [
    {
     "data": {
      "text/html": [
       "<div>\n",
       "<style>\n",
       "    .dataframe thead tr:only-child th {\n",
       "        text-align: right;\n",
       "    }\n",
       "\n",
       "    .dataframe thead th {\n",
       "        text-align: left;\n",
       "    }\n",
       "\n",
       "    .dataframe tbody tr th {\n",
       "        vertical-align: top;\n",
       "    }\n",
       "</style>\n",
       "<table border=\"1\" class=\"dataframe\">\n",
       "  <thead>\n",
       "    <tr style=\"text-align: right;\">\n",
       "      <th></th>\n",
       "      <th></th>\n",
       "      <th>temp</th>\n",
       "      <th>dewp</th>\n",
       "      <th>slp</th>\n",
       "      <th>stp</th>\n",
       "      <th>visib</th>\n",
       "      <th>wdsp</th>\n",
       "      <th>mxspd</th>\n",
       "      <th>max</th>\n",
       "      <th>min</th>\n",
       "      <th>prcp</th>\n",
       "      <th>sndp</th>\n",
       "      <th>fog</th>\n",
       "      <th>rain</th>\n",
       "      <th>snow</th>\n",
       "      <th>hail</th>\n",
       "      <th>thunder</th>\n",
       "      <th>tornado</th>\n",
       "    </tr>\n",
       "    <tr>\n",
       "      <th>year</th>\n",
       "      <th>week</th>\n",
       "      <th></th>\n",
       "      <th></th>\n",
       "      <th></th>\n",
       "      <th></th>\n",
       "      <th></th>\n",
       "      <th></th>\n",
       "      <th></th>\n",
       "      <th></th>\n",
       "      <th></th>\n",
       "      <th></th>\n",
       "      <th></th>\n",
       "      <th></th>\n",
       "      <th></th>\n",
       "      <th></th>\n",
       "      <th></th>\n",
       "      <th></th>\n",
       "      <th></th>\n",
       "    </tr>\n",
       "  </thead>\n",
       "  <tbody>\n",
       "    <tr>\n",
       "      <th rowspan=\"5\" valign=\"top\">2012</th>\n",
       "      <th>1</th>\n",
       "      <td>33.975000</td>\n",
       "      <td>31.125000</td>\n",
       "      <td>1013.012500</td>\n",
       "      <td>990.325000</td>\n",
       "      <td>5.025000</td>\n",
       "      <td>6.275000</td>\n",
       "      <td>9.250000</td>\n",
       "      <td>37.850000</td>\n",
       "      <td>29.687500</td>\n",
       "      <td>0.174167</td>\n",
       "      <td>0.487500</td>\n",
       "      <td>0.250000</td>\n",
       "      <td>0.375000</td>\n",
       "      <td>0.250000</td>\n",
       "      <td>0.0</td>\n",
       "      <td>0.0</td>\n",
       "      <td>0.0</td>\n",
       "    </tr>\n",
       "    <tr>\n",
       "      <th>2</th>\n",
       "      <td>30.142857</td>\n",
       "      <td>26.471429</td>\n",
       "      <td>1014.542857</td>\n",
       "      <td>991.642857</td>\n",
       "      <td>8.185714</td>\n",
       "      <td>6.242857</td>\n",
       "      <td>8.042857</td>\n",
       "      <td>34.471429</td>\n",
       "      <td>25.871429</td>\n",
       "      <td>0.053571</td>\n",
       "      <td>1.857143</td>\n",
       "      <td>0.000000</td>\n",
       "      <td>0.142857</td>\n",
       "      <td>0.285714</td>\n",
       "      <td>0.0</td>\n",
       "      <td>0.0</td>\n",
       "      <td>0.0</td>\n",
       "    </tr>\n",
       "    <tr>\n",
       "      <th>3</th>\n",
       "      <td>24.685714</td>\n",
       "      <td>22.685714</td>\n",
       "      <td>1016.514286</td>\n",
       "      <td>993.285714</td>\n",
       "      <td>4.442857</td>\n",
       "      <td>4.442857</td>\n",
       "      <td>6.942857</td>\n",
       "      <td>28.500000</td>\n",
       "      <td>20.142857</td>\n",
       "      <td>0.184286</td>\n",
       "      <td>2.485714</td>\n",
       "      <td>0.142857</td>\n",
       "      <td>0.142857</td>\n",
       "      <td>0.857143</td>\n",
       "      <td>0.0</td>\n",
       "      <td>0.0</td>\n",
       "      <td>0.0</td>\n",
       "    </tr>\n",
       "    <tr>\n",
       "      <th>4</th>\n",
       "      <td>13.242857</td>\n",
       "      <td>8.028571</td>\n",
       "      <td>1026.742857</td>\n",
       "      <td>1002.700000</td>\n",
       "      <td>8.300000</td>\n",
       "      <td>8.500000</td>\n",
       "      <td>11.371429</td>\n",
       "      <td>17.428571</td>\n",
       "      <td>9.600000</td>\n",
       "      <td>0.067500</td>\n",
       "      <td>8.814286</td>\n",
       "      <td>0.428571</td>\n",
       "      <td>0.000000</td>\n",
       "      <td>0.000000</td>\n",
       "      <td>0.0</td>\n",
       "      <td>0.0</td>\n",
       "      <td>0.0</td>\n",
       "    </tr>\n",
       "    <tr>\n",
       "      <th>5</th>\n",
       "      <td>2.885714</td>\n",
       "      <td>-2.000000</td>\n",
       "      <td>1035.971429</td>\n",
       "      <td>1011.200000</td>\n",
       "      <td>11.328571</td>\n",
       "      <td>8.085714</td>\n",
       "      <td>11.100000</td>\n",
       "      <td>8.028571</td>\n",
       "      <td>-2.800000</td>\n",
       "      <td>0.034643</td>\n",
       "      <td>7.785714</td>\n",
       "      <td>0.000000</td>\n",
       "      <td>0.000000</td>\n",
       "      <td>0.285714</td>\n",
       "      <td>0.0</td>\n",
       "      <td>0.0</td>\n",
       "      <td>0.0</td>\n",
       "    </tr>\n",
       "  </tbody>\n",
       "</table>\n",
       "</div>"
      ],
      "text/plain": [
       "                temp       dewp          slp          stp      visib  \\\n",
       "year week                                                              \n",
       "2012 1     33.975000  31.125000  1013.012500   990.325000   5.025000   \n",
       "     2     30.142857  26.471429  1014.542857   991.642857   8.185714   \n",
       "     3     24.685714  22.685714  1016.514286   993.285714   4.442857   \n",
       "     4     13.242857   8.028571  1026.742857  1002.700000   8.300000   \n",
       "     5      2.885714  -2.000000  1035.971429  1011.200000  11.328571   \n",
       "\n",
       "               wdsp      mxspd        max        min      prcp      sndp  \\\n",
       "year week                                                                  \n",
       "2012 1     6.275000   9.250000  37.850000  29.687500  0.174167  0.487500   \n",
       "     2     6.242857   8.042857  34.471429  25.871429  0.053571  1.857143   \n",
       "     3     4.442857   6.942857  28.500000  20.142857  0.184286  2.485714   \n",
       "     4     8.500000  11.371429  17.428571   9.600000  0.067500  8.814286   \n",
       "     5     8.085714  11.100000   8.028571  -2.800000  0.034643  7.785714   \n",
       "\n",
       "                fog      rain      snow  hail  thunder  tornado  \n",
       "year week                                                        \n",
       "2012 1     0.250000  0.375000  0.250000   0.0      0.0      0.0  \n",
       "     2     0.000000  0.142857  0.285714   0.0      0.0      0.0  \n",
       "     3     0.142857  0.142857  0.857143   0.0      0.0      0.0  \n",
       "     4     0.428571  0.000000  0.000000   0.0      0.0      0.0  \n",
       "     5     0.000000  0.000000  0.285714   0.0      0.0      0.0  "
      ]
     },
     "execution_count": 226,
     "metadata": {},
     "output_type": "execute_result"
    }
   ],
   "source": [
    "weather_data_week.head()"
   ]
  },
  {
   "cell_type": "code",
   "execution_count": 227,
   "metadata": {},
   "outputs": [
    {
     "data": {
      "text/html": [
       "<div>\n",
       "<style>\n",
       "    .dataframe thead tr:only-child th {\n",
       "        text-align: right;\n",
       "    }\n",
       "\n",
       "    .dataframe thead th {\n",
       "        text-align: left;\n",
       "    }\n",
       "\n",
       "    .dataframe tbody tr th {\n",
       "        vertical-align: top;\n",
       "    }\n",
       "</style>\n",
       "<table border=\"1\" class=\"dataframe\">\n",
       "  <thead>\n",
       "    <tr style=\"text-align: right;\">\n",
       "      <th></th>\n",
       "      <th>year</th>\n",
       "      <th>week</th>\n",
       "      <th>temp</th>\n",
       "      <th>dewp</th>\n",
       "      <th>slp</th>\n",
       "      <th>stp</th>\n",
       "      <th>visib</th>\n",
       "      <th>wdsp</th>\n",
       "      <th>mxspd</th>\n",
       "      <th>max</th>\n",
       "      <th>min</th>\n",
       "      <th>prcp</th>\n",
       "      <th>sndp</th>\n",
       "      <th>fog</th>\n",
       "      <th>rain</th>\n",
       "      <th>snow</th>\n",
       "      <th>hail</th>\n",
       "      <th>thunder</th>\n",
       "      <th>tornado</th>\n",
       "    </tr>\n",
       "  </thead>\n",
       "  <tbody>\n",
       "    <tr>\n",
       "      <th>0</th>\n",
       "      <td>2012</td>\n",
       "      <td>1</td>\n",
       "      <td>33.975000</td>\n",
       "      <td>31.125000</td>\n",
       "      <td>1013.012500</td>\n",
       "      <td>990.325000</td>\n",
       "      <td>5.025000</td>\n",
       "      <td>6.275000</td>\n",
       "      <td>9.250000</td>\n",
       "      <td>37.850000</td>\n",
       "      <td>29.687500</td>\n",
       "      <td>0.174167</td>\n",
       "      <td>0.487500</td>\n",
       "      <td>0.250000</td>\n",
       "      <td>0.375000</td>\n",
       "      <td>0.250000</td>\n",
       "      <td>0.0</td>\n",
       "      <td>0.0</td>\n",
       "      <td>0.0</td>\n",
       "    </tr>\n",
       "    <tr>\n",
       "      <th>1</th>\n",
       "      <td>2012</td>\n",
       "      <td>2</td>\n",
       "      <td>30.142857</td>\n",
       "      <td>26.471429</td>\n",
       "      <td>1014.542857</td>\n",
       "      <td>991.642857</td>\n",
       "      <td>8.185714</td>\n",
       "      <td>6.242857</td>\n",
       "      <td>8.042857</td>\n",
       "      <td>34.471429</td>\n",
       "      <td>25.871429</td>\n",
       "      <td>0.053571</td>\n",
       "      <td>1.857143</td>\n",
       "      <td>0.000000</td>\n",
       "      <td>0.142857</td>\n",
       "      <td>0.285714</td>\n",
       "      <td>0.0</td>\n",
       "      <td>0.0</td>\n",
       "      <td>0.0</td>\n",
       "    </tr>\n",
       "    <tr>\n",
       "      <th>2</th>\n",
       "      <td>2012</td>\n",
       "      <td>3</td>\n",
       "      <td>24.685714</td>\n",
       "      <td>22.685714</td>\n",
       "      <td>1016.514286</td>\n",
       "      <td>993.285714</td>\n",
       "      <td>4.442857</td>\n",
       "      <td>4.442857</td>\n",
       "      <td>6.942857</td>\n",
       "      <td>28.500000</td>\n",
       "      <td>20.142857</td>\n",
       "      <td>0.184286</td>\n",
       "      <td>2.485714</td>\n",
       "      <td>0.142857</td>\n",
       "      <td>0.142857</td>\n",
       "      <td>0.857143</td>\n",
       "      <td>0.0</td>\n",
       "      <td>0.0</td>\n",
       "      <td>0.0</td>\n",
       "    </tr>\n",
       "    <tr>\n",
       "      <th>3</th>\n",
       "      <td>2012</td>\n",
       "      <td>4</td>\n",
       "      <td>13.242857</td>\n",
       "      <td>8.028571</td>\n",
       "      <td>1026.742857</td>\n",
       "      <td>1002.700000</td>\n",
       "      <td>8.300000</td>\n",
       "      <td>8.500000</td>\n",
       "      <td>11.371429</td>\n",
       "      <td>17.428571</td>\n",
       "      <td>9.600000</td>\n",
       "      <td>0.067500</td>\n",
       "      <td>8.814286</td>\n",
       "      <td>0.428571</td>\n",
       "      <td>0.000000</td>\n",
       "      <td>0.000000</td>\n",
       "      <td>0.0</td>\n",
       "      <td>0.0</td>\n",
       "      <td>0.0</td>\n",
       "    </tr>\n",
       "    <tr>\n",
       "      <th>4</th>\n",
       "      <td>2012</td>\n",
       "      <td>5</td>\n",
       "      <td>2.885714</td>\n",
       "      <td>-2.000000</td>\n",
       "      <td>1035.971429</td>\n",
       "      <td>1011.200000</td>\n",
       "      <td>11.328571</td>\n",
       "      <td>8.085714</td>\n",
       "      <td>11.100000</td>\n",
       "      <td>8.028571</td>\n",
       "      <td>-2.800000</td>\n",
       "      <td>0.034643</td>\n",
       "      <td>7.785714</td>\n",
       "      <td>0.000000</td>\n",
       "      <td>0.000000</td>\n",
       "      <td>0.285714</td>\n",
       "      <td>0.0</td>\n",
       "      <td>0.0</td>\n",
       "      <td>0.0</td>\n",
       "    </tr>\n",
       "  </tbody>\n",
       "</table>\n",
       "</div>"
      ],
      "text/plain": [
       "   year  week       temp       dewp          slp          stp      visib  \\\n",
       "0  2012     1  33.975000  31.125000  1013.012500   990.325000   5.025000   \n",
       "1  2012     2  30.142857  26.471429  1014.542857   991.642857   8.185714   \n",
       "2  2012     3  24.685714  22.685714  1016.514286   993.285714   4.442857   \n",
       "3  2012     4  13.242857   8.028571  1026.742857  1002.700000   8.300000   \n",
       "4  2012     5   2.885714  -2.000000  1035.971429  1011.200000  11.328571   \n",
       "\n",
       "       wdsp      mxspd        max        min      prcp      sndp       fog  \\\n",
       "0  6.275000   9.250000  37.850000  29.687500  0.174167  0.487500  0.250000   \n",
       "1  6.242857   8.042857  34.471429  25.871429  0.053571  1.857143  0.000000   \n",
       "2  4.442857   6.942857  28.500000  20.142857  0.184286  2.485714  0.142857   \n",
       "3  8.500000  11.371429  17.428571   9.600000  0.067500  8.814286  0.428571   \n",
       "4  8.085714  11.100000   8.028571  -2.800000  0.034643  7.785714  0.000000   \n",
       "\n",
       "       rain      snow  hail  thunder  tornado  \n",
       "0  0.375000  0.250000   0.0      0.0      0.0  \n",
       "1  0.142857  0.285714   0.0      0.0      0.0  \n",
       "2  0.142857  0.857143   0.0      0.0      0.0  \n",
       "3  0.000000  0.000000   0.0      0.0      0.0  \n",
       "4  0.000000  0.285714   0.0      0.0      0.0  "
      ]
     },
     "execution_count": 227,
     "metadata": {},
     "output_type": "execute_result"
    }
   ],
   "source": [
    "weather_data_week.reset_index(inplace=True)\n",
    "weather_data_week.head()"
   ]
  },
  {
   "cell_type": "markdown",
   "metadata": {},
   "source": [
    "## Preparing Yield Data"
   ]
  },
  {
   "cell_type": "code",
   "execution_count": 228,
   "metadata": {
    "collapsed": true
   },
   "outputs": [],
   "source": [
    "def get_year_culture_week_ndvi():\n",
    "    data = pd.DataFrame(columns = ['year', 'culture', 'field', 'week', 'ndvi', 'yields'])\n",
    "    \n",
    "    for year in years:\n",
    "        df = pd.read_excel('../Сводная вегетация.xlsx', sheetname=str(year), header=1)\n",
    "\n",
    "        ndvi_columns = [col for col in df.columns if 'неделя' in col]\n",
    "        culture_column = 'Культура ' + str(year)\n",
    "        field_column = 'Поле'\n",
    "        yields_column = 'Урожайность, т./га.'\n",
    "        interesting_columns = [culture_column, field_column] + ndvi_columns + [yields_column]\n",
    "        \n",
    "        df = df[interesting_columns]\n",
    "        data_array = []\n",
    "        \n",
    "        for i in range(df.shape[0]):\n",
    "            for j in range(2, df.shape[1] - 1):\n",
    "                culture = df.iloc[i][culture_column]\n",
    "                field = df.iloc[i][field_column]\n",
    "                week = df.columns[j].replace('неделя ', '')\n",
    "                ndvi = df.iloc[i, j]\n",
    "                yields = df.iloc[i][yields_column]\n",
    "                \n",
    "                row = [year, culture, field, week, ndvi, yields]\n",
    "                data_array.append(row)\n",
    "                \n",
    "        data_array = np.array(data_array)\n",
    "        data_frame = pd.DataFrame(data_array, columns=data.columns)\n",
    "        data = pd.concat([data, data_frame[data_frame['ndvi'] != 'nan']])\n",
    "        \n",
    "    return data"
   ]
  },
  {
   "cell_type": "code",
   "execution_count": 229,
   "metadata": {
    "scrolled": true
   },
   "outputs": [
    {
     "data": {
      "text/html": [
       "<div>\n",
       "<style>\n",
       "    .dataframe thead tr:only-child th {\n",
       "        text-align: right;\n",
       "    }\n",
       "\n",
       "    .dataframe thead th {\n",
       "        text-align: left;\n",
       "    }\n",
       "\n",
       "    .dataframe tbody tr th {\n",
       "        vertical-align: top;\n",
       "    }\n",
       "</style>\n",
       "<table border=\"1\" class=\"dataframe\">\n",
       "  <thead>\n",
       "    <tr style=\"text-align: right;\">\n",
       "      <th></th>\n",
       "      <th>year</th>\n",
       "      <th>culture</th>\n",
       "      <th>field</th>\n",
       "      <th>week</th>\n",
       "      <th>ndvi</th>\n",
       "      <th>yields</th>\n",
       "    </tr>\n",
       "  </thead>\n",
       "  <tbody>\n",
       "    <tr>\n",
       "      <th>5</th>\n",
       "      <td>2012</td>\n",
       "      <td>Подсолнечник</td>\n",
       "      <td>10</td>\n",
       "      <td>48</td>\n",
       "      <td>0.382</td>\n",
       "      <td>2.7</td>\n",
       "    </tr>\n",
       "    <tr>\n",
       "      <th>6</th>\n",
       "      <td>2012</td>\n",
       "      <td>Подсолнечник</td>\n",
       "      <td>10</td>\n",
       "      <td>47</td>\n",
       "      <td>0.38</td>\n",
       "      <td>2.7</td>\n",
       "    </tr>\n",
       "    <tr>\n",
       "      <th>8</th>\n",
       "      <td>2012</td>\n",
       "      <td>Подсолнечник</td>\n",
       "      <td>10</td>\n",
       "      <td>45</td>\n",
       "      <td>0.353</td>\n",
       "      <td>2.7</td>\n",
       "    </tr>\n",
       "    <tr>\n",
       "      <th>10</th>\n",
       "      <td>2012</td>\n",
       "      <td>Подсолнечник</td>\n",
       "      <td>10</td>\n",
       "      <td>43</td>\n",
       "      <td>0.341</td>\n",
       "      <td>2.7</td>\n",
       "    </tr>\n",
       "    <tr>\n",
       "      <th>11</th>\n",
       "      <td>2012</td>\n",
       "      <td>Подсолнечник</td>\n",
       "      <td>10</td>\n",
       "      <td>42</td>\n",
       "      <td>0.354</td>\n",
       "      <td>2.7</td>\n",
       "    </tr>\n",
       "  </tbody>\n",
       "</table>\n",
       "</div>"
      ],
      "text/plain": [
       "    year       culture field week   ndvi yields\n",
       "5   2012  Подсолнечник    10   48  0.382    2.7\n",
       "6   2012  Подсолнечник    10   47   0.38    2.7\n",
       "8   2012  Подсолнечник    10   45  0.353    2.7\n",
       "10  2012  Подсолнечник    10   43  0.341    2.7\n",
       "11  2012  Подсолнечник    10   42  0.354    2.7"
      ]
     },
     "execution_count": 229,
     "metadata": {},
     "output_type": "execute_result"
    }
   ],
   "source": [
    "yield_data = get_year_culture_week_ndvi()\n",
    "yield_data.head()"
   ]
  },
  {
   "cell_type": "code",
   "execution_count": 230,
   "metadata": {
    "scrolled": true
   },
   "outputs": [
    {
     "data": {
      "text/plain": [
       "year       object\n",
       "culture    object\n",
       "field      object\n",
       "week       object\n",
       "ndvi       object\n",
       "yields     object\n",
       "dtype: object"
      ]
     },
     "execution_count": 230,
     "metadata": {},
     "output_type": "execute_result"
    }
   ],
   "source": [
    "yield_data.dtypes"
   ]
  },
  {
   "cell_type": "code",
   "execution_count": 231,
   "metadata": {
    "collapsed": true
   },
   "outputs": [],
   "source": [
    "yield_data['year'] = yield_data['year'].astype(int)\n",
    "yield_data['week'] = yield_data['week'].astype(int)\n",
    "yield_data['ndvi'] = yield_data['ndvi'].astype(float)\n",
    "yield_data['yields'] = yield_data['yields'].astype(float)"
   ]
  },
  {
   "cell_type": "code",
   "execution_count": 232,
   "metadata": {
    "collapsed": true
   },
   "outputs": [],
   "source": [
    "le = LabelEncoder()\n",
    "yield_data['field'] = le.fit_transform(yield_data['field'])"
   ]
  },
  {
   "cell_type": "code",
   "execution_count": 233,
   "metadata": {
    "collapsed": true
   },
   "outputs": [],
   "source": [
    "yield_data.dropna(inplace=True)"
   ]
  },
  {
   "cell_type": "code",
   "execution_count": 234,
   "metadata": {
    "collapsed": true
   },
   "outputs": [],
   "source": [
    "yield_data_culture = yield_data[yield_data['culture'] == 'Подсолнечник'][['year', 'field', 'week', 'ndvi', 'yields']]"
   ]
  },
  {
   "cell_type": "code",
   "execution_count": 235,
   "metadata": {
    "collapsed": true
   },
   "outputs": [],
   "source": [
    "yield_data_week = yield_data_culture.groupby(['field', 'year', 'week']).mean()"
   ]
  },
  {
   "cell_type": "code",
   "execution_count": 236,
   "metadata": {
    "scrolled": false
   },
   "outputs": [
    {
     "data": {
      "text/html": [
       "<div>\n",
       "<style>\n",
       "    .dataframe thead tr:only-child th {\n",
       "        text-align: right;\n",
       "    }\n",
       "\n",
       "    .dataframe thead th {\n",
       "        text-align: left;\n",
       "    }\n",
       "\n",
       "    .dataframe tbody tr th {\n",
       "        vertical-align: top;\n",
       "    }\n",
       "</style>\n",
       "<table border=\"1\" class=\"dataframe\">\n",
       "  <thead>\n",
       "    <tr style=\"text-align: right;\">\n",
       "      <th></th>\n",
       "      <th></th>\n",
       "      <th></th>\n",
       "      <th>ndvi</th>\n",
       "      <th>yields</th>\n",
       "    </tr>\n",
       "    <tr>\n",
       "      <th>field</th>\n",
       "      <th>year</th>\n",
       "      <th>week</th>\n",
       "      <th></th>\n",
       "      <th></th>\n",
       "    </tr>\n",
       "  </thead>\n",
       "  <tbody>\n",
       "    <tr>\n",
       "      <th rowspan=\"5\" valign=\"top\">1</th>\n",
       "      <th rowspan=\"5\" valign=\"top\">2012</th>\n",
       "      <th>11</th>\n",
       "      <td>0.216</td>\n",
       "      <td>0.77</td>\n",
       "    </tr>\n",
       "    <tr>\n",
       "      <th>12</th>\n",
       "      <td>0.229</td>\n",
       "      <td>0.77</td>\n",
       "    </tr>\n",
       "    <tr>\n",
       "      <th>14</th>\n",
       "      <td>0.232</td>\n",
       "      <td>0.77</td>\n",
       "    </tr>\n",
       "    <tr>\n",
       "      <th>15</th>\n",
       "      <td>0.278</td>\n",
       "      <td>0.77</td>\n",
       "    </tr>\n",
       "    <tr>\n",
       "      <th>16</th>\n",
       "      <td>0.322</td>\n",
       "      <td>0.77</td>\n",
       "    </tr>\n",
       "  </tbody>\n",
       "</table>\n",
       "</div>"
      ],
      "text/plain": [
       "                  ndvi  yields\n",
       "field year week               \n",
       "1     2012 11    0.216    0.77\n",
       "           12    0.229    0.77\n",
       "           14    0.232    0.77\n",
       "           15    0.278    0.77\n",
       "           16    0.322    0.77"
      ]
     },
     "execution_count": 236,
     "metadata": {},
     "output_type": "execute_result"
    }
   ],
   "source": [
    "yield_data_week.head()"
   ]
  },
  {
   "cell_type": "code",
   "execution_count": 237,
   "metadata": {},
   "outputs": [
    {
     "data": {
      "text/html": [
       "<div>\n",
       "<style>\n",
       "    .dataframe thead tr:only-child th {\n",
       "        text-align: right;\n",
       "    }\n",
       "\n",
       "    .dataframe thead th {\n",
       "        text-align: left;\n",
       "    }\n",
       "\n",
       "    .dataframe tbody tr th {\n",
       "        vertical-align: top;\n",
       "    }\n",
       "</style>\n",
       "<table border=\"1\" class=\"dataframe\">\n",
       "  <thead>\n",
       "    <tr style=\"text-align: right;\">\n",
       "      <th></th>\n",
       "      <th>field</th>\n",
       "      <th>year</th>\n",
       "      <th>week</th>\n",
       "      <th>ndvi</th>\n",
       "      <th>yields</th>\n",
       "    </tr>\n",
       "  </thead>\n",
       "  <tbody>\n",
       "    <tr>\n",
       "      <th>0</th>\n",
       "      <td>1</td>\n",
       "      <td>2012</td>\n",
       "      <td>11</td>\n",
       "      <td>0.216</td>\n",
       "      <td>0.77</td>\n",
       "    </tr>\n",
       "    <tr>\n",
       "      <th>1</th>\n",
       "      <td>1</td>\n",
       "      <td>2012</td>\n",
       "      <td>12</td>\n",
       "      <td>0.229</td>\n",
       "      <td>0.77</td>\n",
       "    </tr>\n",
       "    <tr>\n",
       "      <th>2</th>\n",
       "      <td>1</td>\n",
       "      <td>2012</td>\n",
       "      <td>14</td>\n",
       "      <td>0.232</td>\n",
       "      <td>0.77</td>\n",
       "    </tr>\n",
       "    <tr>\n",
       "      <th>3</th>\n",
       "      <td>1</td>\n",
       "      <td>2012</td>\n",
       "      <td>15</td>\n",
       "      <td>0.278</td>\n",
       "      <td>0.77</td>\n",
       "    </tr>\n",
       "    <tr>\n",
       "      <th>4</th>\n",
       "      <td>1</td>\n",
       "      <td>2012</td>\n",
       "      <td>16</td>\n",
       "      <td>0.322</td>\n",
       "      <td>0.77</td>\n",
       "    </tr>\n",
       "  </tbody>\n",
       "</table>\n",
       "</div>"
      ],
      "text/plain": [
       "   field  year  week   ndvi  yields\n",
       "0      1  2012    11  0.216    0.77\n",
       "1      1  2012    12  0.229    0.77\n",
       "2      1  2012    14  0.232    0.77\n",
       "3      1  2012    15  0.278    0.77\n",
       "4      1  2012    16  0.322    0.77"
      ]
     },
     "execution_count": 237,
     "metadata": {},
     "output_type": "execute_result"
    }
   ],
   "source": [
    "yield_data_week.reset_index(inplace=True)\n",
    "yield_data_week.head()"
   ]
  },
  {
   "cell_type": "markdown",
   "metadata": {},
   "source": [
    "## Combining the datasets"
   ]
  },
  {
   "cell_type": "code",
   "execution_count": 238,
   "metadata": {
    "collapsed": true
   },
   "outputs": [],
   "source": [
    "data_week = pd.merge(weather_data_week, yield_data_week, on=['year', 'week'])"
   ]
  },
  {
   "cell_type": "code",
   "execution_count": 239,
   "metadata": {},
   "outputs": [
    {
     "data": {
      "text/html": [
       "<div>\n",
       "<style>\n",
       "    .dataframe thead tr:only-child th {\n",
       "        text-align: right;\n",
       "    }\n",
       "\n",
       "    .dataframe thead th {\n",
       "        text-align: left;\n",
       "    }\n",
       "\n",
       "    .dataframe tbody tr th {\n",
       "        vertical-align: top;\n",
       "    }\n",
       "</style>\n",
       "<table border=\"1\" class=\"dataframe\">\n",
       "  <thead>\n",
       "    <tr style=\"text-align: right;\">\n",
       "      <th></th>\n",
       "      <th>year</th>\n",
       "      <th>week</th>\n",
       "      <th>temp</th>\n",
       "      <th>dewp</th>\n",
       "      <th>slp</th>\n",
       "      <th>stp</th>\n",
       "      <th>visib</th>\n",
       "      <th>wdsp</th>\n",
       "      <th>mxspd</th>\n",
       "      <th>max</th>\n",
       "      <th>...</th>\n",
       "      <th>sndp</th>\n",
       "      <th>fog</th>\n",
       "      <th>rain</th>\n",
       "      <th>snow</th>\n",
       "      <th>hail</th>\n",
       "      <th>thunder</th>\n",
       "      <th>tornado</th>\n",
       "      <th>field</th>\n",
       "      <th>ndvi</th>\n",
       "      <th>yields</th>\n",
       "    </tr>\n",
       "  </thead>\n",
       "  <tbody>\n",
       "    <tr>\n",
       "      <th>0</th>\n",
       "      <td>2012</td>\n",
       "      <td>1</td>\n",
       "      <td>33.975000</td>\n",
       "      <td>31.125000</td>\n",
       "      <td>1013.012500</td>\n",
       "      <td>990.325</td>\n",
       "      <td>5.025000</td>\n",
       "      <td>6.275000</td>\n",
       "      <td>9.250000</td>\n",
       "      <td>37.850000</td>\n",
       "      <td>...</td>\n",
       "      <td>0.487500</td>\n",
       "      <td>0.250000</td>\n",
       "      <td>0.375</td>\n",
       "      <td>0.25</td>\n",
       "      <td>0.0</td>\n",
       "      <td>0.0</td>\n",
       "      <td>0.0</td>\n",
       "      <td>133</td>\n",
       "      <td>0.280</td>\n",
       "      <td>0.13</td>\n",
       "    </tr>\n",
       "    <tr>\n",
       "      <th>1</th>\n",
       "      <td>2012</td>\n",
       "      <td>1</td>\n",
       "      <td>33.975000</td>\n",
       "      <td>31.125000</td>\n",
       "      <td>1013.012500</td>\n",
       "      <td>990.325</td>\n",
       "      <td>5.025000</td>\n",
       "      <td>6.275000</td>\n",
       "      <td>9.250000</td>\n",
       "      <td>37.850000</td>\n",
       "      <td>...</td>\n",
       "      <td>0.487500</td>\n",
       "      <td>0.250000</td>\n",
       "      <td>0.375</td>\n",
       "      <td>0.25</td>\n",
       "      <td>0.0</td>\n",
       "      <td>0.0</td>\n",
       "      <td>0.0</td>\n",
       "      <td>134</td>\n",
       "      <td>0.240</td>\n",
       "      <td>0.97</td>\n",
       "    </tr>\n",
       "    <tr>\n",
       "      <th>2</th>\n",
       "      <td>2012</td>\n",
       "      <td>11</td>\n",
       "      <td>38.257143</td>\n",
       "      <td>29.414286</td>\n",
       "      <td>1019.242857</td>\n",
       "      <td>996.600</td>\n",
       "      <td>9.971429</td>\n",
       "      <td>5.457143</td>\n",
       "      <td>7.771429</td>\n",
       "      <td>45.957143</td>\n",
       "      <td>...</td>\n",
       "      <td>2.971429</td>\n",
       "      <td>0.142857</td>\n",
       "      <td>0.000</td>\n",
       "      <td>0.00</td>\n",
       "      <td>0.0</td>\n",
       "      <td>0.0</td>\n",
       "      <td>0.0</td>\n",
       "      <td>1</td>\n",
       "      <td>0.216</td>\n",
       "      <td>0.77</td>\n",
       "    </tr>\n",
       "    <tr>\n",
       "      <th>3</th>\n",
       "      <td>2012</td>\n",
       "      <td>11</td>\n",
       "      <td>38.257143</td>\n",
       "      <td>29.414286</td>\n",
       "      <td>1019.242857</td>\n",
       "      <td>996.600</td>\n",
       "      <td>9.971429</td>\n",
       "      <td>5.457143</td>\n",
       "      <td>7.771429</td>\n",
       "      <td>45.957143</td>\n",
       "      <td>...</td>\n",
       "      <td>2.971429</td>\n",
       "      <td>0.142857</td>\n",
       "      <td>0.000</td>\n",
       "      <td>0.00</td>\n",
       "      <td>0.0</td>\n",
       "      <td>0.0</td>\n",
       "      <td>0.0</td>\n",
       "      <td>2</td>\n",
       "      <td>0.211</td>\n",
       "      <td>2.70</td>\n",
       "    </tr>\n",
       "    <tr>\n",
       "      <th>4</th>\n",
       "      <td>2012</td>\n",
       "      <td>11</td>\n",
       "      <td>38.257143</td>\n",
       "      <td>29.414286</td>\n",
       "      <td>1019.242857</td>\n",
       "      <td>996.600</td>\n",
       "      <td>9.971429</td>\n",
       "      <td>5.457143</td>\n",
       "      <td>7.771429</td>\n",
       "      <td>45.957143</td>\n",
       "      <td>...</td>\n",
       "      <td>2.971429</td>\n",
       "      <td>0.142857</td>\n",
       "      <td>0.000</td>\n",
       "      <td>0.00</td>\n",
       "      <td>0.0</td>\n",
       "      <td>0.0</td>\n",
       "      <td>0.0</td>\n",
       "      <td>7</td>\n",
       "      <td>0.266</td>\n",
       "      <td>0.75</td>\n",
       "    </tr>\n",
       "  </tbody>\n",
       "</table>\n",
       "<p>5 rows × 22 columns</p>\n",
       "</div>"
      ],
      "text/plain": [
       "   year  week       temp       dewp          slp      stp     visib      wdsp  \\\n",
       "0  2012     1  33.975000  31.125000  1013.012500  990.325  5.025000  6.275000   \n",
       "1  2012     1  33.975000  31.125000  1013.012500  990.325  5.025000  6.275000   \n",
       "2  2012    11  38.257143  29.414286  1019.242857  996.600  9.971429  5.457143   \n",
       "3  2012    11  38.257143  29.414286  1019.242857  996.600  9.971429  5.457143   \n",
       "4  2012    11  38.257143  29.414286  1019.242857  996.600  9.971429  5.457143   \n",
       "\n",
       "      mxspd        max   ...        sndp       fog   rain  snow  hail  \\\n",
       "0  9.250000  37.850000   ...    0.487500  0.250000  0.375  0.25   0.0   \n",
       "1  9.250000  37.850000   ...    0.487500  0.250000  0.375  0.25   0.0   \n",
       "2  7.771429  45.957143   ...    2.971429  0.142857  0.000  0.00   0.0   \n",
       "3  7.771429  45.957143   ...    2.971429  0.142857  0.000  0.00   0.0   \n",
       "4  7.771429  45.957143   ...    2.971429  0.142857  0.000  0.00   0.0   \n",
       "\n",
       "   thunder  tornado  field   ndvi  yields  \n",
       "0      0.0      0.0    133  0.280    0.13  \n",
       "1      0.0      0.0    134  0.240    0.97  \n",
       "2      0.0      0.0      1  0.216    0.77  \n",
       "3      0.0      0.0      2  0.211    2.70  \n",
       "4      0.0      0.0      7  0.266    0.75  \n",
       "\n",
       "[5 rows x 22 columns]"
      ]
     },
     "execution_count": 239,
     "metadata": {},
     "output_type": "execute_result"
    }
   ],
   "source": [
    "data_week.head()"
   ]
  },
  {
   "cell_type": "code",
   "execution_count": 240,
   "metadata": {
    "collapsed": true
   },
   "outputs": [],
   "source": [
    "data_week.dropna(inplace=True)"
   ]
  },
  {
   "cell_type": "code",
   "execution_count": 241,
   "metadata": {
    "collapsed": true
   },
   "outputs": [],
   "source": [
    "data_week.reset_index(inplace=True)"
   ]
  },
  {
   "cell_type": "code",
   "execution_count": 242,
   "metadata": {
    "scrolled": true
   },
   "outputs": [
    {
     "data": {
      "text/html": [
       "<div>\n",
       "<style>\n",
       "    .dataframe thead tr:only-child th {\n",
       "        text-align: right;\n",
       "    }\n",
       "\n",
       "    .dataframe thead th {\n",
       "        text-align: left;\n",
       "    }\n",
       "\n",
       "    .dataframe tbody tr th {\n",
       "        vertical-align: top;\n",
       "    }\n",
       "</style>\n",
       "<table border=\"1\" class=\"dataframe\">\n",
       "  <thead>\n",
       "    <tr style=\"text-align: right;\">\n",
       "      <th></th>\n",
       "      <th>year</th>\n",
       "      <th>week</th>\n",
       "      <th>temp</th>\n",
       "      <th>dewp</th>\n",
       "      <th>slp</th>\n",
       "      <th>stp</th>\n",
       "      <th>visib</th>\n",
       "      <th>wdsp</th>\n",
       "      <th>mxspd</th>\n",
       "      <th>max</th>\n",
       "      <th>...</th>\n",
       "      <th>sndp</th>\n",
       "      <th>fog</th>\n",
       "      <th>rain</th>\n",
       "      <th>snow</th>\n",
       "      <th>hail</th>\n",
       "      <th>thunder</th>\n",
       "      <th>tornado</th>\n",
       "      <th>field</th>\n",
       "      <th>ndvi</th>\n",
       "      <th>yields</th>\n",
       "    </tr>\n",
       "  </thead>\n",
       "  <tbody>\n",
       "    <tr>\n",
       "      <th>0</th>\n",
       "      <td>2012</td>\n",
       "      <td>1</td>\n",
       "      <td>33.975000</td>\n",
       "      <td>31.125000</td>\n",
       "      <td>1013.012500</td>\n",
       "      <td>990.325</td>\n",
       "      <td>5.025000</td>\n",
       "      <td>6.275000</td>\n",
       "      <td>9.250000</td>\n",
       "      <td>37.850000</td>\n",
       "      <td>...</td>\n",
       "      <td>0.487500</td>\n",
       "      <td>0.250000</td>\n",
       "      <td>0.375</td>\n",
       "      <td>0.25</td>\n",
       "      <td>0.0</td>\n",
       "      <td>0.0</td>\n",
       "      <td>0.0</td>\n",
       "      <td>133</td>\n",
       "      <td>0.280</td>\n",
       "      <td>0.13</td>\n",
       "    </tr>\n",
       "    <tr>\n",
       "      <th>1</th>\n",
       "      <td>2012</td>\n",
       "      <td>1</td>\n",
       "      <td>33.975000</td>\n",
       "      <td>31.125000</td>\n",
       "      <td>1013.012500</td>\n",
       "      <td>990.325</td>\n",
       "      <td>5.025000</td>\n",
       "      <td>6.275000</td>\n",
       "      <td>9.250000</td>\n",
       "      <td>37.850000</td>\n",
       "      <td>...</td>\n",
       "      <td>0.487500</td>\n",
       "      <td>0.250000</td>\n",
       "      <td>0.375</td>\n",
       "      <td>0.25</td>\n",
       "      <td>0.0</td>\n",
       "      <td>0.0</td>\n",
       "      <td>0.0</td>\n",
       "      <td>134</td>\n",
       "      <td>0.240</td>\n",
       "      <td>0.97</td>\n",
       "    </tr>\n",
       "    <tr>\n",
       "      <th>2</th>\n",
       "      <td>2012</td>\n",
       "      <td>11</td>\n",
       "      <td>38.257143</td>\n",
       "      <td>29.414286</td>\n",
       "      <td>1019.242857</td>\n",
       "      <td>996.600</td>\n",
       "      <td>9.971429</td>\n",
       "      <td>5.457143</td>\n",
       "      <td>7.771429</td>\n",
       "      <td>45.957143</td>\n",
       "      <td>...</td>\n",
       "      <td>2.971429</td>\n",
       "      <td>0.142857</td>\n",
       "      <td>0.000</td>\n",
       "      <td>0.00</td>\n",
       "      <td>0.0</td>\n",
       "      <td>0.0</td>\n",
       "      <td>0.0</td>\n",
       "      <td>1</td>\n",
       "      <td>0.216</td>\n",
       "      <td>0.77</td>\n",
       "    </tr>\n",
       "    <tr>\n",
       "      <th>3</th>\n",
       "      <td>2012</td>\n",
       "      <td>11</td>\n",
       "      <td>38.257143</td>\n",
       "      <td>29.414286</td>\n",
       "      <td>1019.242857</td>\n",
       "      <td>996.600</td>\n",
       "      <td>9.971429</td>\n",
       "      <td>5.457143</td>\n",
       "      <td>7.771429</td>\n",
       "      <td>45.957143</td>\n",
       "      <td>...</td>\n",
       "      <td>2.971429</td>\n",
       "      <td>0.142857</td>\n",
       "      <td>0.000</td>\n",
       "      <td>0.00</td>\n",
       "      <td>0.0</td>\n",
       "      <td>0.0</td>\n",
       "      <td>0.0</td>\n",
       "      <td>2</td>\n",
       "      <td>0.211</td>\n",
       "      <td>2.70</td>\n",
       "    </tr>\n",
       "    <tr>\n",
       "      <th>4</th>\n",
       "      <td>2012</td>\n",
       "      <td>11</td>\n",
       "      <td>38.257143</td>\n",
       "      <td>29.414286</td>\n",
       "      <td>1019.242857</td>\n",
       "      <td>996.600</td>\n",
       "      <td>9.971429</td>\n",
       "      <td>5.457143</td>\n",
       "      <td>7.771429</td>\n",
       "      <td>45.957143</td>\n",
       "      <td>...</td>\n",
       "      <td>2.971429</td>\n",
       "      <td>0.142857</td>\n",
       "      <td>0.000</td>\n",
       "      <td>0.00</td>\n",
       "      <td>0.0</td>\n",
       "      <td>0.0</td>\n",
       "      <td>0.0</td>\n",
       "      <td>7</td>\n",
       "      <td>0.266</td>\n",
       "      <td>0.75</td>\n",
       "    </tr>\n",
       "  </tbody>\n",
       "</table>\n",
       "<p>5 rows × 22 columns</p>\n",
       "</div>"
      ],
      "text/plain": [
       "   year  week       temp       dewp          slp      stp     visib      wdsp  \\\n",
       "0  2012     1  33.975000  31.125000  1013.012500  990.325  5.025000  6.275000   \n",
       "1  2012     1  33.975000  31.125000  1013.012500  990.325  5.025000  6.275000   \n",
       "2  2012    11  38.257143  29.414286  1019.242857  996.600  9.971429  5.457143   \n",
       "3  2012    11  38.257143  29.414286  1019.242857  996.600  9.971429  5.457143   \n",
       "4  2012    11  38.257143  29.414286  1019.242857  996.600  9.971429  5.457143   \n",
       "\n",
       "      mxspd        max   ...        sndp       fog   rain  snow  hail  \\\n",
       "0  9.250000  37.850000   ...    0.487500  0.250000  0.375  0.25   0.0   \n",
       "1  9.250000  37.850000   ...    0.487500  0.250000  0.375  0.25   0.0   \n",
       "2  7.771429  45.957143   ...    2.971429  0.142857  0.000  0.00   0.0   \n",
       "3  7.771429  45.957143   ...    2.971429  0.142857  0.000  0.00   0.0   \n",
       "4  7.771429  45.957143   ...    2.971429  0.142857  0.000  0.00   0.0   \n",
       "\n",
       "   thunder  tornado  field   ndvi  yields  \n",
       "0      0.0      0.0    133  0.280    0.13  \n",
       "1      0.0      0.0    134  0.240    0.97  \n",
       "2      0.0      0.0      1  0.216    0.77  \n",
       "3      0.0      0.0      2  0.211    2.70  \n",
       "4      0.0      0.0      7  0.266    0.75  \n",
       "\n",
       "[5 rows x 22 columns]"
      ]
     },
     "execution_count": 242,
     "metadata": {},
     "output_type": "execute_result"
    }
   ],
   "source": [
    "data_week.iloc[:,1:].head()"
   ]
  },
  {
   "cell_type": "code",
   "execution_count": 243,
   "metadata": {
    "collapsed": true
   },
   "outputs": [],
   "source": [
    "data_week.iloc[:,1:].to_csv('~/Desktop/ndvi-weather.csv', index=False)"
   ]
  },
  {
   "cell_type": "code",
   "execution_count": 244,
   "metadata": {},
   "outputs": [
    {
     "data": {
      "text/plain": [
       "(5661, 23)"
      ]
     },
     "execution_count": 244,
     "metadata": {},
     "output_type": "execute_result"
    }
   ],
   "source": [
    "data_week.shape"
   ]
  },
  {
   "cell_type": "markdown",
   "metadata": {},
   "source": [
    "## Train / test split"
   ]
  },
  {
   "cell_type": "code",
   "execution_count": 245,
   "metadata": {
    "collapsed": true
   },
   "outputs": [],
   "source": [
    "train_data = data_week[data_week['year'] != 2015]\n",
    "test_data = data_week[data_week['year'] == 2015]"
   ]
  },
  {
   "cell_type": "code",
   "execution_count": 246,
   "metadata": {
    "collapsed": true
   },
   "outputs": [],
   "source": [
    "x_cols = list(data_week.columns.copy())\n",
    "x_cols.remove('yields')\n",
    "\n",
    "X_train = train_data[x_cols]\n",
    "X_test = test_data[x_cols]\n",
    "\n",
    "y_train = train_data['yields']\n",
    "y_test = test_data['yields']"
   ]
  },
  {
   "cell_type": "code",
   "execution_count": 247,
   "metadata": {
    "scrolled": true
   },
   "outputs": [
    {
     "name": "stdout",
     "output_type": "stream",
     "text": [
      "X_train: (3689, 22)\n",
      "X_test: (1972, 22)\n",
      "y_train: (3689,)\n",
      "y_test: (1972,)\n"
     ]
    }
   ],
   "source": [
    "print('X_train:', X_train.shape)\n",
    "print('X_test:', X_test.shape)\n",
    "print('y_train:', y_train.shape)\n",
    "print('y_test:', y_test.shape)"
   ]
  },
  {
   "cell_type": "markdown",
   "metadata": {},
   "source": [
    "## Scaling input values"
   ]
  },
  {
   "cell_type": "code",
   "execution_count": 248,
   "metadata": {
    "collapsed": true
   },
   "outputs": [],
   "source": [
    "columns = X_train.columns\n",
    "scaler = MinMaxScaler()\n",
    "\n",
    "X_train = scaler.fit_transform(X_train)\n",
    "X_test = scaler.fit_transform(X_test)\n",
    "\n",
    "X_train = pd.DataFrame(X_train, columns=columns)\n",
    "X_test = pd.DataFrame(X_test, columns=columns)"
   ]
  },
  {
   "cell_type": "code",
   "execution_count": 249,
   "metadata": {},
   "outputs": [
    {
     "data": {
      "text/html": [
       "<div>\n",
       "<style>\n",
       "    .dataframe thead tr:only-child th {\n",
       "        text-align: right;\n",
       "    }\n",
       "\n",
       "    .dataframe thead th {\n",
       "        text-align: left;\n",
       "    }\n",
       "\n",
       "    .dataframe tbody tr th {\n",
       "        vertical-align: top;\n",
       "    }\n",
       "</style>\n",
       "<table border=\"1\" class=\"dataframe\">\n",
       "  <thead>\n",
       "    <tr style=\"text-align: right;\">\n",
       "      <th></th>\n",
       "      <th>index</th>\n",
       "      <th>year</th>\n",
       "      <th>week</th>\n",
       "      <th>temp</th>\n",
       "      <th>dewp</th>\n",
       "      <th>slp</th>\n",
       "      <th>stp</th>\n",
       "      <th>visib</th>\n",
       "      <th>wdsp</th>\n",
       "      <th>mxspd</th>\n",
       "      <th>...</th>\n",
       "      <th>prcp</th>\n",
       "      <th>sndp</th>\n",
       "      <th>fog</th>\n",
       "      <th>rain</th>\n",
       "      <th>snow</th>\n",
       "      <th>hail</th>\n",
       "      <th>thunder</th>\n",
       "      <th>tornado</th>\n",
       "      <th>field</th>\n",
       "      <th>ndvi</th>\n",
       "    </tr>\n",
       "  </thead>\n",
       "  <tbody>\n",
       "    <tr>\n",
       "      <th>0</th>\n",
       "      <td>0.000000</td>\n",
       "      <td>0.0</td>\n",
       "      <td>0.000000</td>\n",
       "      <td>0.216946</td>\n",
       "      <td>0.304573</td>\n",
       "      <td>0.350117</td>\n",
       "      <td>0.328012</td>\n",
       "      <td>0.238569</td>\n",
       "      <td>0.521263</td>\n",
       "      <td>0.326441</td>\n",
       "      <td>...</td>\n",
       "      <td>0.196768</td>\n",
       "      <td>0.085741</td>\n",
       "      <td>0.333333</td>\n",
       "      <td>0.375</td>\n",
       "      <td>0.4375</td>\n",
       "      <td>0.0</td>\n",
       "      <td>0.0</td>\n",
       "      <td>0.0</td>\n",
       "      <td>0.862745</td>\n",
       "      <td>0.188341</td>\n",
       "    </tr>\n",
       "    <tr>\n",
       "      <th>1</th>\n",
       "      <td>0.000271</td>\n",
       "      <td>0.0</td>\n",
       "      <td>0.000000</td>\n",
       "      <td>0.216946</td>\n",
       "      <td>0.304573</td>\n",
       "      <td>0.350117</td>\n",
       "      <td>0.328012</td>\n",
       "      <td>0.238569</td>\n",
       "      <td>0.521263</td>\n",
       "      <td>0.326441</td>\n",
       "      <td>...</td>\n",
       "      <td>0.196768</td>\n",
       "      <td>0.085741</td>\n",
       "      <td>0.333333</td>\n",
       "      <td>0.375</td>\n",
       "      <td>0.4375</td>\n",
       "      <td>0.0</td>\n",
       "      <td>0.0</td>\n",
       "      <td>0.0</td>\n",
       "      <td>0.869281</td>\n",
       "      <td>0.128550</td>\n",
       "    </tr>\n",
       "    <tr>\n",
       "      <th>2</th>\n",
       "      <td>0.000542</td>\n",
       "      <td>0.0</td>\n",
       "      <td>0.196078</td>\n",
       "      <td>0.289665</td>\n",
       "      <td>0.266412</td>\n",
       "      <td>0.577384</td>\n",
       "      <td>0.571904</td>\n",
       "      <td>0.749263</td>\n",
       "      <td>0.373711</td>\n",
       "      <td>0.196742</td>\n",
       "      <td>...</td>\n",
       "      <td>0.063267</td>\n",
       "      <td>0.522613</td>\n",
       "      <td>0.190476</td>\n",
       "      <td>0.000</td>\n",
       "      <td>0.0000</td>\n",
       "      <td>0.0</td>\n",
       "      <td>0.0</td>\n",
       "      <td>0.0</td>\n",
       "      <td>0.000000</td>\n",
       "      <td>0.092676</td>\n",
       "    </tr>\n",
       "    <tr>\n",
       "      <th>3</th>\n",
       "      <td>0.000813</td>\n",
       "      <td>0.0</td>\n",
       "      <td>0.196078</td>\n",
       "      <td>0.289665</td>\n",
       "      <td>0.266412</td>\n",
       "      <td>0.577384</td>\n",
       "      <td>0.571904</td>\n",
       "      <td>0.749263</td>\n",
       "      <td>0.373711</td>\n",
       "      <td>0.196742</td>\n",
       "      <td>...</td>\n",
       "      <td>0.063267</td>\n",
       "      <td>0.522613</td>\n",
       "      <td>0.190476</td>\n",
       "      <td>0.000</td>\n",
       "      <td>0.0000</td>\n",
       "      <td>0.0</td>\n",
       "      <td>0.0</td>\n",
       "      <td>0.0</td>\n",
       "      <td>0.006536</td>\n",
       "      <td>0.085202</td>\n",
       "    </tr>\n",
       "    <tr>\n",
       "      <th>4</th>\n",
       "      <td>0.001085</td>\n",
       "      <td>0.0</td>\n",
       "      <td>0.196078</td>\n",
       "      <td>0.289665</td>\n",
       "      <td>0.266412</td>\n",
       "      <td>0.577384</td>\n",
       "      <td>0.571904</td>\n",
       "      <td>0.749263</td>\n",
       "      <td>0.373711</td>\n",
       "      <td>0.196742</td>\n",
       "      <td>...</td>\n",
       "      <td>0.063267</td>\n",
       "      <td>0.522613</td>\n",
       "      <td>0.190476</td>\n",
       "      <td>0.000</td>\n",
       "      <td>0.0000</td>\n",
       "      <td>0.0</td>\n",
       "      <td>0.0</td>\n",
       "      <td>0.0</td>\n",
       "      <td>0.039216</td>\n",
       "      <td>0.167414</td>\n",
       "    </tr>\n",
       "  </tbody>\n",
       "</table>\n",
       "<p>5 rows × 22 columns</p>\n",
       "</div>"
      ],
      "text/plain": [
       "      index  year      week      temp      dewp       slp       stp     visib  \\\n",
       "0  0.000000   0.0  0.000000  0.216946  0.304573  0.350117  0.328012  0.238569   \n",
       "1  0.000271   0.0  0.000000  0.216946  0.304573  0.350117  0.328012  0.238569   \n",
       "2  0.000542   0.0  0.196078  0.289665  0.266412  0.577384  0.571904  0.749263   \n",
       "3  0.000813   0.0  0.196078  0.289665  0.266412  0.577384  0.571904  0.749263   \n",
       "4  0.001085   0.0  0.196078  0.289665  0.266412  0.577384  0.571904  0.749263   \n",
       "\n",
       "       wdsp     mxspd    ...         prcp      sndp       fog   rain    snow  \\\n",
       "0  0.521263  0.326441    ...     0.196768  0.085741  0.333333  0.375  0.4375   \n",
       "1  0.521263  0.326441    ...     0.196768  0.085741  0.333333  0.375  0.4375   \n",
       "2  0.373711  0.196742    ...     0.063267  0.522613  0.190476  0.000  0.0000   \n",
       "3  0.373711  0.196742    ...     0.063267  0.522613  0.190476  0.000  0.0000   \n",
       "4  0.373711  0.196742    ...     0.063267  0.522613  0.190476  0.000  0.0000   \n",
       "\n",
       "   hail  thunder  tornado     field      ndvi  \n",
       "0   0.0      0.0      0.0  0.862745  0.188341  \n",
       "1   0.0      0.0      0.0  0.869281  0.128550  \n",
       "2   0.0      0.0      0.0  0.000000  0.092676  \n",
       "3   0.0      0.0      0.0  0.006536  0.085202  \n",
       "4   0.0      0.0      0.0  0.039216  0.167414  \n",
       "\n",
       "[5 rows x 22 columns]"
      ]
     },
     "execution_count": 249,
     "metadata": {},
     "output_type": "execute_result"
    }
   ],
   "source": [
    "X_train.head()"
   ]
  },
  {
   "cell_type": "code",
   "execution_count": 250,
   "metadata": {
    "scrolled": true
   },
   "outputs": [
    {
     "data": {
      "text/html": [
       "<div>\n",
       "<style>\n",
       "    .dataframe thead tr:only-child th {\n",
       "        text-align: right;\n",
       "    }\n",
       "\n",
       "    .dataframe thead th {\n",
       "        text-align: left;\n",
       "    }\n",
       "\n",
       "    .dataframe tbody tr th {\n",
       "        vertical-align: top;\n",
       "    }\n",
       "</style>\n",
       "<table border=\"1\" class=\"dataframe\">\n",
       "  <thead>\n",
       "    <tr style=\"text-align: right;\">\n",
       "      <th></th>\n",
       "      <th>index</th>\n",
       "      <th>year</th>\n",
       "      <th>week</th>\n",
       "      <th>temp</th>\n",
       "      <th>dewp</th>\n",
       "      <th>slp</th>\n",
       "      <th>stp</th>\n",
       "      <th>visib</th>\n",
       "      <th>wdsp</th>\n",
       "      <th>mxspd</th>\n",
       "      <th>...</th>\n",
       "      <th>prcp</th>\n",
       "      <th>sndp</th>\n",
       "      <th>fog</th>\n",
       "      <th>rain</th>\n",
       "      <th>snow</th>\n",
       "      <th>hail</th>\n",
       "      <th>thunder</th>\n",
       "      <th>tornado</th>\n",
       "      <th>field</th>\n",
       "      <th>ndvi</th>\n",
       "    </tr>\n",
       "  </thead>\n",
       "  <tbody>\n",
       "    <tr>\n",
       "      <th>0</th>\n",
       "      <td>0.000000</td>\n",
       "      <td>0.0</td>\n",
       "      <td>0.0</td>\n",
       "      <td>0.16746</td>\n",
       "      <td>0.342932</td>\n",
       "      <td>0.540741</td>\n",
       "      <td>0.53314</td>\n",
       "      <td>0.0</td>\n",
       "      <td>0.388451</td>\n",
       "      <td>0.233509</td>\n",
       "      <td>...</td>\n",
       "      <td>0.031746</td>\n",
       "      <td>0.166667</td>\n",
       "      <td>1.0</td>\n",
       "      <td>0.833333</td>\n",
       "      <td>0.333333</td>\n",
       "      <td>0.0</td>\n",
       "      <td>0.0</td>\n",
       "      <td>0.0</td>\n",
       "      <td>0.000000</td>\n",
       "      <td>0.170897</td>\n",
       "    </tr>\n",
       "    <tr>\n",
       "      <th>1</th>\n",
       "      <td>0.000507</td>\n",
       "      <td>0.0</td>\n",
       "      <td>0.0</td>\n",
       "      <td>0.16746</td>\n",
       "      <td>0.342932</td>\n",
       "      <td>0.540741</td>\n",
       "      <td>0.53314</td>\n",
       "      <td>0.0</td>\n",
       "      <td>0.388451</td>\n",
       "      <td>0.233509</td>\n",
       "      <td>...</td>\n",
       "      <td>0.031746</td>\n",
       "      <td>0.166667</td>\n",
       "      <td>1.0</td>\n",
       "      <td>0.833333</td>\n",
       "      <td>0.333333</td>\n",
       "      <td>0.0</td>\n",
       "      <td>0.0</td>\n",
       "      <td>0.0</td>\n",
       "      <td>0.007634</td>\n",
       "      <td>0.059222</td>\n",
       "    </tr>\n",
       "    <tr>\n",
       "      <th>2</th>\n",
       "      <td>0.001015</td>\n",
       "      <td>0.0</td>\n",
       "      <td>0.0</td>\n",
       "      <td>0.16746</td>\n",
       "      <td>0.342932</td>\n",
       "      <td>0.540741</td>\n",
       "      <td>0.53314</td>\n",
       "      <td>0.0</td>\n",
       "      <td>0.388451</td>\n",
       "      <td>0.233509</td>\n",
       "      <td>...</td>\n",
       "      <td>0.031746</td>\n",
       "      <td>0.166667</td>\n",
       "      <td>1.0</td>\n",
       "      <td>0.833333</td>\n",
       "      <td>0.333333</td>\n",
       "      <td>0.0</td>\n",
       "      <td>0.0</td>\n",
       "      <td>0.0</td>\n",
       "      <td>0.022901</td>\n",
       "      <td>0.099831</td>\n",
       "    </tr>\n",
       "    <tr>\n",
       "      <th>3</th>\n",
       "      <td>0.001522</td>\n",
       "      <td>0.0</td>\n",
       "      <td>0.0</td>\n",
       "      <td>0.16746</td>\n",
       "      <td>0.342932</td>\n",
       "      <td>0.540741</td>\n",
       "      <td>0.53314</td>\n",
       "      <td>0.0</td>\n",
       "      <td>0.388451</td>\n",
       "      <td>0.233509</td>\n",
       "      <td>...</td>\n",
       "      <td>0.031746</td>\n",
       "      <td>0.166667</td>\n",
       "      <td>1.0</td>\n",
       "      <td>0.833333</td>\n",
       "      <td>0.333333</td>\n",
       "      <td>0.0</td>\n",
       "      <td>0.0</td>\n",
       "      <td>0.0</td>\n",
       "      <td>0.175573</td>\n",
       "      <td>0.093063</td>\n",
       "    </tr>\n",
       "    <tr>\n",
       "      <th>4</th>\n",
       "      <td>0.002029</td>\n",
       "      <td>0.0</td>\n",
       "      <td>0.0</td>\n",
       "      <td>0.16746</td>\n",
       "      <td>0.342932</td>\n",
       "      <td>0.540741</td>\n",
       "      <td>0.53314</td>\n",
       "      <td>0.0</td>\n",
       "      <td>0.388451</td>\n",
       "      <td>0.233509</td>\n",
       "      <td>...</td>\n",
       "      <td>0.031746</td>\n",
       "      <td>0.166667</td>\n",
       "      <td>1.0</td>\n",
       "      <td>0.833333</td>\n",
       "      <td>0.333333</td>\n",
       "      <td>0.0</td>\n",
       "      <td>0.0</td>\n",
       "      <td>0.0</td>\n",
       "      <td>0.419847</td>\n",
       "      <td>0.153976</td>\n",
       "    </tr>\n",
       "  </tbody>\n",
       "</table>\n",
       "<p>5 rows × 22 columns</p>\n",
       "</div>"
      ],
      "text/plain": [
       "      index  year  week     temp      dewp       slp      stp  visib  \\\n",
       "0  0.000000   0.0   0.0  0.16746  0.342932  0.540741  0.53314    0.0   \n",
       "1  0.000507   0.0   0.0  0.16746  0.342932  0.540741  0.53314    0.0   \n",
       "2  0.001015   0.0   0.0  0.16746  0.342932  0.540741  0.53314    0.0   \n",
       "3  0.001522   0.0   0.0  0.16746  0.342932  0.540741  0.53314    0.0   \n",
       "4  0.002029   0.0   0.0  0.16746  0.342932  0.540741  0.53314    0.0   \n",
       "\n",
       "       wdsp     mxspd    ...         prcp      sndp  fog      rain      snow  \\\n",
       "0  0.388451  0.233509    ...     0.031746  0.166667  1.0  0.833333  0.333333   \n",
       "1  0.388451  0.233509    ...     0.031746  0.166667  1.0  0.833333  0.333333   \n",
       "2  0.388451  0.233509    ...     0.031746  0.166667  1.0  0.833333  0.333333   \n",
       "3  0.388451  0.233509    ...     0.031746  0.166667  1.0  0.833333  0.333333   \n",
       "4  0.388451  0.233509    ...     0.031746  0.166667  1.0  0.833333  0.333333   \n",
       "\n",
       "   hail  thunder  tornado     field      ndvi  \n",
       "0   0.0      0.0      0.0  0.000000  0.170897  \n",
       "1   0.0      0.0      0.0  0.007634  0.059222  \n",
       "2   0.0      0.0      0.0  0.022901  0.099831  \n",
       "3   0.0      0.0      0.0  0.175573  0.093063  \n",
       "4   0.0      0.0      0.0  0.419847  0.153976  \n",
       "\n",
       "[5 rows x 22 columns]"
      ]
     },
     "execution_count": 250,
     "metadata": {},
     "output_type": "execute_result"
    }
   ],
   "source": [
    "X_test.head()"
   ]
  },
  {
   "cell_type": "markdown",
   "metadata": {},
   "source": [
    "## Model training"
   ]
  },
  {
   "cell_type": "code",
   "execution_count": 251,
   "metadata": {
    "collapsed": true
   },
   "outputs": [],
   "source": [
    "def r2_of(model):\n",
    "    model.fit(X_train, y_train)\n",
    "    y_pred = model.predict(X_test)\n",
    "    return r2_score(y_test, y_pred)"
   ]
  },
  {
   "cell_type": "code",
   "execution_count": 252,
   "metadata": {},
   "outputs": [
    {
     "data": {
      "text/plain": [
       "-1.157435230533526"
      ]
     },
     "execution_count": 252,
     "metadata": {},
     "output_type": "execute_result"
    }
   ],
   "source": [
    "r2_of(RandomForestRegressor())"
   ]
  },
  {
   "cell_type": "code",
   "execution_count": 253,
   "metadata": {},
   "outputs": [
    {
     "data": {
      "text/plain": [
       "-3.2097262799983293"
      ]
     },
     "execution_count": 253,
     "metadata": {},
     "output_type": "execute_result"
    }
   ],
   "source": [
    "r2_of(LinearRegression())"
   ]
  },
  {
   "cell_type": "code",
   "execution_count": 254,
   "metadata": {
    "scrolled": true
   },
   "outputs": [
    {
     "data": {
      "text/plain": [
       "-0.036815268701753112"
      ]
     },
     "execution_count": 254,
     "metadata": {},
     "output_type": "execute_result"
    }
   ],
   "source": [
    "r2_of(SVR())"
   ]
  },
  {
   "cell_type": "markdown",
   "metadata": {},
   "source": [
    "## Visualizations"
   ]
  },
  {
   "cell_type": "code",
   "execution_count": 255,
   "metadata": {},
   "outputs": [
    {
     "data": {
      "text/plain": [
       "<matplotlib.axes._subplots.AxesSubplot at 0x1a52e6fc50>"
      ]
     },
     "execution_count": 255,
     "metadata": {},
     "output_type": "execute_result"
    },
    {
     "data": {
      "image/png": "[encoded data removed]",
      "text/plain": [
       "<matplotlib.figure.Figure at 0x1a52c2e208>"
      ]
     },
     "metadata": {},
     "output_type": "display_data"
    }
   ],
   "source": [
    "weather_data.temp.plot()"
   ]
  },
  {
   "cell_type": "code",
   "execution_count": 256,
   "metadata": {},
   "outputs": [
    {
     "data": {
      "text/plain": [
       "<matplotlib.axes._subplots.AxesSubplot at 0x1a5c130d30>"
      ]
     },
     "execution_count": 256,
     "metadata": {},
     "output_type": "execute_result"
    },
    {
     "data": {
      "image/png": "[encoded data removed]",
      "text/plain": [
       "<matplotlib.figure.Figure at 0x1a4dc49a90>"
      ]
     },
     "metadata": {},
     "output_type": "display_data"
    }
   ],
   "source": [
    "sns.distplot(weather_data[weather_data.year == 2015].temp)"
   ]
  },
  {
   "cell_type": "code",
   "execution_count": 257,
   "metadata": {},
   "outputs": [
    {
     "data": {
      "image/png": "[encoded data removed]",
      "text/plain": [
       "<matplotlib.figure.Figure at 0x1a4bdd3a20>"
      ]
     },
     "metadata": {},
     "output_type": "display_data"
    }
   ],
   "source": [
    "sns.jointplot(x=\"ndvi\", y=\"temp\", data=data_week, kind=\"kde\", color='#4baf9c')\n",
    "plt.savefig('../img/ndvi-temp.png', transparent=True, dpi=150)"
   ]
  },
  {
   "cell_type": "code",
   "execution_count": 153,
   "metadata": {
    "collapsed": true
   },
   "outputs": [],
   "source": [
    "temp_ndvi_yields = data_week[['field', 'temp', 'ndvi', 'yields']].groupby('field').mean()"
   ]
  },
  {
   "cell_type": "code",
   "execution_count": 179,
   "metadata": {},
   "outputs": [
    {
     "data": {
      "image/png": "[encoded data removed]",
      "text/plain": [
       "<matplotlib.figure.Figure at 0x1a23942908>"
      ]
     },
     "metadata": {},
     "output_type": "display_data"
    }
   ],
   "source": [
    "sns.jointplot(x=\"temp\", y=\"yields\", data=temp_ndvi_yields, kind=\"kde\", color='#4baf9c')\n",
    "plt.savefig('../img/temp-yields.png', dpi=150)"
   ]
  },
  {
   "cell_type": "code",
   "execution_count": 181,
   "metadata": {},
   "outputs": [
    {
     "data": {
      "image/png": "[encoded data removed]",
      "text/plain": [
       "<matplotlib.figure.Figure at 0x1a245d0e80>"
      ]
     },
     "metadata": {},
     "output_type": "display_data"
    }
   ],
   "source": [
    "sns.jointplot(x=\"ndvi\", y=\"yields\", data=temp_ndvi_yields, kind=\"kde\", color='#4baf9c')\n",
    "plt.savefig('../img/ndvi-yields.png', dpi=150)"
   ]
  },
  {
   "cell_type": "code",
   "execution_count": 214,
   "metadata": {},
   "outputs": [
    {
     "data": {
      "image/png": "[encoded data removed]",
      "text/plain": [
       "<matplotlib.figure.Figure at 0x1a49afd978>"
      ]
     },
     "metadata": {},
     "output_type": "display_data"
    }
   ],
   "source": [
    "x_vars = ['prcp', 'slp', 'stp', 'temp', 'max', 'min']\n",
    "y_vars = ['ndvi', 'yields']\n",
    "\n",
    "f = sns.pairplot(data_week, x_vars=x_vars, y_vars=y_vars, palette=['#4baf9c'], kind='reg', diag_kind='kde', diag_kws=dict(shade=True))\n",
    "sns.despine(left=True, bottom=True)\n",
    "\n",
    "for i in range(len(y_vars)):\n",
    "    for j in range(len(x_vars)):\n",
    "        f.axes[i, j].get_xaxis().set_visible(False)\n",
    "        f.axes[i, j].get_yaxis().set_visible(False)"
   ]
  },
  {
   "cell_type": "code",
   "execution_count": 184,
   "metadata": {
    "scrolled": true
   },
   "outputs": [
    {
     "data": {
      "text/plain": [
       "Index(['index', 'year', 'week', 'temp', 'dewp', 'slp', 'stp', 'visib', 'wdsp',\n",
       "       'mxspd', 'max', 'min', 'prcp', 'sndp', 'fog', 'rain', 'snow', 'hail',\n",
       "       'thunder', 'tornado', 'field', 'ndvi', 'yields'],\n",
       "      dtype='object')"
      ]
     },
     "execution_count": 184,
     "metadata": {},
     "output_type": "execute_result"
    }
   ],
   "source": [
    "data_week.columns"
   ]
  },
  {
   "cell_type": "code",
   "execution_count": 258,
   "metadata": {
    "collapsed": true
   },
   "outputs": [],
   "source": [
    "from scipy.stats import spearmanr"
   ]
  },
  {
   "cell_type": "code",
   "execution_count": 259,
   "metadata": {},
   "outputs": [
    {
     "data": {
      "text/plain": [
       "SpearmanrResult(correlation=-0.0046645892996389476, pvalue=0.72567363582700073)"
      ]
     },
     "execution_count": 259,
     "metadata": {},
     "output_type": "execute_result"
    }
   ],
   "source": [
    "spearmanr(data_week['ndvi'], data_week['yields'])"
   ]
  },
  {
   "cell_type": "code",
   "execution_count": 260,
   "metadata": {},
   "outputs": [
    {
     "data": {
      "text/plain": [
       "SpearmanrResult(correlation=-0.028024024861910281, pvalue=0.034990757206233632)"
      ]
     },
     "execution_count": 260,
     "metadata": {},
     "output_type": "execute_result"
    }
   ],
   "source": [
    "spearmanr(data_week['temp'], data_week['yields'])"
   ]
  },
  {
   "cell_type": "code",
   "execution_count": 261,
   "metadata": {},
   "outputs": [
    {
     "data": {
      "text/plain": [
       "SpearmanrResult(correlation=0.67455718553613742, pvalue=0.0)"
      ]
     },
     "execution_count": 261,
     "metadata": {},
     "output_type": "execute_result"
    }
   ],
   "source": [
    "spearmanr(data_week['ndvi'], data_week['temp'])"
   ]
  },
  {
   "cell_type": "code",
   "execution_count": null,
   "metadata": {
    "collapsed": true
   },
   "outputs": [],
   "source": []
  }
 ],
 "metadata": {
  "kernelspec": {
   "display_name": "Python 3",
   "language": "python",
   "name": "python3"
  },
  "language_info": {
   "codemirror_mode": {
    "name": "ipython",
    "version": 3
   },
   "file_extension": ".py",
   "mimetype": "text/x-python",
   "name": "python",
   "nbconvert_exporter": "python",
   "pygments_lexer": "ipython3",
   "version": "3.6.2"
  }
 },
 "nbformat": 4,
 "nbformat_minor": 2
}
