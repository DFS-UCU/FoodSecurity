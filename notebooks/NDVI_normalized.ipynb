{
 "cells": [
  {
   "cell_type": "code",
   "execution_count": null,
   "metadata": {},
   "outputs": [],
   "source": [
    "%matplotlib inline\n",
    "import numpy as np\n",
    "from scipy import stats\n",
    "import pandas as pd\n",
    "import matplotlib.pyplot as plt\n",
    "import numpy.polynomial.polynomial as poly\n",
    "import seaborn as sns\n",
    "\n",
    "sns.set(rc={\"figure.figsize\": (9, 5)})\n",
    "sns.set_style(\"whitegrid\")"
   ]
  },
  {
   "cell_type": "code",
   "execution_count": null,
   "metadata": {
    "collapsed": true
   },
   "outputs": [],
   "source": [
    "def get_year_data_dt(year):\n",
    "    FILE = '../Сводная вегетация.xlsx'\n",
    "    SHEET = year\n",
    "\n",
    "    df = pd.read_excel(FILE, sheetname=SHEET, header=1)\n",
    "\n",
    "    NDVI_COLUMNS = [col for col in df.columns if 'неделя' in col]\n",
    "    CULTURE_COLUMN = 'Культура ' + SHEET\n",
    "    YIELD_COLUMN = 'Урожайность, т./га.'\n",
    "\n",
    "    df_cultures = df.groupby(df[CULTURE_COLUMN]).mean()\n",
    "    df_cultures = df_cultures[df_cultures[YIELD_COLUMN].notnull()]\n",
    "    yield_by_culture = df_cultures[YIELD_COLUMN]\n",
    "    df_cultures = df_cultures[NDVI_COLUMNS]\n",
    "    \n",
    "    df_cultures = df_cultures.apply(lambda x: x.interpolate(method='linear'), axis=1)\n",
    "    df_cultures = df_cultures.apply(lambda x: x.fillna(x[x.first_valid_index()]), axis=1)\n",
    "    df_cultures = df_cultures[df_cultures.columns[::-1]]\n",
    "    df_cultures.columns = pd.date_range(start='2014-01-06', end='2014-12-29', freq='W-MON')\n",
    "    df_cultures['yield'] = yield_by_culture\n",
    "    return df_cultures"
   ]
  },
  {
   "cell_type": "code",
   "execution_count": null,
   "metadata": {
    "collapsed": true
   },
   "outputs": [],
   "source": [
    "def get_year_data_ind(year):\n",
    "    FILE = '../Сводная вегетация.xlsx'\n",
    "    SHEET = str(year)\n",
    "\n",
    "    df = pd.read_excel(FILE, sheetname=SHEET, header=1)\n",
    "\n",
    "    NDVI_COLUMNS = [col for col in df.columns if 'неделя' in col]\n",
    "    CULTURE_COLUMN = 'Культура ' + SHEET\n",
    "    YIELD_COLUMN = 'Урожайность, т./га.'\n",
    "\n",
    "    df_cultures = df.groupby(df[CULTURE_COLUMN]).mean()\n",
    "    df_cultures = df_cultures[df_cultures[YIELD_COLUMN].notnull()]\n",
    "    yield_by_culture = df_cultures[YIELD_COLUMN]\n",
    "    df_cultures = df_cultures[NDVI_COLUMNS]\n",
    "\n",
    "    df_cultures = df_cultures[df_cultures.columns[::-1]]\n",
    "    df_cultures = df_cultures[df_cultures.columns[:52]]\n",
    "    df_cultures.columns = range(1, 53)\n",
    "    df_cultures = df_cultures.apply(lambda x: x.T.interpolate(method='linear'), axis=1)\n",
    "    df_cultures = df_cultures.apply(lambda x: x.fillna(x[x.first_valid_index()]), axis=1)\n",
    "    \n",
    "    return df_cultures"
   ]
  },
  {
   "cell_type": "code",
   "execution_count": null,
   "metadata": {
    "collapsed": true
   },
   "outputs": [],
   "source": [
    "def get_mean_week_ndvi():\n",
    "    FILE = '../Сводная вегетация.xlsx'\n",
    "    df_list = []\n",
    "    for i in range(2012,2016):\n",
    "        SHEET = str(i)\n",
    "\n",
    "        df = pd.read_excel(FILE, sheetname=SHEET, header=1)\n",
    "        NDVI_COLUMNS = [col for col in df.columns if 'неделя' in col]\n",
    "        CULTURE_COLUMN = 'Культура ' + SHEET\n",
    "\n",
    "        df_cultures = df.groupby(df[CULTURE_COLUMN]).mean()\n",
    "        df_cultures = df_cultures[NDVI_COLUMNS]\n",
    "\n",
    "        df_cultures = df_cultures[df_cultures.columns[::-1]]\n",
    "        df_cultures = df_cultures[df_cultures.columns[:52]]\n",
    "        df_cultures.columns = range(1, 53)\n",
    "        df_cultures = df_cultures.apply(lambda x: x.T.interpolate(method='linear'), axis=1)\n",
    "        df_cultures = df_cultures.apply(lambda x: x.fillna(x[x.first_valid_index()]), axis=1)\n",
    "        \n",
    "        df_list.append(df_cultures)\n",
    "    \n",
    "    return df_list"
   ]
  },
  {
   "cell_type": "code",
   "execution_count": null,
   "metadata": {
    "collapsed": true,
    "scrolled": true
   },
   "outputs": [],
   "source": [
    "def culture_year_ndvi(year, culture):\n",
    "    FILE = '../Сводная вегетация.xlsx'\n",
    "    SHEET = str(year)\n",
    "    culture = culture\n",
    "    df = pd.read_excel(FILE, sheetname=SHEET, header=1)\n",
    "\n",
    "    NDVI_COLUMNS = [col for col in df.columns if 'неделя' in col]\n",
    "    #NDVI_COLUMNS = [x for x in NDVI_COLUMNS if x <='неделя 51']\n",
    "    CULTURE_COLUMN = 'Культура ' + SHEET\n",
    "    YIELD_COLUMN = 'Урожайность, т./га.'\n",
    "\n",
    "    df_cultures = df[df[CULTURE_COLUMN] == culture]\n",
    "    df_cultures = df_cultures[df_cultures[YIELD_COLUMN].notnull()]\n",
    "    yield_by_culture = df_cultures[YIELD_COLUMN]\n",
    "    df_cultures = df_cultures[NDVI_COLUMNS]\n",
    "\n",
    "    df_cultures = df_cultures.apply(lambda x: x.interpolate(method='linear'), axis=1)\n",
    "    df_cultures = df_cultures.apply(lambda x: x.fillna(x[x.first_valid_index()]), axis=1)\n",
    "    df_cultures = df_cultures[df_cultures.columns[::-1]]\n",
    "    df_cultures = df_cultures[df_cultures.columns[:52]]\n",
    "    df_cultures.columns = pd.date_range(start=SHEET+'-01-03', end=SHEET+'-12-31', freq='W-MON')\n",
    "    df_cultures['yield'] = yield_by_culture\n",
    "    df_cultures = df_cultures.reset_index()\n",
    "    \n",
    "    return df_cultures"
   ]
  },
  {
   "cell_type": "code",
   "execution_count": null,
   "metadata": {
    "collapsed": true,
    "scrolled": true
   },
   "outputs": [],
   "source": [
    "#generate every year data for sunflower\n",
    "# for i in range(2012,2016):\n",
    "#     df=culture_year_ndvi(i, 'Подсолнечник')\n",
    "#     df.to_csv('Sunflower_'+str(i)+'.csv')"
   ]
  },
  {
   "cell_type": "code",
   "execution_count": null,
   "metadata": {
    "collapsed": true
   },
   "outputs": [],
   "source": [
    "def whole_data_culture_ndvi():\n",
    "    p = pd.Panel({n: df for n, df in enumerate(get_mean_week_ndvi())})\n",
    "    p = p.mean(axis=0)\n",
    "    return p"
   ]
  },
  {
   "cell_type": "code",
   "execution_count": null,
   "metadata": {
    "collapsed": true
   },
   "outputs": [],
   "source": [
    "def plot_ndvi(culture, year):\n",
    "    df = get_year_data_ind(2012)\n",
    "    yt = df.loc[culture].values\n",
    "    xt = range(1, 53)\n",
    "    \n",
    "    plt.plot(xt, yt)"
   ]
  },
  {
   "cell_type": "code",
   "execution_count": null,
   "metadata": {
    "scrolled": true
   },
   "outputs": [],
   "source": [
    "plot_ndvi('Кукуруза', 2014)\n",
    "\n",
    "df = whole_data_culture_ndvi()\n",
    "yt = df.loc['Кукуруза'].values\n",
    "plt.plot(xt, yt)\n",
    "coeff = poly.polyfit(x=xt, y=yt, deg=18)\n",
    "x_new = np.linspace(xt[0], xt[-1], num=len(xt))\n",
    "ffit = poly.polyval(x_new, coeff)\n",
    "plt.plot(x_new, ffit)"
   ]
  }
 ],
 "metadata": {
  "kernelspec": {
   "display_name": "Python 3",
   "language": "python",
   "name": "python3"
  },
  "language_info": {
   "codemirror_mode": {
    "name": "ipython",
    "version": 3
   },
   "file_extension": ".py",
   "mimetype": "text/x-python",
   "name": "python",
   "nbconvert_exporter": "python",
   "pygments_lexer": "ipython3",
   "version": "3.6.2"
  }
 },
 "nbformat": 4,
 "nbformat_minor": 2
}
