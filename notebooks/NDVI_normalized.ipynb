{
 "cells": [
  {
   "cell_type": "code",
   "execution_count": 1,
   "metadata": {
    "collapsed": true
   },
   "outputs": [],
   "source": [
    "%matplotlib inline\n",
    "import numpy as np\n",
    "from scipy import stats\n",
    "import pandas as pd\n",
    "import matplotlib.pyplot as plt"
   ]
  },
  {
   "cell_type": "code",
   "execution_count": 2,
   "metadata": {
    "collapsed": true
   },
   "outputs": [],
   "source": [
    "def get_year_data_dt(year):\n",
    "    FILE = '../Сводная вегетация.xlsx'\n",
    "    SHEET = year\n",
    "\n",
    "    df = pd.read_excel(FILE, sheetname=SHEET, header=1)\n",
    "\n",
    "    NDVI_COLUMNS = [col for col in df.columns if 'неделя' in col]\n",
    "    CULTURE_COLUMN = 'Культура ' + SHEET\n",
    "    YIELD_COLUMN = 'Урожайность, т./га.'\n",
    "\n",
    "    df_cultures = df.groupby(df[CULTURE_COLUMN]).mean()\n",
    "    df_cultures = df_cultures[df_cultures[YIELD_COLUMN].notnull()]\n",
    "    yield_by_culture = df_cultures[YIELD_COLUMN]\n",
    "    df_cultures = df_cultures[NDVI_COLUMNS]\n",
    "    \n",
    "    df_cultures = df_cultures.apply(lambda x: x.interpolate(method='linear'), axis=1)\n",
    "    df_cultures = df_cultures.apply(lambda x: x.fillna(x[x.first_valid_index()]), axis=1)\n",
    "    df_cultures = df_cultures[df_cultures.columns[::-1]]\n",
    "    df_cultures.columns = pd.date_range(start='2014-01-06', end='2014-12-29', freq='W-MON')\n",
    "    df_cultures['yield'] = yield_by_culture\n",
    "    return df_cultures"
   ]
  },
  {
   "cell_type": "code",
   "execution_count": 142,
   "metadata": {
    "collapsed": true
   },
   "outputs": [],
   "source": [
    "def get_year_data_ind(year):\n",
    "    FILE = '../Сводная вегетация.xlsx'\n",
    "    SHEET = str(year)\n",
    "\n",
    "    df = pd.read_excel(FILE, sheetname=SHEET, header=1)\n",
    "\n",
    "    NDVI_COLUMNS = [col for col in df.columns if 'неделя' in col]\n",
    "    CULTURE_COLUMN = 'Культура ' + SHEET\n",
    "    YIELD_COLUMN = 'Урожайность, т./га.'\n",
    "\n",
    "    df_cultures = df.groupby(df[CULTURE_COLUMN]).mean()\n",
    "    df_cultures = df_cultures[df_cultures[YIELD_COLUMN].notnull()]\n",
    "    yield_by_culture = df_cultures[YIELD_COLUMN]\n",
    "    df_cultures = df_cultures[NDVI_COLUMNS]\n",
    "\n",
    "    df_cultures = df_cultures[df_cultures.columns[::-1]]\n",
    "    df_cultures.columns = range(1, 53)\n",
    "    df_cultures = df_cultures.apply(lambda x: x.T.interpolate(method='linear'), axis=1)\n",
    "    df_cultures = df_cultures.apply(lambda x: x.fillna(x[x.first_valid_index()]), axis=1)\n",
    "    df_cultures['yield'] = yield_by_culture\n",
    "    \n",
    "    return df_cultures"
   ]
  },
  {
   "cell_type": "code",
   "execution_count": null,
   "metadata": {
    "collapsed": true
   },
   "outputs": [],
   "source": [
    "def get_mean_week_ndvi():\n",
    "    FILE = '../Сводная вегетация.xlsx'\n",
    "    SHEET = str(year)\n",
    "\n",
    "    df = pd.read_excel(FILE, sheetname=SHEET, header=1)\n",
    "\n",
    "    NDVI_COLUMNS = [col for col in df.columns if 'неделя' in col]\n",
    "    CULTURE_COLUMN = 'Культура ' + SHEET\n",
    "    YIELD_COLUMN = 'Урожайность, т./га.'\n",
    "\n",
    "    df_cultures = df.groupby(df[CULTURE_COLUMN]).mean()\n",
    "    df_cultures = df_cultures[df_cultures[YIELD_COLUMN].notnull()]\n",
    "    yield_by_culture = df_cultures[YIELD_COLUMN]\n",
    "    df_cultures = df_cultures[NDVI_COLUMNS]\n",
    "\n",
    "    df_cultures = df_cultures[df_cultures.columns[::-1]]\n",
    "    df_cultures.columns = range(1, 53)\n",
    "    df_cultures = df_cultures.apply(lambda x: x.T.interpolate(method='linear'), axis=1)\n",
    "    df_cultures = df_cultures.apply(lambda x: x.fillna(x[x.first_valid_index()]), axis=1)\n",
    "    df_cultures['yield'] = yield_by_culture\n",
    "    \n",
    "    return df_cultures"
   ]
  },
  {
   "cell_type": "code",
   "execution_count": null,
   "metadata": {
    "collapsed": true
   },
   "outputs": [],
   "source": [
    "FILE = '../Сводная вегетация.xlsx'\n",
    "#2012\n",
    "df = pd.read_excel(FILE, sheetname=2012, header=1)\n",
    "NDVI_COLUMNS = [col for col in df.columns if 'неделя' in col]\n",
    "CULTURE_COLUMN = 'Культура ' + SHEET\n",
    "\n",
    "df_cultures = df.groupby(df[CULTURE_COLUMN]).mean()\n",
    "df_cultures = df_cultures[NDVI_COLUMNS]\n",
    "\n",
    "df_cultures = df_cultures[df_cultures.columns[::-1]]\n",
    "df_cultures.columns = range(1, 53)\n",
    "df_cultures = df_cultures.apply(lambda x: x.T.interpolate(method='linear'), axis=1)\n",
    "df_cultures = df_cultures.apply(lambda x: x.fillna(x[x.first_valid_index()]), axis=1)\n",
    "#2013\n",
    "df = pd.read_excel(FILE, sheetname=2013, header=1)\n",
    "NDVI_COLUMNS = [col for col in df.columns if 'неделя' in col]\n",
    "CULTURE_COLUMN = 'Культура ' + SHEET\n",
    "\n",
    "df_cultures2 = df.groupby(df[CULTURE_COLUMN]).mean()\n",
    "df_cultures2 = df_cultures2[NDVI_COLUMNS]\n",
    "\n",
    "df_cultures2 = df_cultures2[df_cultures2.columns[::-1]]\n",
    "df_cultures2.columns = range(1, 53)\n",
    "df_cultures2 = df_cultures2.apply(lambda x: x.T.interpolate(method='linear'), axis=1)\n",
    "df_cultures2 = df_cultures2.apply(lambda x: x.fillna(x[x.first_valid_index()]), axis=1)\n",
    "#merge 2012 & 2013\n",
    "df1=pd.concat((df_cultures, df_cultures2), axis=1).mean(axis=1)\n",
    "#2014\n",
    "df = pd.read_excel(FILE, sheetname=2014, header=1)\n",
    "NDVI_COLUMNS = [col for col in df.columns if 'неделя' in col]\n",
    "CULTURE_COLUMN = 'Культура ' + SHEET\n",
    "\n",
    "df_cultures = df.groupby(df[CULTURE_COLUMN]).mean()\n",
    "df_cultures = df_cultures[NDVI_COLUMNS]\n",
    "\n",
    "df_cultures = df_cultures[df_cultures.columns[::-1]]\n",
    "df_cultures.columns = range(1, 53)\n",
    "df_cultures = df_cultures.apply(lambda x: x.T.interpolate(method='linear'), axis=1)\n",
    "df_cultures = df_cultures.apply(lambda x: x.fillna(x[x.first_valid_index()]), axis=1)\n",
    "#2015\n",
    "df = pd.read_excel(FILE, sheetname=2015, header=1)\n",
    "NDVI_COLUMNS = [col for col in df.columns if 'неделя' in col]\n",
    "CULTURE_COLUMN = 'Культура ' + SHEET\n",
    "\n",
    "df_cultures2 = df.groupby(df[CULTURE_COLUMN]).mean()\n",
    "df_cultures2 = df_cultures2[NDVI_COLUMNS]\n",
    "\n",
    "df_cultures2 = df_cultures2[df_cultures2.columns[::-1]]\n",
    "df_cultures2.columns = range(1, 53)\n",
    "df_cultures2 = df_cultures2.apply(lambda x: x.T.interpolate(method='linear'), axis=1)\n",
    "df_cultures2 = df_cultures2.apply(lambda x: x.fillna(x[x.first_valid_index()]), axis=1)\n",
    "#merge 2014 & 2015\n",
    "df2=pd.concat((df_cultures, df_cultures2), axis=1).mean(axis=1)\n",
    "#final merge\n",
    "df=pd.concat((df1, df2), axis=1).mean(axis=1)"
   ]
  },
  {
   "cell_type": "code",
   "execution_count": 143,
   "metadata": {
    "scrolled": true
   },
   "outputs": [],
   "source": [
    "def culture_year_ndvi(year, culture):\n",
    "    FILE = '../Сводная вегетация.xlsx'\n",
    "    SHEET = str(year)\n",
    "    culture = culture\n",
    "    df = pd.read_excel(FILE, sheetname=SHEET, header=1)\n",
    "\n",
    "    NDVI_COLUMNS = [col for col in df.columns if 'неделя' in col]\n",
    "    #NDVI_COLUMNS = [x for x in NDVI_COLUMNS if x <='неделя 51']\n",
    "    CULTURE_COLUMN = 'Культура ' + SHEET\n",
    "    YIELD_COLUMN = 'Урожайность, т./га.'\n",
    "\n",
    "    df_cultures = df[df[CULTURE_COLUMN] == culture]\n",
    "    df_cultures = df_cultures[df_cultures[YIELD_COLUMN].notnull()]\n",
    "    yield_by_culture = df_cultures[YIELD_COLUMN]\n",
    "    df_cultures = df_cultures[NDVI_COLUMNS]\n",
    "    df_cultures\n",
    "\n",
    "    df_cultures = df_cultures.apply(lambda x: x.interpolate(method='linear'), axis=1)\n",
    "    df_cultures = df_cultures.apply(lambda x: x.fillna(x[x.first_valid_index()]), axis=1)\n",
    "    df_cultures = df_cultures[df_cultures.columns[::-1]]\n",
    "    df_cultures = df_cultures[df_cultures.columns[:52]]\n",
    "    print(SHEET)\n",
    "    df_cultures.columns = pd.date_range(start=SHEET+'-01-03', end=SHEET+'-12-31', freq='W-MON')\n",
    "    df_cultures['yield'] = yield_by_culture\n",
    "    df_cultures = df_cultures.reset_index()\n",
    "    return df_cultures"
   ]
  },
  {
   "cell_type": "code",
   "execution_count": 136,
   "metadata": {
    "scrolled": true
   },
   "outputs": [
    {
     "name": "stdout",
     "output_type": "stream",
     "text": [
      "2012\n",
      "2013\n",
      "2014\n",
      "2015\n"
     ]
    }
   ],
   "source": [
    "# for i in range(2012,2016):\n",
    "#     df=culture_year_ndvi(i, 'Подсолнечник')\n",
    "#     df.to_csv('Sunflower_'+str(i)+'.csv')"
   ]
  },
  {
   "cell_type": "code",
   "execution_count": 183,
   "metadata": {
    "scrolled": true
   },
   "outputs": [
    {
     "data": {
      "text/plain": [
       "[<matplotlib.lines.Line2D at 0x7f2b0c1c7668>]"
      ]
     },
     "execution_count": 183,
     "metadata": {},
     "output_type": "execute_result"
    },
    {
     "data": {
      "image/png": "[encoded data removed]",
      "text/plain": [
       "<matplotlib.figure.Figure at 0x7f2b0dd83940>"
      ]
     },
     "metadata": {},
     "output_type": "display_data"
    }
   ],
   "source": [
    "import numpy.polynomial.polynomial as poly\n",
    "\n",
    "dfc14 = get_for_gen_crop(2014)\n",
    "dfc14.drop('yield', axis=1, inplace=True)\n",
    "yt = dfc14.loc['Кукуруза'].values\n",
    "xt = range(1, 53)\n",
    "plt.plot(xt, yt)\n",
    "coeff = poly.polyfit(x=xt, y=yt, deg=18)\n",
    "x_new = np.linspace(xt[0], xt[-1], num=len(xt))\n",
    "ffit = poly.polyval(x_new, coeff)\n",
    "plt.plot(x_new, ffit)"
   ]
  },
  {
   "cell_type": "code",
   "execution_count": 15,
   "metadata": {
    "scrolled": true
   },
   "outputs": [
    {
     "name": "stdout",
     "output_type": "stream",
     "text": [
      "Культура 2014\n",
      "Кукуруза          3.049583\n",
      "Подсолнечник      2.185962\n",
      "Пшеница озимая    4.244634\n",
      "Рапс озимый       2.335000\n",
      "Соя               1.610000\n",
      "Ячмень озимый     3.121111\n",
      "Name: yield, dtype: float64\n"
     ]
    },
    {
     "data": {
      "text/plain": [
       "array([ 2.68139436,  2.66933979,  2.6667804 ,  2.70276995,  2.67514743,\n",
       "        2.71115743])"
      ]
     },
     "execution_count": 15,
     "metadata": {},
     "output_type": "execute_result"
    }
   ],
   "source": [
    "\n",
    "# from sklearn import svm\n",
    "# from sklearn import metrics\n",
    "# dfc14 = get_year_data('2014')\n",
    "# y = dfc14['yield']\n",
    "# X = dfc14.drop('yield', axis=1).as_matrix()\n",
    "\n",
    "# dfc15 = get_year_data('2015')\n",
    "# y_train = dfc15['yield']\n",
    "# X_train = dfc15.drop('yield', axis=1).as_matrix()\n",
    "\n",
    "# model = svm.SVR()\n",
    "# model.fit(X, y)\n",
    "# print(y)\n",
    "# model.predict(dfc15.drop('yield', axis=1).as_matrix())\n",
    "# metrics.accuracy_score("
   ]
  }
 ],
 "metadata": {
  "kernelspec": {
   "display_name": "Python 3",
   "language": "python",
   "name": "python3"
  },
  "language_info": {
   "codemirror_mode": {
    "name": "ipython",
    "version": 3
   },
   "file_extension": ".py",
   "mimetype": "text/x-python",
   "name": "python",
   "nbconvert_exporter": "python",
   "pygments_lexer": "ipython3",
   "version": "3.6.2"
  }
 },
 "nbformat": 4,
 "nbformat_minor": 2
}
