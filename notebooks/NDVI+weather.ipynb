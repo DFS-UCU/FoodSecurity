{
 "cells": [
  {
   "cell_type": "code",
   "execution_count": 730,
   "metadata": {},
   "outputs": [],
   "source": [
    "import pandas as pd\n",
    "import numpy as np"
   ]
  },
  {
   "cell_type": "code",
   "execution_count": 731,
   "metadata": {},
   "outputs": [],
   "source": [
    "frames = []\n",
    "for i in range(4):\n",
    "    frames.append(pd.read_csv('../data/Sunflower_201'+str(i+2)+'.csv'))\n",
    "\n",
    "for df in frames:\n",
    "    df.drop(df.columns[[0,1]],axis=1,inplace=True)\n",
    "\n",
    "X_ndvi_list = []\n",
    "Y_list = []"
   ]
  },
  {
   "cell_type": "code",
   "execution_count": 732,
   "metadata": {},
   "outputs": [],
   "source": [
    "for df in frames:\n",
    "    X_ndvi_list.append(df.loc[:, df.columns != 'yield'])\n",
    "    Y_list.append(df.loc[:, df.columns == 'yield'])\n"
   ]
  },
  {
   "cell_type": "code",
   "execution_count": 733,
   "metadata": {},
   "outputs": [],
   "source": [
    "for i in range(4):\n",
    "    X_ndvi_list[i].columns = range(-52,0,1)\n"
   ]
  },
  {
   "cell_type": "code",
   "execution_count": 734,
   "metadata": {},
   "outputs": [],
   "source": [
    "frames = []\n",
    "for i in range(4):\n",
    "    frames.append(pd.DataFrame.from_csv('../meteo_csv/201'+str(i+2)+'.csv'))\n"
   ]
  },
  {
   "cell_type": "code",
   "execution_count": 735,
   "metadata": {},
   "outputs": [],
   "source": [
    "for df in frames:\n",
    "    df.drop(df.columns[[0, 1,4,6,8,10,12,14,16]], axis=1, inplace=True)\n",
    "    df['year'] = df['yearmoda'] // 10000\n",
    "    df['month'] = df['yearmoda'] // 100 % 100\n",
    "    df['day'] = df['yearmoda'] % 100\n",
    "    df['sndp'].replace(999.9,0, inplace = True)\n",
    "    df['yearmoda1'] = df['yearmoda'].astype(str).apply(lambda x: x[:9])\n",
    "    df.index = pd.to_datetime(df['yearmoda1'], format='%Y%m%d').values\n",
    "    df.drop(df.columns[[0,16]], axis=1, inplace=True)\n",
    "    for x in df[df['wdsp'] == 999.9].index:\n",
    "        df.loc[x,'wdsp'] = np.NaN\n",
    "    df['wdsp'] = df['wdsp'].interpolate(method='time')\n",
    "    for x in df[df['mxspd'] == 999.9].index:\n",
    "        df.loc[x,'mxspd'] = np.NaN\n",
    "    df['mxspd'] = df['mxspd'].interpolate(method='time')\n",
    "    for x in df[df['prcp'] == '99.99'].index:\n",
    "        df.loc[x,'prcp'] = np.NaN\n",
    "    for x in df.index:\n",
    "        if (str(df.loc[x,'prcp'])[-1] == 'I') or (str(df.loc[x,'prcp'])[-1] == 'H'):\n",
    "            df.loc[x,'prcp'] = np.NaN\n",
    "    for x in df[df['prcp'].notnull()].index:\n",
    "        df.loc[x,'prcp'] = df.loc[x,'prcp'][:-1]\n",
    "    for x in df.index:\n",
    "        if (str(df.loc[x,'max'])[-1] == '*'):\n",
    "            df.loc[x,'max'] = df.loc[x,'max'][:-1]\n",
    "        if (str(df.loc[x,'min'])[-1] == '*'):\n",
    "            df.loc[x,'min'] = df.loc[x,'min'][:-1]\n",
    "    df['max']=df['max'].astype(np.float64)\n",
    "    df['min']=df['min'].astype(np.float64)\n",
    "    df['prcp']=df['prcp'].astype(np.float64)\n",
    "    df['prcp'] = df['prcp'].interpolate(method='time')\n",
    "    \n",
    "    \n",
    "    \n"
   ]
  },
  {
   "cell_type": "code",
   "execution_count": 736,
   "metadata": {},
   "outputs": [],
   "source": [
    "for df in frames:\n",
    "    df['fog'] = df['frshtt'] // 100000\n",
    "    df['rain'] = df['frshtt'] // 10000 % 10\n",
    "    df['snow'] = df['frshtt'] // 1000 % 10\n",
    "    df['hail'] = df['frshtt'] // 100 % 10\n",
    "    df['thunder'] = df['frshtt'] // 10 % 10\n",
    "    df['tornado'] = df['frshtt'] % 10\n",
    "    df.drop(['frshtt'],axis = 1, inplace = True)\n",
    "\n",
    "\n",
    "    \n",
    "    \n",
    "    "
   ]
  },
  {
   "cell_type": "code",
   "execution_count": 737,
   "metadata": {},
   "outputs": [],
   "source": [
    "for i in range(3):\n",
    "    frames[i] = frames[i].fillna(method='bfill')"
   ]
  },
  {
   "cell_type": "code",
   "execution_count": 738,
   "metadata": {},
   "outputs": [
    {
     "name": "stdout",
     "output_type": "stream",
     "text": [
      "(7280,)\n",
      "(7280,)\n",
      "(7280,)\n",
      "(7280,)\n"
     ]
    }
   ],
   "source": [
    "years = []\n",
    "years.append(pd.Series(frames[0].values.ravel()[:-40]))\n",
    "years.append(pd.Series(frames[1].values.ravel()))\n",
    "years.append(pd.Series(frames[2].values.ravel()))\n",
    "years.append(pd.Series(frames[3].values.ravel()[:-20]))\n",
    "for year in years:\n",
    "    print(year.shape)"
   ]
  },
  {
   "cell_type": "code",
   "execution_count": 739,
   "metadata": {},
   "outputs": [
    {
     "data": {
      "text/plain": [
       "0         28.40\n",
       "1         25.00\n",
       "2       1022.50\n",
       "3        999.40\n",
       "4          7.40\n",
       "5          5.30\n",
       "6          7.80\n",
       "7         35.60\n",
       "8         19.90\n",
       "9          0.13\n",
       "10         3.90\n",
       "11      2013.00\n",
       "12         1.00\n",
       "13         1.00\n",
       "14         1.00\n",
       "15         0.00\n",
       "16         0.00\n",
       "17         0.00\n",
       "18         0.00\n",
       "19         0.00\n",
       "20        32.40\n",
       "21        30.80\n",
       "22      1022.80\n",
       "23       999.90\n",
       "24         3.30\n",
       "25         6.80\n",
       "26         9.70\n",
       "27        36.70\n",
       "28        26.20\n",
       "29         0.13\n",
       "         ...   \n",
       "7250       0.00\n",
       "7251    2013.00\n",
       "7252      12.00\n",
       "7253      30.00\n",
       "7254       1.00\n",
       "7255       1.00\n",
       "7256       0.00\n",
       "7257       0.00\n",
       "7258       0.00\n",
       "7259       0.00\n",
       "7260      32.20\n",
       "7261      31.70\n",
       "7262    1030.20\n",
       "7263    1007.10\n",
       "7264       1.20\n",
       "7265       6.80\n",
       "7266       9.70\n",
       "7267      34.30\n",
       "7268      28.80\n",
       "7269       0.02\n",
       "7270       0.00\n",
       "7271    2013.00\n",
       "7272      12.00\n",
       "7273      31.00\n",
       "7274       1.00\n",
       "7275       0.00\n",
       "7276       0.00\n",
       "7277       0.00\n",
       "7278       0.00\n",
       "7279       0.00\n",
       "Length: 7280, dtype: float64"
      ]
     },
     "execution_count": 739,
     "metadata": {},
     "output_type": "execute_result"
    }
   ],
   "source": [
    "years[1]"
   ]
  },
  {
   "cell_type": "code",
   "execution_count": 740,
   "metadata": {
    "scrolled": true
   },
   "outputs": [
    {
     "name": "stdout",
     "output_type": "stream",
     "text": [
      "(52, 26)\n",
      "(52, 24)\n",
      "(52, 54)\n",
      "(52, 44)\n"
     ]
    }
   ],
   "source": [
    "for i in range(4):\n",
    "    X_ndvi_list[i] = X_ndvi_list[i].transpose()\n",
    "    print(X_ndvi_list[i].shape)\n"
   ]
  },
  {
   "cell_type": "code",
   "execution_count": 741,
   "metadata": {},
   "outputs": [
    {
     "name": "stdout",
     "output_type": "stream",
     "text": [
      "(26, 7332)\n",
      "(24, 7332)\n",
      "(54, 7332)\n",
      "(44, 7332)\n"
     ]
    }
   ],
   "source": [
    "for i in range(4):\n",
    "\n",
    "    df = pd.DataFrame(years[i])\n",
    "    for j in range(len(Y_list[i].index)-1):\n",
    "        df = pd.concat([df,years[i]], axis=1)\n",
    "    df.columns = range(len(Y_list[i].index))\n",
    "    X1[i] = pd.concat([X_ndvi_list[i],df], join = 'inner')\n",
    "    X1[i] = X1[i].transpose()\n",
    "    print(X1[i].shape)"
   ]
  },
  {
   "cell_type": "code",
   "execution_count": 742,
   "metadata": {},
   "outputs": [],
   "source": [
    "X_train, X_test, Y_train, Y_test = pd.concat([X1[0],X1[1],X1[2]]), X1[3], pd.concat([Y_list[0],Y_list[1],Y_list[2]]), Y_list[3] "
   ]
  },
  {
   "cell_type": "code",
   "execution_count": 743,
   "metadata": {},
   "outputs": [],
   "source": [
    "X_train.index = range(104)\n",
    "Y_train.index = range(104)\n"
   ]
  },
  {
   "cell_type": "code",
   "execution_count": 751,
   "metadata": {},
   "outputs": [
    {
     "data": {
      "text/plain": [
       "(104, 7332)"
      ]
     },
     "execution_count": 751,
     "metadata": {},
     "output_type": "execute_result"
    }
   ],
   "source": [
    "Y_train = pd.Series(Y_train.values.ravel())\n",
    "\n",
    "X_tr = X_train.values\n",
    "Y_tr = Y_train.values\n",
    "Y_tst = Y_test.values\n",
    "Y_tr = Y_train.values\n",
    "X_tr.shape\n",
    "\n"
   ]
  },
  {
   "cell_type": "code",
   "execution_count": 721,
   "metadata": {},
   "outputs": [],
   "source": [
    "#X_sm_train = X_train.drop(X_train.columns[range(200,-1)], axis=1)"
   ]
  },
  {
   "cell_type": "code",
   "execution_count": 752,
   "metadata": {
    "scrolled": true
   },
   "outputs": [
    {
     "ename": "ValueError",
     "evalue": "Input contains NaN, infinity or a value too large for dtype('float64').",
     "output_type": "error",
     "traceback": [
      "\u001b[0;31m---------------------------------------------------------------------------\u001b[0m",
      "\u001b[0;31mValueError\u001b[0m                                Traceback (most recent call last)",
      "\u001b[0;32m<ipython-input-752-583208eec022>\u001b[0m in \u001b[0;36m<module>\u001b[0;34m()\u001b[0m\n\u001b[1;32m      2\u001b[0m \u001b[0;34m\u001b[0m\u001b[0m\n\u001b[1;32m      3\u001b[0m \u001b[0mmodel\u001b[0m \u001b[0;34m=\u001b[0m \u001b[0mLogisticRegression\u001b[0m\u001b[0;34m(\u001b[0m\u001b[0;34m)\u001b[0m\u001b[0;34m\u001b[0m\u001b[0m\n\u001b[0;32m----> 4\u001b[0;31m \u001b[0mmodel\u001b[0m \u001b[0;34m=\u001b[0m \u001b[0mmodel\u001b[0m\u001b[0;34m.\u001b[0m\u001b[0mfit\u001b[0m\u001b[0;34m(\u001b[0m\u001b[0mX_tr\u001b[0m\u001b[0;34m,\u001b[0m \u001b[0mY_tr\u001b[0m\u001b[0;34m)\u001b[0m\u001b[0;34m\u001b[0m\u001b[0m\n\u001b[0m",
      "\u001b[0;32m~/.local/lib/python3.5/site-packages/sklearn/linear_model/logistic.py\u001b[0m in \u001b[0;36mfit\u001b[0;34m(self, X, y, sample_weight)\u001b[0m\n\u001b[1;32m   1214\u001b[0m \u001b[0;34m\u001b[0m\u001b[0m\n\u001b[1;32m   1215\u001b[0m         X, y = check_X_y(X, y, accept_sparse='csr', dtype=_dtype,\n\u001b[0;32m-> 1216\u001b[0;31m                          order=\"C\")\n\u001b[0m\u001b[1;32m   1217\u001b[0m         \u001b[0mcheck_classification_targets\u001b[0m\u001b[0;34m(\u001b[0m\u001b[0my\u001b[0m\u001b[0;34m)\u001b[0m\u001b[0;34m\u001b[0m\u001b[0m\n\u001b[1;32m   1218\u001b[0m         \u001b[0mself\u001b[0m\u001b[0;34m.\u001b[0m\u001b[0mclasses_\u001b[0m \u001b[0;34m=\u001b[0m \u001b[0mnp\u001b[0m\u001b[0;34m.\u001b[0m\u001b[0munique\u001b[0m\u001b[0;34m(\u001b[0m\u001b[0my\u001b[0m\u001b[0;34m)\u001b[0m\u001b[0;34m\u001b[0m\u001b[0m\n",
      "\u001b[0;32m~/.local/lib/python3.5/site-packages/sklearn/utils/validation.py\u001b[0m in \u001b[0;36mcheck_X_y\u001b[0;34m(X, y, accept_sparse, dtype, order, copy, force_all_finite, ensure_2d, allow_nd, multi_output, ensure_min_samples, ensure_min_features, y_numeric, warn_on_dtype, estimator)\u001b[0m\n\u001b[1;32m    546\u001b[0m     \u001b[0;32melse\u001b[0m\u001b[0;34m:\u001b[0m\u001b[0;34m\u001b[0m\u001b[0m\n\u001b[1;32m    547\u001b[0m         \u001b[0my\u001b[0m \u001b[0;34m=\u001b[0m \u001b[0mcolumn_or_1d\u001b[0m\u001b[0;34m(\u001b[0m\u001b[0my\u001b[0m\u001b[0;34m,\u001b[0m \u001b[0mwarn\u001b[0m\u001b[0;34m=\u001b[0m\u001b[0;32mTrue\u001b[0m\u001b[0;34m)\u001b[0m\u001b[0;34m\u001b[0m\u001b[0m\n\u001b[0;32m--> 548\u001b[0;31m         \u001b[0m_assert_all_finite\u001b[0m\u001b[0;34m(\u001b[0m\u001b[0my\u001b[0m\u001b[0;34m)\u001b[0m\u001b[0;34m\u001b[0m\u001b[0m\n\u001b[0m\u001b[1;32m    549\u001b[0m     \u001b[0;32mif\u001b[0m \u001b[0my_numeric\u001b[0m \u001b[0;32mand\u001b[0m \u001b[0my\u001b[0m\u001b[0;34m.\u001b[0m\u001b[0mdtype\u001b[0m\u001b[0;34m.\u001b[0m\u001b[0mkind\u001b[0m \u001b[0;34m==\u001b[0m \u001b[0;34m'O'\u001b[0m\u001b[0;34m:\u001b[0m\u001b[0;34m\u001b[0m\u001b[0m\n\u001b[1;32m    550\u001b[0m         \u001b[0my\u001b[0m \u001b[0;34m=\u001b[0m \u001b[0my\u001b[0m\u001b[0;34m.\u001b[0m\u001b[0mastype\u001b[0m\u001b[0;34m(\u001b[0m\u001b[0mnp\u001b[0m\u001b[0;34m.\u001b[0m\u001b[0mfloat64\u001b[0m\u001b[0;34m)\u001b[0m\u001b[0;34m\u001b[0m\u001b[0m\n",
      "\u001b[0;32m~/.local/lib/python3.5/site-packages/sklearn/utils/validation.py\u001b[0m in \u001b[0;36m_assert_all_finite\u001b[0;34m(X)\u001b[0m\n\u001b[1;32m     41\u001b[0m             and not np.isfinite(X).all()):\n\u001b[1;32m     42\u001b[0m         raise ValueError(\"Input contains NaN, infinity\"\n\u001b[0;32m---> 43\u001b[0;31m                          \" or a value too large for %r.\" % X.dtype)\n\u001b[0m\u001b[1;32m     44\u001b[0m \u001b[0;34m\u001b[0m\u001b[0m\n\u001b[1;32m     45\u001b[0m \u001b[0;34m\u001b[0m\u001b[0m\n",
      "\u001b[0;31mValueError\u001b[0m: Input contains NaN, infinity or a value too large for dtype('float64')."
     ]
    }
   ],
   "source": [
    "from sklearn.linear_model import LogisticRegression\n",
    "\n",
    "model = LogisticRegression()\n",
    "model = model.fit(X_tr, Y_tr)"
   ]
  },
  {
   "cell_type": "code",
   "execution_count": 750,
   "metadata": {},
   "outputs": [
    {
     "data": {
      "text/plain": [
       "array([ 0.211,  0.211,  0.211, ...,  0.   ,  0.   ,  0.   ])"
      ]
     },
     "execution_count": 750,
     "metadata": {},
     "output_type": "execute_result"
    }
   ],
   "source": [
    "X_tr[0]"
   ]
  },
  {
   "cell_type": "code",
   "execution_count": 687,
   "metadata": {},
   "outputs": [
    {
     "data": {
      "text/plain": [
       "4.2999999999999998"
      ]
     },
     "execution_count": 687,
     "metadata": {},
     "output_type": "execute_result"
    }
   ],
   "source": [
    "X_train.iloc[100,500]"
   ]
  },
  {
   "cell_type": "code",
   "execution_count": 724,
   "metadata": {},
   "outputs": [
    {
     "data": {
      "text/plain": [
       "322608"
      ]
     },
     "execution_count": 724,
     "metadata": {},
     "output_type": "execute_result"
    }
   ],
   "source": [
    "np.isfinite(X_test).sum().sum()"
   ]
  },
  {
   "cell_type": "code",
   "execution_count": null,
   "metadata": {},
   "outputs": [],
   "source": []
  },
  {
   "cell_type": "code",
   "execution_count": null,
   "metadata": {},
   "outputs": [],
   "source": []
  }
 ],
 "metadata": {
  "kernelspec": {
   "display_name": "Python 3",
   "language": "python",
   "name": "python3"
  },
  "language_info": {
   "codemirror_mode": {
    "name": "ipython",
    "version": 3
   },
   "file_extension": ".py",
   "mimetype": "text/x-python",
   "name": "python",
   "nbconvert_exporter": "python",
   "pygments_lexer": "ipython3",
   "version": "3.5.2"
  }
 },
 "nbformat": 4,
 "nbformat_minor": 2
}
