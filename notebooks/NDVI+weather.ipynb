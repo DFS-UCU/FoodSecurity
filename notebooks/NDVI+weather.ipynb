{
 "cells": [
  {
   "cell_type": "code",
   "execution_count": 221,
   "metadata": {},
   "outputs": [],
   "source": [
    "import pandas as pd\n",
    "import numpy as np"
   ]
  },
  {
   "cell_type": "code",
   "execution_count": 222,
   "metadata": {},
   "outputs": [
    {
     "name": "stdout",
     "output_type": "stream",
     "text": [
      "(26, 53)\n",
      "(24, 53)\n",
      "(52, 53)\n",
      "(44, 53)\n"
     ]
    }
   ],
   "source": [
    "frames = []\n",
    "for i in range(4):\n",
    "    frames.append(pd.read_csv('../data/Sunflower_201'+str(i+2)+'.csv'))\n",
    "\n",
    "for df in frames:\n",
    "    df.drop(df.columns[[0,1]],axis=1,inplace=True)\n",
    "    df.dropna(how='any', inplace=True)\n",
    "\n",
    "X_ndvi_list = []\n",
    "Y_list = []\n",
    "\n",
    "for i in range(4):\n",
    "    \n",
    "    print(frames[i].shape)"
   ]
  },
  {
   "cell_type": "code",
   "execution_count": 223,
   "metadata": {},
   "outputs": [],
   "source": [
    "for df in frames:\n",
    "    X_ndvi_list.append(df.loc[:, df.columns != 'yield'])\n",
    "    Y_list.append(df.loc[:, df.columns == 'yield'])\n"
   ]
  },
  {
   "cell_type": "code",
   "execution_count": 224,
   "metadata": {},
   "outputs": [],
   "source": [
    "for i in range(4):\n",
    "    X_ndvi_list[i].columns = range(-52,0,1)\n"
   ]
  },
  {
   "cell_type": "code",
   "execution_count": 225,
   "metadata": {},
   "outputs": [
    {
     "data": {
      "text/plain": [
       "Int64Index([ 0,  1,  2,  3,  4,  5,  6,  7,  8,  9, 10, 11, 12, 13, 14, 15, 16,\n",
       "            17, 18, 19, 20, 21, 22, 23, 24, 25, 26, 27, 28, 29, 30, 31, 32, 33,\n",
       "            34, 35, 36, 37, 38, 39, 40, 41, 42, 43, 44, 45, 46, 47, 48, 49, 50,\n",
       "            51],\n",
       "           dtype='int64')"
      ]
     },
     "execution_count": 225,
     "metadata": {},
     "output_type": "execute_result"
    }
   ],
   "source": [
    "Y_list[2].index = list(range(52))\n",
    "X_ndvi_list[2].index = list(range(52))\n",
    "\n",
    "Y_list[2].index"
   ]
  },
  {
   "cell_type": "code",
   "execution_count": 226,
   "metadata": {},
   "outputs": [],
   "source": [
    "frames = []\n",
    "for i in range(4):\n",
    "    frames.append(pd.DataFrame.from_csv('../meteo_csv/201'+str(i+2)+'.csv'))\n"
   ]
  },
  {
   "cell_type": "code",
   "execution_count": 227,
   "metadata": {},
   "outputs": [],
   "source": [
    "for df in frames:\n",
    "    df.drop(df.columns[[0, 1,4,6,8,10,12,14,16]], axis=1, inplace=True)\n",
    "    df['year'] = df['yearmoda'] // 10000\n",
    "    df['month'] = df['yearmoda'] // 100 % 100\n",
    "    df['day'] = df['yearmoda'] % 100\n",
    "    df['sndp'].replace(999.9,0, inplace = True)\n",
    "    df['yearmoda1'] = df['yearmoda'].astype(str).apply(lambda x: x[:9])\n",
    "    df.index = pd.to_datetime(df['yearmoda1'], format='%Y%m%d').values\n",
    "    df.drop(df.columns[[0,16]], axis=1, inplace=True)\n",
    "    for x in df[df['wdsp'] == 999.9].index:\n",
    "        df.loc[x,'wdsp'] = np.NaN\n",
    "    df['wdsp'] = df['wdsp'].interpolate(method='time')\n",
    "    for x in df[df['mxspd'] == 999.9].index:\n",
    "        df.loc[x,'mxspd'] = np.NaN\n",
    "    df['mxspd'] = df['mxspd'].interpolate(method='time')\n",
    "    for x in df[df['prcp'] == '99.99'].index:\n",
    "        df.loc[x,'prcp'] = np.NaN\n",
    "    for x in df.index:\n",
    "        if (str(df.loc[x,'prcp'])[-1] == 'I') or (str(df.loc[x,'prcp'])[-1] == 'H'):\n",
    "            df.loc[x,'prcp'] = np.NaN\n",
    "    for x in df[df['prcp'].notnull()].index:\n",
    "        df.loc[x,'prcp'] = df.loc[x,'prcp'][:-1]\n",
    "    for x in df.index:\n",
    "        if (str(df.loc[x,'max'])[-1] == '*'):\n",
    "            df.loc[x,'max'] = df.loc[x,'max'][:-1]\n",
    "        if (str(df.loc[x,'min'])[-1] == '*'):\n",
    "            df.loc[x,'min'] = df.loc[x,'min'][:-1]\n",
    "    df['max']=df['max'].astype(np.float64)\n",
    "    df['min']=df['min'].astype(np.float64)\n",
    "    df['prcp']=df['prcp'].astype(np.float64)\n",
    "    df['prcp'] = df['prcp'].interpolate(method='time')\n",
    "    \n",
    "    \n",
    "    \n"
   ]
  },
  {
   "cell_type": "code",
   "execution_count": 228,
   "metadata": {},
   "outputs": [],
   "source": [
    "for df in frames:\n",
    "    df['fog'] = df['frshtt'] // 100000\n",
    "    df['rain'] = df['frshtt'] // 10000 % 10\n",
    "    df['snow'] = df['frshtt'] // 1000 % 10\n",
    "    df['hail'] = df['frshtt'] // 100 % 10\n",
    "    df['thunder'] = df['frshtt'] // 10 % 10\n",
    "    df['tornado'] = df['frshtt'] % 10\n",
    "    df.drop(['frshtt'],axis = 1, inplace = True)\n",
    "\n",
    "\n",
    "    \n",
    "    \n",
    "    "
   ]
  },
  {
   "cell_type": "code",
   "execution_count": 229,
   "metadata": {},
   "outputs": [
    {
     "data": {
      "text/plain": [
       "(366, 20)"
      ]
     },
     "execution_count": 229,
     "metadata": {},
     "output_type": "execute_result"
    }
   ],
   "source": [
    "frames[0].shape"
   ]
  },
  {
   "cell_type": "code",
   "execution_count": 230,
   "metadata": {},
   "outputs": [],
   "source": [
    "for i in range(3):\n",
    "    frames[i] = frames[i].fillna(method='bfill')"
   ]
  },
  {
   "cell_type": "code",
   "execution_count": 231,
   "metadata": {},
   "outputs": [
    {
     "name": "stdout",
     "output_type": "stream",
     "text": [
      "(7280,)\n",
      "(7280,)\n",
      "(7280,)\n",
      "(7280,)\n"
     ]
    }
   ],
   "source": [
    "years = []\n",
    "years.append(pd.Series(frames[0].values.ravel()[:-40]))\n",
    "years.append(pd.Series(frames[1].values.ravel()))\n",
    "years.append(pd.Series(frames[2].values.ravel()))\n",
    "years.append(pd.Series(frames[3].values.ravel()[:-20]))\n",
    "for year in years:\n",
    "    print(year.shape)"
   ]
  },
  {
   "cell_type": "code",
   "execution_count": 232,
   "metadata": {},
   "outputs": [
    {
     "data": {
      "text/plain": [
       "0         28.40\n",
       "1         25.00\n",
       "2       1022.50\n",
       "3        999.40\n",
       "4          7.40\n",
       "5          5.30\n",
       "6          7.80\n",
       "7         35.60\n",
       "8         19.90\n",
       "9          0.13\n",
       "10         3.90\n",
       "11      2013.00\n",
       "12         1.00\n",
       "13         1.00\n",
       "14         1.00\n",
       "15         0.00\n",
       "16         0.00\n",
       "17         0.00\n",
       "18         0.00\n",
       "19         0.00\n",
       "20        32.40\n",
       "21        30.80\n",
       "22      1022.80\n",
       "23       999.90\n",
       "24         3.30\n",
       "25         6.80\n",
       "26         9.70\n",
       "27        36.70\n",
       "28        26.20\n",
       "29         0.13\n",
       "         ...   \n",
       "7250       0.00\n",
       "7251    2013.00\n",
       "7252      12.00\n",
       "7253      30.00\n",
       "7254       1.00\n",
       "7255       1.00\n",
       "7256       0.00\n",
       "7257       0.00\n",
       "7258       0.00\n",
       "7259       0.00\n",
       "7260      32.20\n",
       "7261      31.70\n",
       "7262    1030.20\n",
       "7263    1007.10\n",
       "7264       1.20\n",
       "7265       6.80\n",
       "7266       9.70\n",
       "7267      34.30\n",
       "7268      28.80\n",
       "7269       0.02\n",
       "7270       0.00\n",
       "7271    2013.00\n",
       "7272      12.00\n",
       "7273      31.00\n",
       "7274       1.00\n",
       "7275       0.00\n",
       "7276       0.00\n",
       "7277       0.00\n",
       "7278       0.00\n",
       "7279       0.00\n",
       "Length: 7280, dtype: float64"
      ]
     },
     "execution_count": 232,
     "metadata": {},
     "output_type": "execute_result"
    }
   ],
   "source": [
    "years[1]"
   ]
  },
  {
   "cell_type": "code",
   "execution_count": 233,
   "metadata": {
    "scrolled": true
   },
   "outputs": [
    {
     "name": "stdout",
     "output_type": "stream",
     "text": [
      "(52, 26)\n",
      "(52, 24)\n",
      "(52, 52)\n",
      "(52, 44)\n"
     ]
    }
   ],
   "source": [
    "for i in range(4):\n",
    "    X_ndvi_list[i] = X_ndvi_list[i].transpose()\n",
    "    print(X_ndvi_list[i].shape)\n"
   ]
  },
  {
   "cell_type": "code",
   "execution_count": 234,
   "metadata": {},
   "outputs": [],
   "source": [
    "X1 = [0,0,0,0]"
   ]
  },
  {
   "cell_type": "code",
   "execution_count": 235,
   "metadata": {},
   "outputs": [
    {
     "name": "stdout",
     "output_type": "stream",
     "text": [
      "26\n",
      "(52, 26) (7280, 26)\n",
      "(26, 7332)\n",
      "24\n",
      "(52, 24) (7280, 24)\n",
      "(24, 7332)\n",
      "52\n",
      "(52, 52) (7280, 52)\n",
      "(52, 7332)\n",
      "44\n",
      "(52, 44) (7280, 44)\n",
      "(44, 7332)\n"
     ]
    }
   ],
   "source": [
    "for i in range(4):\n",
    "    print(len(Y_list[i].index))\n",
    "    df = pd.DataFrame(years[i])\n",
    "    for j in range(len(Y_list[i].index)-1):\n",
    "        df = pd.concat([df,years[i]], axis=1)\n",
    "    df.columns = range(len(Y_list[i].index))\n",
    "    print(X_ndvi_list[i].shape, df.shape)\n",
    "    X1[i] = pd.concat([X_ndvi_list[i],df], join = 'inner')\n",
    "    X1[i] = X1[i].transpose()\n",
    "    print(X1[i].shape)"
   ]
  },
  {
   "cell_type": "code",
   "execution_count": 236,
   "metadata": {},
   "outputs": [],
   "source": [
    "X_train, X_test, Y_train, Y_test = pd.concat([X1[0],X1[1],X1[2]]), X1[3], pd.concat([Y_list[0],Y_list[1],Y_list[2]]), Y_list[3] "
   ]
  },
  {
   "cell_type": "code",
   "execution_count": 190,
   "metadata": {},
   "outputs": [],
   "source": [
    "X_train.index = range(102)\n",
    "Y_train.index = range(102)\n"
   ]
  },
  {
   "cell_type": "code",
   "execution_count": 191,
   "metadata": {},
   "outputs": [
    {
     "name": "stdout",
     "output_type": "stream",
     "text": [
      "(102, 7332)\n",
      "(44, 7332)\n",
      "(102,)\n",
      "(44,)\n"
     ]
    }
   ],
   "source": [
    "Y_train = pd.Series(Y_train.values.ravel())\n",
    "Y_test = pd.Series(Y_test.values.ravel())\n",
    "\n",
    "# X_tr = X_train.values\n",
    "# Y_tr = Y_train.values\n",
    "# X_tst = X_test.values\n",
    "# Y_tst = Y_test.values\n",
    "\n",
    "# print('X_tr', X_tr.shape)\n",
    "# print('X_tst', X_tst.shape)\n",
    "# print('Y_tr', Y_tr.shape)\n",
    "# print('Y_tst', Y_tst.shape)\n",
    "\n",
    "print(X_train.shape)\n",
    "print(X_test.shape)\n",
    "print(Y_train.shape)\n",
    "print(Y_test.shape)"
   ]
  },
  {
   "cell_type": "code",
   "execution_count": 192,
   "metadata": {},
   "outputs": [],
   "source": [
    "data = data.dropna()"
   ]
  },
  {
   "cell_type": "code",
   "execution_count": 193,
   "metadata": {},
   "outputs": [],
   "source": [
    "from sklearn.preprocessing import MinMaxScaler\n",
    "from sklearn.model_selection import train_test_split"
   ]
  },
  {
   "cell_type": "code",
   "execution_count": 196,
   "metadata": {},
   "outputs": [],
   "source": [
    "scaler = MinMaxScaler()\n",
    "X_train = scaler.fit_transform(X_train)"
   ]
  },
  {
   "cell_type": "code",
   "execution_count": 197,
   "metadata": {},
   "outputs": [],
   "source": [
    "#train_data = pd.concat([X_train, Y_train], axis=1)\n",
    "#test_data = pd.concat([X_test, Y_test], axis=1)"
   ]
  },
  {
   "cell_type": "code",
   "execution_count": 198,
   "metadata": {},
   "outputs": [],
   "source": [
    "#train_data.iloc[:,:train_data.shape[1] - 1] = scaler.fit_transform(train_data.iloc[:,:train_data.shape[1] - 1])"
   ]
  },
  {
   "cell_type": "code",
   "execution_count": 24,
   "metadata": {},
   "outputs": [],
   "source": []
  },
  {
   "cell_type": "code",
   "execution_count": 25,
   "metadata": {
    "scrolled": false
   },
   "outputs": [
    {
     "data": {
      "text/html": [
       "<div>\n",
       "<style>\n",
       "    .dataframe thead tr:only-child th {\n",
       "        text-align: right;\n",
       "    }\n",
       "\n",
       "    .dataframe thead th {\n",
       "        text-align: left;\n",
       "    }\n",
       "\n",
       "    .dataframe tbody tr th {\n",
       "        vertical-align: top;\n",
       "    }\n",
       "</style>\n",
       "<table border=\"1\" class=\"dataframe\">\n",
       "  <thead>\n",
       "    <tr style=\"text-align: right;\">\n",
       "      <th></th>\n",
       "      <th>-52</th>\n",
       "      <th>-51</th>\n",
       "      <th>-50</th>\n",
       "      <th>-49</th>\n",
       "      <th>-48</th>\n",
       "      <th>-47</th>\n",
       "      <th>-46</th>\n",
       "      <th>-45</th>\n",
       "      <th>-44</th>\n",
       "      <th>-43</th>\n",
       "      <th>...</th>\n",
       "      <th>7271</th>\n",
       "      <th>7272</th>\n",
       "      <th>7273</th>\n",
       "      <th>7274</th>\n",
       "      <th>7275</th>\n",
       "      <th>7276</th>\n",
       "      <th>7277</th>\n",
       "      <th>7278</th>\n",
       "      <th>7279</th>\n",
       "      <th>0</th>\n",
       "    </tr>\n",
       "  </thead>\n",
       "  <tbody>\n",
       "    <tr>\n",
       "      <th>0</th>\n",
       "      <td>0.134078</td>\n",
       "      <td>0.142012</td>\n",
       "      <td>0.141355</td>\n",
       "      <td>0.140704</td>\n",
       "      <td>0.140058</td>\n",
       "      <td>0.124155</td>\n",
       "      <td>0.123581</td>\n",
       "      <td>0.123013</td>\n",
       "      <td>0.122449</td>\n",
       "      <td>0.123167</td>\n",
       "      <td>...</td>\n",
       "      <td>0.0</td>\n",
       "      <td>0.0</td>\n",
       "      <td>0.0</td>\n",
       "      <td>0.0</td>\n",
       "      <td>0.0</td>\n",
       "      <td>0.0</td>\n",
       "      <td>0.0</td>\n",
       "      <td>0.0</td>\n",
       "      <td>0.0</td>\n",
       "      <td>2.70</td>\n",
       "    </tr>\n",
       "    <tr>\n",
       "      <th>1</th>\n",
       "      <td>0.287709</td>\n",
       "      <td>0.304734</td>\n",
       "      <td>0.303324</td>\n",
       "      <td>0.301926</td>\n",
       "      <td>0.300542</td>\n",
       "      <td>0.286740</td>\n",
       "      <td>0.285414</td>\n",
       "      <td>0.284100</td>\n",
       "      <td>0.282799</td>\n",
       "      <td>0.284457</td>\n",
       "      <td>...</td>\n",
       "      <td>0.0</td>\n",
       "      <td>0.0</td>\n",
       "      <td>0.0</td>\n",
       "      <td>0.0</td>\n",
       "      <td>0.0</td>\n",
       "      <td>0.0</td>\n",
       "      <td>0.0</td>\n",
       "      <td>0.0</td>\n",
       "      <td>0.0</td>\n",
       "      <td>0.75</td>\n",
       "    </tr>\n",
       "    <tr>\n",
       "      <th>2</th>\n",
       "      <td>0.156425</td>\n",
       "      <td>0.165680</td>\n",
       "      <td>0.164914</td>\n",
       "      <td>0.164154</td>\n",
       "      <td>0.163401</td>\n",
       "      <td>0.147804</td>\n",
       "      <td>0.147121</td>\n",
       "      <td>0.146444</td>\n",
       "      <td>0.145773</td>\n",
       "      <td>0.146628</td>\n",
       "      <td>...</td>\n",
       "      <td>0.0</td>\n",
       "      <td>0.0</td>\n",
       "      <td>0.0</td>\n",
       "      <td>0.0</td>\n",
       "      <td>0.0</td>\n",
       "      <td>0.0</td>\n",
       "      <td>0.0</td>\n",
       "      <td>0.0</td>\n",
       "      <td>0.0</td>\n",
       "      <td>0.88</td>\n",
       "    </tr>\n",
       "    <tr>\n",
       "      <th>3</th>\n",
       "      <td>0.198324</td>\n",
       "      <td>0.210059</td>\n",
       "      <td>0.209087</td>\n",
       "      <td>0.208124</td>\n",
       "      <td>0.207170</td>\n",
       "      <td>0.192145</td>\n",
       "      <td>0.191257</td>\n",
       "      <td>0.190377</td>\n",
       "      <td>0.189504</td>\n",
       "      <td>0.190616</td>\n",
       "      <td>...</td>\n",
       "      <td>0.0</td>\n",
       "      <td>0.0</td>\n",
       "      <td>0.0</td>\n",
       "      <td>0.0</td>\n",
       "      <td>0.0</td>\n",
       "      <td>0.0</td>\n",
       "      <td>0.0</td>\n",
       "      <td>0.0</td>\n",
       "      <td>0.0</td>\n",
       "      <td>1.69</td>\n",
       "    </tr>\n",
       "    <tr>\n",
       "      <th>4</th>\n",
       "      <td>0.027933</td>\n",
       "      <td>0.029586</td>\n",
       "      <td>0.029449</td>\n",
       "      <td>0.029313</td>\n",
       "      <td>0.029179</td>\n",
       "      <td>0.011824</td>\n",
       "      <td>0.011770</td>\n",
       "      <td>0.011715</td>\n",
       "      <td>0.011662</td>\n",
       "      <td>0.011730</td>\n",
       "      <td>...</td>\n",
       "      <td>0.0</td>\n",
       "      <td>0.0</td>\n",
       "      <td>0.0</td>\n",
       "      <td>0.0</td>\n",
       "      <td>0.0</td>\n",
       "      <td>0.0</td>\n",
       "      <td>0.0</td>\n",
       "      <td>0.0</td>\n",
       "      <td>0.0</td>\n",
       "      <td>2.83</td>\n",
       "    </tr>\n",
       "  </tbody>\n",
       "</table>\n",
       "<p>5 rows × 7333 columns</p>\n",
       "</div>"
      ],
      "text/plain": [
       "      -52       -51       -50       -49       -48       -47       -46    \\\n",
       "0  0.134078  0.142012  0.141355  0.140704  0.140058  0.124155  0.123581   \n",
       "1  0.287709  0.304734  0.303324  0.301926  0.300542  0.286740  0.285414   \n",
       "2  0.156425  0.165680  0.164914  0.164154  0.163401  0.147804  0.147121   \n",
       "3  0.198324  0.210059  0.209087  0.208124  0.207170  0.192145  0.191257   \n",
       "4  0.027933  0.029586  0.029449  0.029313  0.029179  0.011824  0.011770   \n",
       "\n",
       "      -45       -44       -43    ...     7271   7272   7273   7274   7275  \\\n",
       "0  0.123013  0.122449  0.123167  ...      0.0    0.0    0.0    0.0    0.0   \n",
       "1  0.284100  0.282799  0.284457  ...      0.0    0.0    0.0    0.0    0.0   \n",
       "2  0.146444  0.145773  0.146628  ...      0.0    0.0    0.0    0.0    0.0   \n",
       "3  0.190377  0.189504  0.190616  ...      0.0    0.0    0.0    0.0    0.0   \n",
       "4  0.011715  0.011662  0.011730  ...      0.0    0.0    0.0    0.0    0.0   \n",
       "\n",
       "    7276   7277   7278   7279   0     \n",
       "0    0.0    0.0    0.0    0.0   2.70  \n",
       "1    0.0    0.0    0.0    0.0   0.75  \n",
       "2    0.0    0.0    0.0    0.0   0.88  \n",
       "3    0.0    0.0    0.0    0.0   1.69  \n",
       "4    0.0    0.0    0.0    0.0   2.83  \n",
       "\n",
       "[5 rows x 7333 columns]"
      ]
     },
     "execution_count": 25,
     "metadata": {},
     "output_type": "execute_result"
    }
   ],
   "source": [
    "#data.head()"
   ]
  },
  {
   "cell_type": "code",
   "execution_count": 26,
   "metadata": {},
   "outputs": [
    {
     "name": "stdout",
     "output_type": "stream",
     "text": [
      "(109, 7333)\n",
      "(37, 7333)\n"
     ]
    }
   ],
   "source": [
    "#train_data, test_data = data[data]\n",
    "\n",
    "#print(train_data.shape)\n",
    "#print(test_data.shape)"
   ]
  },
  {
   "cell_type": "code",
   "execution_count": 199,
   "metadata": {},
   "outputs": [
    {
     "name": "stdout",
     "output_type": "stream",
     "text": [
      "(102, 7332)\n",
      "(44, 7332)\n",
      "(102,)\n",
      "(44,)\n"
     ]
    }
   ],
   "source": [
    "#n = train_data.shape[1]\n",
    "\n",
    "#X_train = train_data.iloc[:,:(n-1)]\n",
    "#X_test = test_data.iloc[:,:(n-1)]\n",
    "#Y_train = train_data.iloc[:,(n-1)]\n",
    "#Y_test = test_data.iloc[:,(n-1)]\n",
    "\n",
    "print(X_train.shape)\n",
    "print(X_test.shape)\n",
    "print(Y_train.shape)\n",
    "print(Y_test.shape)"
   ]
  },
  {
   "cell_type": "code",
   "execution_count": 200,
   "metadata": {},
   "outputs": [],
   "source": [
    "#X_sm_train = X_train.drop(X_train.columns[range(200,-1)], axis=1)"
   ]
  },
  {
   "cell_type": "code",
   "execution_count": 213,
   "metadata": {
    "scrolled": false
   },
   "outputs": [
    {
     "data": {
      "text/plain": [
       "-0.19774751449551542"
      ]
     },
     "execution_count": 213,
     "metadata": {},
     "output_type": "execute_result"
    }
   ],
   "source": [
    "#from sklearn.ensemble import RandomForestRegressor\n",
    "#from sklearn.metrics import r2_score\n",
    "\n",
    "#model = RandomForestRegressor(n_estimators=500)\n",
    "#model = model.fit(X_train, Y_train)\n",
    "#Y_pred = model.predict(X_test)\n",
    "#r2_score(Y_test, Y_pred)"
   ]
  },
  {
   "cell_type": "code",
   "execution_count": 215,
   "metadata": {},
   "outputs": [
    {
     "name": "stdout",
     "output_type": "stream",
     "text": [
      "Start training...\n",
      "[1]\tvalid_0's l2: 0.413865\tvalid_0's auc: 1\n",
      "Train until valid scores didn't improve in 5 rounds.\n",
      "[2]\tvalid_0's l2: 0.411049\tvalid_0's auc: 1\n",
      "[3]\tvalid_0's l2: 0.409548\tvalid_0's auc: 1\n",
      "[4]\tvalid_0's l2: 0.401802\tvalid_0's auc: 1\n",
      "[5]\tvalid_0's l2: 0.398089\tvalid_0's auc: 1\n",
      "[6]\tvalid_0's l2: 0.390618\tvalid_0's auc: 1\n",
      "Early stopping, best iteration is:\n",
      "[1]\tvalid_0's l2: 0.413865\tvalid_0's auc: 1\n",
      "Save model...\n",
      "Start predicting...\n",
      "The rmse of prediction is: 0.643323170574\n"
     ]
    },
    {
     "name": "stderr",
     "output_type": "stream",
     "text": [
      "/usr/local/lib/python3.5/dist-packages/lightgbm/engine.py:167: UserWarning: Using Pandas (default) integer column names, not column indexes. You can use indexes with DataFrame.values.\n",
      "  booster.add_valid(valid_set, name_valid_set)\n",
      "/home/tetiana/.local/lib/python3.5/site-packages/IPython/core/interactiveshell.py:2910: UserWarning: Using Pandas (default) integer column names, not column indexes. You can use indexes with DataFrame.values.\n",
      "  exec(code_obj, self.user_global_ns, self.user_ns)\n"
     ]
    }
   ],
   "source": [
    "import lightgbm as lgb\n",
    "from sklearn.metrics import mean_squared_error\n",
    "from sklearn.model_selection import GridSearchCV\n",
    "\n",
    "                            \n",
    "\n",
    "# create dataset for lightgbm\n",
    "lgb_train = lgb.Dataset(X_train, Y_train)\n",
    "lgb_eval = lgb.Dataset(X_test, Y_test, reference=lgb_train)\n",
    "\n",
    "# specify your configurations as a dict\n",
    "params = {\n",
    "    'task': 'train',\n",
    "    'boosting_type': 'gbdt',\n",
    "    'objective': 'regression',\n",
    "    'metric': {'l2', 'auc'},\n",
    "    'num_leaves': 31,\n",
    "    'learning_rate': 0.05,\n",
    "    'feature_fraction': 0.9,\n",
    "    'bagging_fraction': 0.8,\n",
    "    'bagging_freq': 5,\n",
    "    'verbose': 0\n",
    "}\n",
    "\n",
    "print('Start training...')\n",
    "# train\n",
    "gbm = lgb.train(params,\n",
    "                lgb_train,\n",
    "                num_boost_round=20,\n",
    "                valid_sets=lgb_eval,\n",
    "                early_stopping_rounds=5)\n",
    "\n",
    "print('Save model...')\n",
    "# save model to file\n",
    "gbm.save_model('model.txt')\n",
    "\n",
    "print('Start predicting...')\n",
    "# predict\n",
    "Y_pred = gbm.predict(X_test, num_iteration=gbm.best_iteration)\n",
    "# eval\n",
    "print('The rmse of prediction is:', mean_squared_error(Y_test, Y_pred) ** 0.5)"
   ]
  },
  {
   "cell_type": "code",
   "execution_count": 220,
   "metadata": {},
   "outputs": [
    {
     "data": {
      "text/plain": [
       "-463548.5191509368"
      ]
     },
     "execution_count": 220,
     "metadata": {},
     "output_type": "execute_result"
    }
   ],
   "source": [
    "from sklearn.neural_network import MLPRegressor\n",
    "from sklearn.metrics import r2_score\n",
    "\n",
    "model = MLPRegressor()\n",
    "model = model.fit(X_train, Y_train)\n",
    "Y_pred = model.predict(X_test)\n",
    "r2_score(Y_test, Y_pred)"
   ]
  },
  {
   "cell_type": "code",
   "execution_count": 832,
   "metadata": {},
   "outputs": [
    {
     "data": {
      "text/plain": [
       "109"
      ]
     },
     "execution_count": 832,
     "metadata": {},
     "output_type": "execute_result"
    }
   ],
   "source": [
    "np.isfinite(Y_train).sum().sum()"
   ]
  },
  {
   "cell_type": "code",
   "execution_count": 827,
   "metadata": {},
   "outputs": [
    {
     "data": {
      "text/plain": [
       "813852"
      ]
     },
     "execution_count": 827,
     "metadata": {},
     "output_type": "execute_result"
    }
   ],
   "source": [
    "X_train.shape[0] * X_train.shape[1]"
   ]
  },
  {
   "cell_type": "code",
   "execution_count": 829,
   "metadata": {},
   "outputs": [],
   "source": [
    "for dt in X_train.dtypes:\n",
    "    if dt != np.float64:\n",
    "        print(type(dt))"
   ]
  },
  {
   "cell_type": "code",
   "execution_count": 833,
   "metadata": {},
   "outputs": [
    {
     "data": {
      "text/plain": [
       "array([ 0.94,  1.67,  1.13,  1.89,  1.61,  2.86,  1.37,  2.49,  0.97,\n",
       "        1.46,  1.95,  2.42,  1.2 ,  2.85,  3.01,  1.4 ,  2.52,  2.22,\n",
       "        1.47,  2.4 ,  2.16,  1.11,  0.7 ,  3.02,  0.84,  2.1 ,  1.58,\n",
       "        2.9 ,  1.57,  1.77,  1.72,  1.43,  1.98,  3.13,  1.28,  0.76,\n",
       "        0.98,  0.81,  3.44,  1.86,  2.2 ,  1.29,   nan,  1.75,  2.57,\n",
       "        1.87,  1.9 ,  3.15,  0.13,  2.39,  2.97,  2.51,  1.55,  2.17,\n",
       "        1.79,  2.99,  2.5 ,  1.15,  1.91,  3.09,  2.04,  1.62,  1.26,\n",
       "        3.31,  0.95,  2.58,  0.88,  0.96,  1.73,  2.94,  3.22,  1.94,\n",
       "        2.76,  2.68,  2.3 ,  2.78,  2.83,  2.89,  2.7 ,  0.77,  2.37,\n",
       "        3.05,  1.18,  0.9 ,  3.23,  0.75,  0.65,  1.05])"
      ]
     },
     "execution_count": 833,
     "metadata": {},
     "output_type": "execute_result"
    }
   ],
   "source": [
    "Y_train.unique()"
   ]
  },
  {
   "cell_type": "code",
   "execution_count": null,
   "metadata": {},
   "outputs": [],
   "source": []
  }
 ],
 "metadata": {
  "kernelspec": {
   "display_name": "Python 3",
   "language": "python",
   "name": "python3"
  },
  "language_info": {
   "codemirror_mode": {
    "name": "ipython",
    "version": 3
   },
   "file_extension": ".py",
   "mimetype": "text/x-python",
   "name": "python",
   "nbconvert_exporter": "python",
   "pygments_lexer": "ipython3",
   "version": "3.5.2"
  }
 },
 "nbformat": 4,
 "nbformat_minor": 2
}
