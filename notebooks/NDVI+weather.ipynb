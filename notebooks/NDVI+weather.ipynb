{
 "cells": [
  {
   "cell_type": "code",
   "execution_count": 80,
   "metadata": {
    "collapsed": true
   },
   "outputs": [],
   "source": [
    "import pandas as pd\n",
    "import numpy as np"
   ]
  },
  {
   "cell_type": "code",
   "execution_count": 81,
   "metadata": {
    "collapsed": true
   },
   "outputs": [],
   "source": [
    "frames = []\n",
    "for i in range(4):\n",
    "    frames.append(pd.read_csv('../data/Sunflower_201'+str(i+2)+'.csv'))\n",
    "\n",
    "for df in frames:\n",
    "    df.drop(df.columns[[0,1]],axis=1,inplace=True)\n",
    "\n",
    "X_ndvi_list = []\n",
    "Y_list = []"
   ]
  },
  {
   "cell_type": "code",
   "execution_count": 82,
   "metadata": {
    "collapsed": true
   },
   "outputs": [],
   "source": [
    "for df in frames:\n",
    "    X_ndvi_list.append(df.loc[:, df.columns != 'yield'])\n",
    "    Y_list.append(df.loc[:, df.columns == 'yield'])\n"
   ]
  },
  {
   "cell_type": "code",
   "execution_count": 83,
   "metadata": {
    "collapsed": true
   },
   "outputs": [],
   "source": [
    "for i in range(4):\n",
    "    X_ndvi_list[i].columns = range(-52,0,1)\n"
   ]
  },
  {
   "cell_type": "code",
   "execution_count": 84,
   "metadata": {},
   "outputs": [
    {
     "data": {
      "text/plain": [
       "(24, 52)"
      ]
     },
     "execution_count": 84,
     "metadata": {},
     "output_type": "execute_result"
    }
   ],
   "source": [
    "X_ndvi_list[1].shape"
   ]
  },
  {
   "cell_type": "code",
   "execution_count": 85,
   "metadata": {},
   "outputs": [],
   "source": [
    "frames = []\n",
    "for i in range(4):\n",
    "    frames.append(pd.DataFrame.from_csv('../data/201'+str(i+2)+'.csv'))\n"
   ]
  },
  {
   "cell_type": "code",
   "execution_count": 86,
   "metadata": {
    "collapsed": true
   },
   "outputs": [],
   "source": [
    "for df in frames:\n",
    "    df.drop(df.columns[[0, 1,4,6,8,10,12,14,16]], axis=1, inplace=True)\n",
    "    df['year'] = df['yearmoda'] // 10000\n",
    "    df['month'] = df['yearmoda'] // 100 % 100\n",
    "    df['day'] = df['yearmoda'] % 100\n",
    "    df['sndp'].replace(999.9,0, inplace = True)\n",
    "    df['yearmoda1'] = df['yearmoda'].astype(str).apply(lambda x: x[:9])\n",
    "    df.index = pd.to_datetime(df['yearmoda1'], format='%Y%m%d').values\n",
    "    df.drop(df.columns[[0,16]], axis=1, inplace=True)\n",
    "    for x in df[df['wdsp'] == 999.9].index:\n",
    "        df.loc[x,'wdsp'] = np.NaN\n",
    "    df['wdsp'] = df['wdsp'].interpolate(method='time')\n",
    "    for x in df[df['mxspd'] == 999.9].index:\n",
    "        df.loc[x,'mxspd'] = np.NaN\n",
    "    df['mxspd'] = df['mxspd'].interpolate(method='time')\n",
    "    for x in df[df['prcp'] == '99.99'].index:\n",
    "        df.loc[x,'prcp'] = np.NaN\n",
    "    for x in df.index:\n",
    "        if (str(df.loc[x,'prcp'])[-1] == 'I') or (str(df.loc[x,'prcp'])[-1] == 'H'):\n",
    "            df.loc[x,'prcp'] = np.NaN\n",
    "    for x in df[df['prcp'].notnull()].index:\n",
    "        df.loc[x,'prcp'] = df.loc[x,'prcp'][:-1]\n",
    "    for x in df.index:\n",
    "        if (str(df.loc[x,'max'])[-1] == '*'):\n",
    "            df.loc[x,'max'] = df.loc[x,'max'][:-1]\n",
    "        if (str(df.loc[x,'min'])[-1] == '*'):\n",
    "            df.loc[x,'min'] = df.loc[x,'min'][:-1]\n",
    "    df['max']=df['max'].astype(np.float64)\n",
    "    df['min']=df['min'].astype(np.float64)\n",
    "    df['prcp']=df['prcp'].astype(np.float64)\n",
    "    df['prcp'] = df['prcp'].interpolate(method='time')\n",
    "    \n",
    "    \n",
    "    \n"
   ]
  },
  {
   "cell_type": "code",
   "execution_count": 87,
   "metadata": {
    "collapsed": true
   },
   "outputs": [],
   "source": [
    "for df in frames:\n",
    "    df['fog'] = df['frshtt'] // 100000\n",
    "    df['rain'] = df['frshtt'] // 10000 % 10\n",
    "    df['snow'] = df['frshtt'] // 1000 % 10\n",
    "    df['hail'] = df['frshtt'] // 100 % 10\n",
    "    df['thunder'] = df['frshtt'] // 10 % 10\n",
    "    df['tornado'] = df['frshtt'] % 10\n",
    "    df.drop(['frshtt'],axis = 1, inplace = True)\n",
    "\n",
    "\n",
    "    \n",
    "    \n",
    "    "
   ]
  },
  {
   "cell_type": "code",
   "execution_count": 88,
   "metadata": {},
   "outputs": [
    {
     "data": {
      "text/plain": [
       "(366, 20)"
      ]
     },
     "execution_count": 88,
     "metadata": {},
     "output_type": "execute_result"
    }
   ],
   "source": [
    "frames[0].shape"
   ]
  },
  {
   "cell_type": "code",
   "execution_count": 89,
   "metadata": {
    "collapsed": true
   },
   "outputs": [],
   "source": [
    "for i in range(3):\n",
    "    frames[i] = frames[i].fillna(method='bfill')"
   ]
  },
  {
   "cell_type": "code",
   "execution_count": 90,
   "metadata": {},
   "outputs": [
    {
     "name": "stdout",
     "output_type": "stream",
     "text": [
      "(7280,)\n",
      "(7280,)\n",
      "(7280,)\n",
      "(7280,)\n"
     ]
    }
   ],
   "source": [
    "years = []\n",
    "years.append(pd.Series(frames[0].values.ravel()[:-40]))\n",
    "years.append(pd.Series(frames[1].values.ravel()))\n",
    "years.append(pd.Series(frames[2].values.ravel()))\n",
    "years.append(pd.Series(frames[3].values.ravel()[:-20]))\n",
    "for year in years:\n",
    "    print(year.shape)"
   ]
  },
  {
   "cell_type": "code",
   "execution_count": 91,
   "metadata": {},
   "outputs": [
    {
     "data": {
      "text/plain": [
       "0         28.40\n",
       "1         25.00\n",
       "2       1022.50\n",
       "3        999.40\n",
       "4          7.40\n",
       "5          5.30\n",
       "6          7.80\n",
       "7         35.60\n",
       "8         19.90\n",
       "9          0.13\n",
       "10         3.90\n",
       "11      2013.00\n",
       "12         1.00\n",
       "13         1.00\n",
       "14         1.00\n",
       "15         0.00\n",
       "16         0.00\n",
       "17         0.00\n",
       "18         0.00\n",
       "19         0.00\n",
       "20        32.40\n",
       "21        30.80\n",
       "22      1022.80\n",
       "23       999.90\n",
       "24         3.30\n",
       "25         6.80\n",
       "26         9.70\n",
       "27        36.70\n",
       "28        26.20\n",
       "29         0.13\n",
       "         ...   \n",
       "7250       0.00\n",
       "7251    2013.00\n",
       "7252      12.00\n",
       "7253      30.00\n",
       "7254       1.00\n",
       "7255       1.00\n",
       "7256       0.00\n",
       "7257       0.00\n",
       "7258       0.00\n",
       "7259       0.00\n",
       "7260      32.20\n",
       "7261      31.70\n",
       "7262    1030.20\n",
       "7263    1007.10\n",
       "7264       1.20\n",
       "7265       6.80\n",
       "7266       9.70\n",
       "7267      34.30\n",
       "7268      28.80\n",
       "7269       0.02\n",
       "7270       0.00\n",
       "7271    2013.00\n",
       "7272      12.00\n",
       "7273      31.00\n",
       "7274       1.00\n",
       "7275       0.00\n",
       "7276       0.00\n",
       "7277       0.00\n",
       "7278       0.00\n",
       "7279       0.00\n",
       "Length: 7280, dtype: float64"
      ]
     },
     "execution_count": 91,
     "metadata": {},
     "output_type": "execute_result"
    }
   ],
   "source": [
    "years[1]"
   ]
  },
  {
   "cell_type": "code",
   "execution_count": 92,
   "metadata": {
    "scrolled": true
   },
   "outputs": [
    {
     "name": "stdout",
     "output_type": "stream",
     "text": [
      "(52, 26)\n",
      "(52, 24)\n",
      "(52, 52)\n",
      "(52, 44)\n"
     ]
    }
   ],
   "source": [
    "for i in range(4):\n",
    "    X_ndvi_list[i] = X_ndvi_list[i].transpose()\n",
    "    print(X_ndvi_list[i].shape)\n"
   ]
  },
  {
   "cell_type": "code",
   "execution_count": 93,
   "metadata": {},
   "outputs": [
    {
     "name": "stdout",
     "output_type": "stream",
     "text": [
      "(26, 7332)\n",
      "(24, 7332)\n",
      "(52, 7332)\n",
      "(44, 7332)\n"
     ]
    }
   ],
   "source": [
    "X1 = [0, 0, 0, 0]\n",
    "\n",
    "for i in range(4):\n",
    "\n",
    "    df = pd.DataFrame(years[i])\n",
    "    for j in range(len(Y_list[i].index)-1):\n",
    "        df = pd.concat([df,years[i]], axis=1)\n",
    "    df.columns = range(len(Y_list[i].index))\n",
    "    X1[i] = pd.concat([X_ndvi_list[i],df], join = 'inner')\n",
    "    X1[i] = X1[i].transpose()\n",
    "    print(X1[i].shape)"
   ]
  },
  {
   "cell_type": "code",
   "execution_count": 94,
   "metadata": {
    "collapsed": true
   },
   "outputs": [],
   "source": [
    "X_train, X_test, Y_train, Y_test = pd.concat([X1[0],X1[1],X1[2]]), X1[3], pd.concat([Y_list[0],Y_list[1],Y_list[2]]), Y_list[3] "
   ]
  },
  {
   "cell_type": "code",
   "execution_count": 95,
   "metadata": {},
   "outputs": [],
   "source": [
    "# X_train.index = range(104)\n",
    "# Y_train.index = range(104)\n",
    "\n",
    "X_train.reset_index(inplace=True)\n",
    "X_test.reset_index(inplace=True)"
   ]
  },
  {
   "cell_type": "code",
   "execution_count": 96,
   "metadata": {},
   "outputs": [
    {
     "name": "stdout",
     "output_type": "stream",
     "text": [
      "(102, 7333)\n",
      "(44, 7333)\n",
      "(102,)\n",
      "(44,)\n"
     ]
    }
   ],
   "source": [
    "Y_train = pd.Series(Y_train.values.ravel())\n",
    "Y_test = pd.Series(Y_test.values.ravel())\n",
    "\n",
    "# X_tr = X_train.values\n",
    "# Y_tr = Y_train.values\n",
    "# X_tst = X_test.values\n",
    "# Y_tst = Y_test.values\n",
    "\n",
    "# print('X_tr', X_tr.shape)\n",
    "# print('X_tst', X_tst.shape)\n",
    "# print('Y_tr', Y_tr.shape)\n",
    "# print('Y_tst', Y_tst.shape)\n",
    "\n",
    "print(X_train.shape)\n",
    "print(X_test.shape)\n",
    "print(Y_train.shape)\n",
    "print(Y_test.shape)"
   ]
  },
  {
   "cell_type": "code",
   "execution_count": 97,
   "metadata": {
    "collapsed": true
   },
   "outputs": [],
   "source": [
    "from sklearn.preprocessing import MinMaxScaler\n",
    "from sklearn.model_selection import train_test_split"
   ]
  },
  {
   "cell_type": "code",
   "execution_count": 98,
   "metadata": {},
   "outputs": [],
   "source": [
    "# train_data = pd.concat([X_train, Y_train], axis=1)\n",
    "# test_data = pd.concat([X_test, Y_test], axis=1)"
   ]
  },
  {
   "cell_type": "code",
   "execution_count": 99,
   "metadata": {},
   "outputs": [],
   "source": [
    "# data = pd.concat([train_data, test_data])\n",
    "# data.shape"
   ]
  },
  {
   "cell_type": "code",
   "execution_count": 100,
   "metadata": {
    "collapsed": true
   },
   "outputs": [],
   "source": [
    "# scaler = MinMaxScaler()\n",
    "# data.iloc[:,:data.shape[1] - 1] = scaler.fit_transform(data.iloc[:,:data.shape[1] - 1])"
   ]
  },
  {
   "cell_type": "code",
   "execution_count": 101,
   "metadata": {
    "collapsed": true
   },
   "outputs": [],
   "source": [
    "# data = data.dropna()"
   ]
  },
  {
   "cell_type": "code",
   "execution_count": 102,
   "metadata": {
    "scrolled": false
   },
   "outputs": [],
   "source": [
    "# data.head()"
   ]
  },
  {
   "cell_type": "code",
   "execution_count": 103,
   "metadata": {},
   "outputs": [],
   "source": [
    "# train_data, test_data = train_test_split(data)\n",
    "\n",
    "# print(train_data.shape)\n",
    "# print(test_data.shape)"
   ]
  },
  {
   "cell_type": "code",
   "execution_count": 104,
   "metadata": {},
   "outputs": [
    {
     "name": "stdout",
     "output_type": "stream",
     "text": [
      "(109, 7333)\n",
      "(37, 7333)\n",
      "(109,)\n",
      "(37,)\n"
     ]
    }
   ],
   "source": [
    "n = train_data.shape[1]\n",
    "\n",
    "X_train = train_data.iloc[:,:(n-1)]\n",
    "X_test = test_data.iloc[:,:(n-1)]\n",
    "Y_train = train_data.iloc[:,(n-1)]\n",
    "Y_test = test_data.iloc[:,(n-1)]\n",
    "\n",
    "print(X_train.shape)\n",
    "print(X_test.shape)\n",
    "print(Y_train.shape)\n",
    "print(Y_test.shape)"
   ]
  },
  {
   "cell_type": "code",
   "execution_count": 105,
   "metadata": {
    "collapsed": true
   },
   "outputs": [],
   "source": [
    "#X_sm_train = X_train.drop(X_train.columns[range(200,-1)], axis=1)"
   ]
  },
  {
   "cell_type": "code",
   "execution_count": 120,
   "metadata": {
    "scrolled": false
   },
   "outputs": [
    {
     "data": {
      "text/plain": [
       "1.0"
      ]
     },
     "execution_count": 120,
     "metadata": {},
     "output_type": "execute_result"
    }
   ],
   "source": [
    "from sklearn.ensemble import RandomForestRegressor\n",
    "from sklearn.neural_network import MLPRegressor\n",
    "from sklearn.\n",
    "from sklearn.metrics import r2_score, mean_squared_error\n",
    "\n",
    "model = ()\n",
    "model = model.fit(X_train, Y_train)\n",
    "Y_pred = model.predict(X_test)\n",
    "r2_score(Y_test, Y_pred)"
   ]
  },
  {
   "cell_type": "code",
   "execution_count": 49,
   "metadata": {
    "scrolled": true
   },
   "outputs": [
    {
     "data": {
      "text/plain": [
       "array([ 0.82442748,  1.        ,  0.        ,  0.        ,  1.        ,\n",
       "        0.        ,  0.        ,  0.82442748,  0.        ,  0.85496183])"
      ]
     },
     "execution_count": 49,
     "metadata": {},
     "output_type": "execute_result"
    }
   ],
   "source": [
    "Y_pred[:10]"
   ]
  },
  {
   "cell_type": "code",
   "execution_count": 50,
   "metadata": {},
   "outputs": [
    {
     "data": {
      "text/plain": [
       "26    0.824427\n",
       "63    1.000000\n",
       "38    0.000000\n",
       "29    0.000000\n",
       "53    1.000000\n",
       "Name: 0, dtype: float64"
      ]
     },
     "execution_count": 50,
     "metadata": {},
     "output_type": "execute_result"
    }
   ],
   "source": [
    "Y_test.head()"
   ]
  },
  {
   "cell_type": "code",
   "execution_count": 51,
   "metadata": {},
   "outputs": [
    {
     "data": {
      "text/plain": [
       "21    0.000000\n",
       "51    1.000000\n",
       "8     0.854962\n",
       "60    1.000000\n",
       "14    0.000000\n",
       "Name: 0, dtype: float64"
      ]
     },
     "execution_count": 51,
     "metadata": {},
     "output_type": "execute_result"
    }
   ],
   "source": [
    "Y_train.head()"
   ]
  },
  {
   "cell_type": "code",
   "execution_count": 832,
   "metadata": {},
   "outputs": [
    {
     "data": {
      "text/plain": [
       "109"
      ]
     },
     "execution_count": 832,
     "metadata": {},
     "output_type": "execute_result"
    }
   ],
   "source": [
    "np.isfinite(Y_train).sum().sum()"
   ]
  },
  {
   "cell_type": "code",
   "execution_count": 827,
   "metadata": {},
   "outputs": [
    {
     "data": {
      "text/plain": [
       "813852"
      ]
     },
     "execution_count": 827,
     "metadata": {},
     "output_type": "execute_result"
    }
   ],
   "source": [
    "X_train.shape[0] * X_train.shape[1]"
   ]
  },
  {
   "cell_type": "code",
   "execution_count": 829,
   "metadata": {
    "collapsed": true
   },
   "outputs": [],
   "source": [
    "for dt in X_train.dtypes:\n",
    "    if dt != np.float64:\n",
    "        print(type(dt))"
   ]
  },
  {
   "cell_type": "code",
   "execution_count": 833,
   "metadata": {},
   "outputs": [
    {
     "data": {
      "text/plain": [
       "array([ 0.94,  1.67,  1.13,  1.89,  1.61,  2.86,  1.37,  2.49,  0.97,\n",
       "        1.46,  1.95,  2.42,  1.2 ,  2.85,  3.01,  1.4 ,  2.52,  2.22,\n",
       "        1.47,  2.4 ,  2.16,  1.11,  0.7 ,  3.02,  0.84,  2.1 ,  1.58,\n",
       "        2.9 ,  1.57,  1.77,  1.72,  1.43,  1.98,  3.13,  1.28,  0.76,\n",
       "        0.98,  0.81,  3.44,  1.86,  2.2 ,  1.29,   nan,  1.75,  2.57,\n",
       "        1.87,  1.9 ,  3.15,  0.13,  2.39,  2.97,  2.51,  1.55,  2.17,\n",
       "        1.79,  2.99,  2.5 ,  1.15,  1.91,  3.09,  2.04,  1.62,  1.26,\n",
       "        3.31,  0.95,  2.58,  0.88,  0.96,  1.73,  2.94,  3.22,  1.94,\n",
       "        2.76,  2.68,  2.3 ,  2.78,  2.83,  2.89,  2.7 ,  0.77,  2.37,\n",
       "        3.05,  1.18,  0.9 ,  3.23,  0.75,  0.65,  1.05])"
      ]
     },
     "execution_count": 833,
     "metadata": {},
     "output_type": "execute_result"
    }
   ],
   "source": [
    "Y_train.unique()"
   ]
  },
  {
   "cell_type": "code",
   "execution_count": null,
   "metadata": {
    "collapsed": true
   },
   "outputs": [],
   "source": []
  }
 ],
 "metadata": {
  "kernelspec": {
   "display_name": "Python 3",
   "language": "python",
   "name": "python3"
  },
  "language_info": {
   "codemirror_mode": {
    "name": "ipython",
    "version": 3
   },
   "file_extension": ".py",
   "mimetype": "text/x-python",
   "name": "python",
   "nbconvert_exporter": "python",
   "pygments_lexer": "ipython3",
   "version": "3.6.2"
  }
 },
 "nbformat": 4,
 "nbformat_minor": 2
}
