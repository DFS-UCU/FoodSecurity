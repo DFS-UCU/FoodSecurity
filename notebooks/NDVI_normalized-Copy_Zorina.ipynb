{
 "cells": [
  {
   "cell_type": "code",
   "execution_count": null,
   "metadata": {
    "collapsed": true
   },
   "outputs": [],
   "source": [
    "%matplotlib inline\n",
    "import numpy as np\n",
    "from scipy import stats\n",
    "import pandas as pd\n",
    "import matplotlib.pyplot as plt"
   ]
  },
  {
   "cell_type": "code",
   "execution_count": null,
   "metadata": {},
   "outputs": [],
   "source": [
    "def get_year_data(year):\n",
    "    FILE = '../Сводная вегетация.xlsx'\n",
    "    SHEET = year\n",
    "\n",
    "    df = pd.read_excel(FILE, sheetname=SHEET, header=1)\n",
    "\n",
    "    NDVI_COLUMNS = [col for col in df.columns if 'неделя' in col]\n",
    "    CULTURE_COLUMN = 'Культура ' + SHEET\n",
    "    YIELD_COLUMN = 'Урожайность, т./га.'\n",
    "\n",
    "\n",
    "    #df_cultures = df.groupby(df[CULTURE_COLUMN]).mean()\n",
    "    df_cultures = df[df[YIELD_COLUMN].notnull()]#.reset_index()]\n",
    "    df_cultures = df_cultures[df_cultures[CULTURE_COLUMN]=='Подсолнечник']\n",
    "    df_cultures = df_cultures.reset_index()\n",
    "    yield_by_culture = df_cultures[YIELD_COLUMN]\n",
    "    culture = df_cultures[CULTURE_COLUMN]\n",
    "\n",
    "    df_cultures = df_cultures[NDVI_COLUMNS]\n",
    "\n",
    "    df_cultures = df_cultures.apply(lambda x: x.interpolate(method='linear'), axis=1)\n",
    "    df_cultures = df_cultures.apply(lambda x: x.fillna(x[x.first_valid_index()]), axis=1)\n",
    "    return df_cultures, yield_by_culture"
   ]
  },
  {
   "cell_type": "code",
   "execution_count": null,
   "metadata": {},
   "outputs": [],
   "source": [
    "ndvi_2012, yield_2012 = get_year_data('2012')\n",
    "ndvi_2012 = ndvi_2012.drop('неделя 53', 1)\n",
    "ndvi_2013, yield_2013 = get_year_data('2013')\n",
    "ndvi_2014, yield_2014 = get_year_data('2014')\n",
    "ndvi_2015, yield_2015 = get_year_data('2015')"
   ]
  },
  {
   "cell_type": "code",
   "execution_count": null,
   "metadata": {},
   "outputs": [],
   "source": [
    "frames = [ndvi_2012,ndvi_2013,ndvi_2014]\n",
    "join_ndvi = pd.concat(frames)\n",
    "#print(join_ndvi.info())\n",
    "frames = [yield_2012,yield_2013,yield_2014]\n",
    "join_yield = pd.concat(frames)\n",
    "#print(join_yield)"
   ]
  },
  {
   "cell_type": "code",
   "execution_count": null,
   "metadata": {
    "collapsed": true
   },
   "outputs": [],
   "source": [
    "train_X = join_ndvi\n",
    "train_y = join_yield"
   ]
  },
  {
   "cell_type": "code",
   "execution_count": null,
   "metadata": {},
   "outputs": [],
   "source": [
    "from sklearn.cross_validation import train_test_split\n",
    "from sklearn import linear_model\n",
    "lm = linear_model.LinearRegression()\n",
    "model = lm.fit(train_X,train_y)"
   ]
  },
  {
   "cell_type": "code",
   "execution_count": null,
   "metadata": {},
   "outputs": [],
   "source": [
    "predictions = lm.predict(join_ndvi)\n",
    "print(predictions)"
   ]
  },
  {
   "cell_type": "code",
   "execution_count": null,
   "metadata": {},
   "outputs": [],
   "source": [
    "model.score(ndvi_2015,yield_2015)"
   ]
  },
  {
   "cell_type": "code",
   "execution_count": null,
   "metadata": {},
   "outputs": [],
   "source": [
    "from sklearn import svm\n",
    "from sklearn import metrics\n",
    "\n",
    "X = join_ndvi\n",
    "y = join_yield\n",
    "model = svm.SVR(epsilon=0.001)\n",
    "model.fit(X, y)\n"
   ]
  },
  {
   "cell_type": "code",
   "execution_count": null,
   "metadata": {},
   "outputs": [],
   "source": [
    "pred = model.predict(join_ndvi)\n",
    "print(pred)\n",
    "pred = model.predict(ndvi_2015)\n",
    "print(pred)\n",
    "model.score(ndvi_2015,yield_2015)"
   ]
  }
 ],
 "metadata": {
  "kernelspec": {
   "display_name": "Python 3",
   "language": "python",
   "name": "python3"
  },
  "language_info": {
   "codemirror_mode": {
    "name": "ipython",
    "version": 3
   },
   "file_extension": ".py",
   "mimetype": "text/x-python",
   "name": "python",
   "nbconvert_exporter": "python",
   "pygments_lexer": "ipython3",
   "version": "3.5.2"
  }
 },
 "nbformat": 4,
 "nbformat_minor": 2
}
